{
  "nbformat": 4,
  "nbformat_minor": 0,
  "metadata": {
    "colab": {
      "name": "Project-Mohammed AlQenae.ipynb",
      "provenance": [],
      "collapsed_sections": []
    },
    "kernelspec": {
      "name": "python3",
      "display_name": "Python 3"
    },
    "language_info": {
      "name": "python"
    }
  },
  "cells": [
    {
      "cell_type": "markdown",
      "source": [
        "# Project -Mohammed AlQenae\n",
        "\n"
      ],
      "metadata": {
        "id": "xfSnDX-uco5F"
      }
    },
    {
      "cell_type": "markdown",
      "source": [
        "#### **Importing Packages**"
      ],
      "metadata": {
        "id": "2RfMYhn5wcUU"
      }
    },
    {
      "cell_type": "code",
      "execution_count": 1,
      "metadata": {
        "id": "w9mNL_Btqc-O",
        "colab": {
          "base_uri": "https://localhost:8080/",
          "height": 0
        },
        "outputId": "9ccc76a2-b962-4b1d-b57d-9ed4f060bd87"
      },
      "outputs": [
        {
          "output_type": "stream",
          "name": "stderr",
          "text": [
            "/usr/local/lib/python3.7/dist-packages/statsmodels/tools/_testing.py:19: FutureWarning: pandas.util.testing is deprecated. Use the functions in the public API at pandas.testing instead.\n",
            "  import pandas.util.testing as tm\n"
          ]
        }
      ],
      "source": [
        "import numpy as np\n",
        "import pandas as pd\n",
        "import statsmodels.api as sm\n",
        "import matplotlib.pyplot as plt\n",
        "from scipy.stats.mstats import winsorize\n",
        "import statsmodels.api as sm\n",
        "import seaborn as sns"
      ]
    },
    {
      "cell_type": "markdown",
      "source": [
        "#### **Importing Data**"
      ],
      "metadata": {
        "id": "Uy-dS0kZwoX5"
      }
    },
    {
      "cell_type": "markdown",
      "source": [
        "Uploading the stocks with their tickers"
      ],
      "metadata": {
        "id": "BsZo-o45TqjA"
      }
    },
    {
      "cell_type": "code",
      "source": [
        "returns_22=pd.read_csv('ProjectTickers.csv')"
      ],
      "metadata": {
        "id": "YlcjN2DQR0Eq"
      },
      "execution_count": 2,
      "outputs": []
    },
    {
      "cell_type": "markdown",
      "source": [
        "Uploading the monthly stock returns data"
      ],
      "metadata": {
        "id": "dQBjHnA7xi0V"
      }
    },
    {
      "cell_type": "code",
      "source": [
        "returns_data = pd.read_csv('Project-2017-21-Returns.csv')"
      ],
      "metadata": {
        "id": "tyNST1eA7Fs-"
      },
      "execution_count": 3,
      "outputs": []
    },
    {
      "cell_type": "markdown",
      "source": [
        "Uplodading the Fama-French monthly risk factor data"
      ],
      "metadata": {
        "id": "kc6zgLivw49a"
      }
    },
    {
      "cell_type": "code",
      "source": [
        "ff_factors = pd.read_csv('FF-Factors-2017-2021.csv')"
      ],
      "metadata": {
        "id": "WRG5qO2d79UL"
      },
      "execution_count": 4,
      "outputs": []
    },
    {
      "cell_type": "markdown",
      "source": [
        "Uploading the financial report data"
      ],
      "metadata": {
        "id": "OrDOAgf-xmjp"
      }
    },
    {
      "cell_type": "code",
      "source": [
        "financial_data=pd.read_csv('Project-2021-Financials.csv')"
      ],
      "metadata": {
        "id": "I5797XCZIbPm"
      },
      "execution_count": 5,
      "outputs": []
    },
    {
      "cell_type": "markdown",
      "source": [
        "Uploading the Industry Identifier data"
      ],
      "metadata": {
        "id": "QfEL9FEXHqG9"
      }
    },
    {
      "cell_type": "code",
      "source": [
        "industry_data=pd.read_csv('Project-2021-Sector.csv')"
      ],
      "metadata": {
        "id": "4HQ00bprHy8s"
      },
      "execution_count": 6,
      "outputs": []
    },
    {
      "cell_type": "markdown",
      "source": [
        "#### **Determine Risk Exposures**"
      ],
      "metadata": {
        "id": "lAOrzTdVIKbY"
      }
    },
    {
      "cell_type": "markdown",
      "source": [
        "Viewing the first few rows of the monthly stock returns data"
      ],
      "metadata": {
        "id": "q4Zy0gLP1jIT"
      }
    },
    {
      "cell_type": "code",
      "source": [
        "returns_data.head()"
      ],
      "metadata": {
        "colab": {
          "base_uri": "https://localhost:8080/",
          "height": 206
        },
        "id": "PJbRu4-R8Obi",
        "outputId": "5de29cd6-970e-4fd5-d13d-ddb83b66f019"
      },
      "execution_count": 7,
      "outputs": [
        {
          "output_type": "execute_result",
          "data": {
            "text/plain": [
              "   PERMNO      date TICKER        RET\n",
              "0   10026  20170131   JJSF  -0.043918\n",
              "1   10026  20170228   JJSF   0.048836\n",
              "2   10026  20170331   JJSF   0.016293\n",
              "3   10026  20170428   JJSF  -0.007229\n",
              "4   10026  20170531   JJSF  -0.033289"
            ],
            "text/html": [
              "\n",
              "  <div id=\"df-fb2c6d27-2794-47c7-844b-c657d4043650\">\n",
              "    <div class=\"colab-df-container\">\n",
              "      <div>\n",
              "<style scoped>\n",
              "    .dataframe tbody tr th:only-of-type {\n",
              "        vertical-align: middle;\n",
              "    }\n",
              "\n",
              "    .dataframe tbody tr th {\n",
              "        vertical-align: top;\n",
              "    }\n",
              "\n",
              "    .dataframe thead th {\n",
              "        text-align: right;\n",
              "    }\n",
              "</style>\n",
              "<table border=\"1\" class=\"dataframe\">\n",
              "  <thead>\n",
              "    <tr style=\"text-align: right;\">\n",
              "      <th></th>\n",
              "      <th>PERMNO</th>\n",
              "      <th>date</th>\n",
              "      <th>TICKER</th>\n",
              "      <th>RET</th>\n",
              "    </tr>\n",
              "  </thead>\n",
              "  <tbody>\n",
              "    <tr>\n",
              "      <th>0</th>\n",
              "      <td>10026</td>\n",
              "      <td>20170131</td>\n",
              "      <td>JJSF</td>\n",
              "      <td>-0.043918</td>\n",
              "    </tr>\n",
              "    <tr>\n",
              "      <th>1</th>\n",
              "      <td>10026</td>\n",
              "      <td>20170228</td>\n",
              "      <td>JJSF</td>\n",
              "      <td>0.048836</td>\n",
              "    </tr>\n",
              "    <tr>\n",
              "      <th>2</th>\n",
              "      <td>10026</td>\n",
              "      <td>20170331</td>\n",
              "      <td>JJSF</td>\n",
              "      <td>0.016293</td>\n",
              "    </tr>\n",
              "    <tr>\n",
              "      <th>3</th>\n",
              "      <td>10026</td>\n",
              "      <td>20170428</td>\n",
              "      <td>JJSF</td>\n",
              "      <td>-0.007229</td>\n",
              "    </tr>\n",
              "    <tr>\n",
              "      <th>4</th>\n",
              "      <td>10026</td>\n",
              "      <td>20170531</td>\n",
              "      <td>JJSF</td>\n",
              "      <td>-0.033289</td>\n",
              "    </tr>\n",
              "  </tbody>\n",
              "</table>\n",
              "</div>\n",
              "      <button class=\"colab-df-convert\" onclick=\"convertToInteractive('df-fb2c6d27-2794-47c7-844b-c657d4043650')\"\n",
              "              title=\"Convert this dataframe to an interactive table.\"\n",
              "              style=\"display:none;\">\n",
              "        \n",
              "  <svg xmlns=\"http://www.w3.org/2000/svg\" height=\"24px\"viewBox=\"0 0 24 24\"\n",
              "       width=\"24px\">\n",
              "    <path d=\"M0 0h24v24H0V0z\" fill=\"none\"/>\n",
              "    <path d=\"M18.56 5.44l.94 2.06.94-2.06 2.06-.94-2.06-.94-.94-2.06-.94 2.06-2.06.94zm-11 1L8.5 8.5l.94-2.06 2.06-.94-2.06-.94L8.5 2.5l-.94 2.06-2.06.94zm10 10l.94 2.06.94-2.06 2.06-.94-2.06-.94-.94-2.06-.94 2.06-2.06.94z\"/><path d=\"M17.41 7.96l-1.37-1.37c-.4-.4-.92-.59-1.43-.59-.52 0-1.04.2-1.43.59L10.3 9.45l-7.72 7.72c-.78.78-.78 2.05 0 2.83L4 21.41c.39.39.9.59 1.41.59.51 0 1.02-.2 1.41-.59l7.78-7.78 2.81-2.81c.8-.78.8-2.07 0-2.86zM5.41 20L4 18.59l7.72-7.72 1.47 1.35L5.41 20z\"/>\n",
              "  </svg>\n",
              "      </button>\n",
              "      \n",
              "  <style>\n",
              "    .colab-df-container {\n",
              "      display:flex;\n",
              "      flex-wrap:wrap;\n",
              "      gap: 12px;\n",
              "    }\n",
              "\n",
              "    .colab-df-convert {\n",
              "      background-color: #E8F0FE;\n",
              "      border: none;\n",
              "      border-radius: 50%;\n",
              "      cursor: pointer;\n",
              "      display: none;\n",
              "      fill: #1967D2;\n",
              "      height: 32px;\n",
              "      padding: 0 0 0 0;\n",
              "      width: 32px;\n",
              "    }\n",
              "\n",
              "    .colab-df-convert:hover {\n",
              "      background-color: #E2EBFA;\n",
              "      box-shadow: 0px 1px 2px rgba(60, 64, 67, 0.3), 0px 1px 3px 1px rgba(60, 64, 67, 0.15);\n",
              "      fill: #174EA6;\n",
              "    }\n",
              "\n",
              "    [theme=dark] .colab-df-convert {\n",
              "      background-color: #3B4455;\n",
              "      fill: #D2E3FC;\n",
              "    }\n",
              "\n",
              "    [theme=dark] .colab-df-convert:hover {\n",
              "      background-color: #434B5C;\n",
              "      box-shadow: 0px 1px 3px 1px rgba(0, 0, 0, 0.15);\n",
              "      filter: drop-shadow(0px 1px 2px rgba(0, 0, 0, 0.3));\n",
              "      fill: #FFFFFF;\n",
              "    }\n",
              "  </style>\n",
              "\n",
              "      <script>\n",
              "        const buttonEl =\n",
              "          document.querySelector('#df-fb2c6d27-2794-47c7-844b-c657d4043650 button.colab-df-convert');\n",
              "        buttonEl.style.display =\n",
              "          google.colab.kernel.accessAllowed ? 'block' : 'none';\n",
              "\n",
              "        async function convertToInteractive(key) {\n",
              "          const element = document.querySelector('#df-fb2c6d27-2794-47c7-844b-c657d4043650');\n",
              "          const dataTable =\n",
              "            await google.colab.kernel.invokeFunction('convertToInteractive',\n",
              "                                                     [key], {});\n",
              "          if (!dataTable) return;\n",
              "\n",
              "          const docLinkHtml = 'Like what you see? Visit the ' +\n",
              "            '<a target=\"_blank\" href=https://colab.research.google.com/notebooks/data_table.ipynb>data table notebook</a>'\n",
              "            + ' to learn more about interactive tables.';\n",
              "          element.innerHTML = '';\n",
              "          dataTable['output_type'] = 'display_data';\n",
              "          await google.colab.output.renderOutput(dataTable, element);\n",
              "          const docLink = document.createElement('div');\n",
              "          docLink.innerHTML = docLinkHtml;\n",
              "          element.appendChild(docLink);\n",
              "        }\n",
              "      </script>\n",
              "    </div>\n",
              "  </div>\n",
              "  "
            ]
          },
          "metadata": {},
          "execution_count": 7
        }
      ]
    },
    {
      "cell_type": "markdown",
      "source": [
        "Looking for null values in the stock returns data"
      ],
      "metadata": {
        "id": "mSjfRBqexu0W"
      }
    },
    {
      "cell_type": "code",
      "source": [
        "returns_data.info()"
      ],
      "metadata": {
        "colab": {
          "base_uri": "https://localhost:8080/",
          "height": 0
        },
        "id": "eXJv5ZAJ7Mn6",
        "outputId": "a8dcc2c1-a9e4-481a-aec7-1e6e2376af25"
      },
      "execution_count": 8,
      "outputs": [
        {
          "output_type": "stream",
          "name": "stdout",
          "text": [
            "<class 'pandas.core.frame.DataFrame'>\n",
            "RangeIndex: 114715 entries, 0 to 114714\n",
            "Data columns (total 4 columns):\n",
            " #   Column  Non-Null Count   Dtype \n",
            "---  ------  --------------   ----- \n",
            " 0   PERMNO  114715 non-null  int64 \n",
            " 1   date    114715 non-null  int64 \n",
            " 2   TICKER  114653 non-null  object\n",
            " 3   RET     114700 non-null  object\n",
            "dtypes: int64(2), object(2)\n",
            "memory usage: 3.5+ MB\n"
          ]
        }
      ]
    },
    {
      "cell_type": "markdown",
      "source": [
        "I noticed that there is some values with the letter 'C' or 'B' for the returns, below I'm dropping these values"
      ],
      "metadata": {
        "id": "3ulVIHwEzLqf"
      }
    },
    {
      "cell_type": "code",
      "source": [
        "returns_data=returns_data[returns_data.RET!='C']\n",
        "returns_data=returns_data[returns_data.RET!='B']"
      ],
      "metadata": {
        "id": "XxFqylN29m34"
      },
      "execution_count": 9,
      "outputs": []
    },
    {
      "cell_type": "markdown",
      "source": [
        "Dropping null values"
      ],
      "metadata": {
        "id": "9pkftS4vzkFy"
      }
    },
    {
      "cell_type": "code",
      "source": [
        "returns_data.dropna(inplace=True)"
      ],
      "metadata": {
        "id": "C3hcgzO1718D"
      },
      "execution_count": 10,
      "outputs": []
    },
    {
      "cell_type": "markdown",
      "source": [
        "Converting the returns column to a numeric column"
      ],
      "metadata": {
        "id": "EvssILBWzqvn"
      }
    },
    {
      "cell_type": "code",
      "source": [
        "returns_data[\"RET\"] = pd.to_numeric(returns_data[\"RET\"])"
      ],
      "metadata": {
        "id": "gVQ-VHTb9azc"
      },
      "execution_count": 11,
      "outputs": []
    },
    {
      "cell_type": "markdown",
      "source": [
        "Looking for null values in the Famma French factor returns data"
      ],
      "metadata": {
        "id": "T0-WJ8GJ2S_A"
      }
    },
    {
      "cell_type": "code",
      "source": [
        "ff_factors.info()"
      ],
      "metadata": {
        "colab": {
          "base_uri": "https://localhost:8080/",
          "height": 0
        },
        "id": "RyGSnKby8KxB",
        "outputId": "41a4675a-8942-48f7-f85c-9b665da6bfe3"
      },
      "execution_count": 12,
      "outputs": [
        {
          "output_type": "stream",
          "name": "stdout",
          "text": [
            "<class 'pandas.core.frame.DataFrame'>\n",
            "RangeIndex: 60 entries, 0 to 59\n",
            "Data columns (total 5 columns):\n",
            " #   Column  Non-Null Count  Dtype  \n",
            "---  ------  --------------  -----  \n",
            " 0   dateff  60 non-null     int64  \n",
            " 1   mktrf   60 non-null     float64\n",
            " 2   smb     60 non-null     float64\n",
            " 3   hml     60 non-null     float64\n",
            " 4   rf      60 non-null     float64\n",
            "dtypes: float64(4), int64(1)\n",
            "memory usage: 2.5 KB\n"
          ]
        }
      ]
    },
    {
      "cell_type": "markdown",
      "source": [
        "Observing the first few rows of the data"
      ],
      "metadata": {
        "id": "lubAqJuP2ooL"
      }
    },
    {
      "cell_type": "code",
      "source": [
        "ff_factors.head()"
      ],
      "metadata": {
        "colab": {
          "base_uri": "https://localhost:8080/",
          "height": 206
        },
        "id": "EfCX2pv68L9c",
        "outputId": "a07f2a49-9e16-4b75-8dfd-d11db4240a9a"
      },
      "execution_count": 13,
      "outputs": [
        {
          "output_type": "execute_result",
          "data": {
            "text/plain": [
              "     dateff   mktrf     smb     hml      rf\n",
              "0  20170131  0.0194 -0.0113 -0.0274  0.0004\n",
              "1  20170228  0.0357 -0.0204 -0.0167  0.0004\n",
              "2  20170331  0.0017  0.0113 -0.0333  0.0003\n",
              "3  20170428  0.0109  0.0072 -0.0213  0.0005\n",
              "4  20170531  0.0106 -0.0252 -0.0375  0.0006"
            ],
            "text/html": [
              "\n",
              "  <div id=\"df-cc50ff7a-0cca-47d6-b7bf-9658376425a5\">\n",
              "    <div class=\"colab-df-container\">\n",
              "      <div>\n",
              "<style scoped>\n",
              "    .dataframe tbody tr th:only-of-type {\n",
              "        vertical-align: middle;\n",
              "    }\n",
              "\n",
              "    .dataframe tbody tr th {\n",
              "        vertical-align: top;\n",
              "    }\n",
              "\n",
              "    .dataframe thead th {\n",
              "        text-align: right;\n",
              "    }\n",
              "</style>\n",
              "<table border=\"1\" class=\"dataframe\">\n",
              "  <thead>\n",
              "    <tr style=\"text-align: right;\">\n",
              "      <th></th>\n",
              "      <th>dateff</th>\n",
              "      <th>mktrf</th>\n",
              "      <th>smb</th>\n",
              "      <th>hml</th>\n",
              "      <th>rf</th>\n",
              "    </tr>\n",
              "  </thead>\n",
              "  <tbody>\n",
              "    <tr>\n",
              "      <th>0</th>\n",
              "      <td>20170131</td>\n",
              "      <td>0.0194</td>\n",
              "      <td>-0.0113</td>\n",
              "      <td>-0.0274</td>\n",
              "      <td>0.0004</td>\n",
              "    </tr>\n",
              "    <tr>\n",
              "      <th>1</th>\n",
              "      <td>20170228</td>\n",
              "      <td>0.0357</td>\n",
              "      <td>-0.0204</td>\n",
              "      <td>-0.0167</td>\n",
              "      <td>0.0004</td>\n",
              "    </tr>\n",
              "    <tr>\n",
              "      <th>2</th>\n",
              "      <td>20170331</td>\n",
              "      <td>0.0017</td>\n",
              "      <td>0.0113</td>\n",
              "      <td>-0.0333</td>\n",
              "      <td>0.0003</td>\n",
              "    </tr>\n",
              "    <tr>\n",
              "      <th>3</th>\n",
              "      <td>20170428</td>\n",
              "      <td>0.0109</td>\n",
              "      <td>0.0072</td>\n",
              "      <td>-0.0213</td>\n",
              "      <td>0.0005</td>\n",
              "    </tr>\n",
              "    <tr>\n",
              "      <th>4</th>\n",
              "      <td>20170531</td>\n",
              "      <td>0.0106</td>\n",
              "      <td>-0.0252</td>\n",
              "      <td>-0.0375</td>\n",
              "      <td>0.0006</td>\n",
              "    </tr>\n",
              "  </tbody>\n",
              "</table>\n",
              "</div>\n",
              "      <button class=\"colab-df-convert\" onclick=\"convertToInteractive('df-cc50ff7a-0cca-47d6-b7bf-9658376425a5')\"\n",
              "              title=\"Convert this dataframe to an interactive table.\"\n",
              "              style=\"display:none;\">\n",
              "        \n",
              "  <svg xmlns=\"http://www.w3.org/2000/svg\" height=\"24px\"viewBox=\"0 0 24 24\"\n",
              "       width=\"24px\">\n",
              "    <path d=\"M0 0h24v24H0V0z\" fill=\"none\"/>\n",
              "    <path d=\"M18.56 5.44l.94 2.06.94-2.06 2.06-.94-2.06-.94-.94-2.06-.94 2.06-2.06.94zm-11 1L8.5 8.5l.94-2.06 2.06-.94-2.06-.94L8.5 2.5l-.94 2.06-2.06.94zm10 10l.94 2.06.94-2.06 2.06-.94-2.06-.94-.94-2.06-.94 2.06-2.06.94z\"/><path d=\"M17.41 7.96l-1.37-1.37c-.4-.4-.92-.59-1.43-.59-.52 0-1.04.2-1.43.59L10.3 9.45l-7.72 7.72c-.78.78-.78 2.05 0 2.83L4 21.41c.39.39.9.59 1.41.59.51 0 1.02-.2 1.41-.59l7.78-7.78 2.81-2.81c.8-.78.8-2.07 0-2.86zM5.41 20L4 18.59l7.72-7.72 1.47 1.35L5.41 20z\"/>\n",
              "  </svg>\n",
              "      </button>\n",
              "      \n",
              "  <style>\n",
              "    .colab-df-container {\n",
              "      display:flex;\n",
              "      flex-wrap:wrap;\n",
              "      gap: 12px;\n",
              "    }\n",
              "\n",
              "    .colab-df-convert {\n",
              "      background-color: #E8F0FE;\n",
              "      border: none;\n",
              "      border-radius: 50%;\n",
              "      cursor: pointer;\n",
              "      display: none;\n",
              "      fill: #1967D2;\n",
              "      height: 32px;\n",
              "      padding: 0 0 0 0;\n",
              "      width: 32px;\n",
              "    }\n",
              "\n",
              "    .colab-df-convert:hover {\n",
              "      background-color: #E2EBFA;\n",
              "      box-shadow: 0px 1px 2px rgba(60, 64, 67, 0.3), 0px 1px 3px 1px rgba(60, 64, 67, 0.15);\n",
              "      fill: #174EA6;\n",
              "    }\n",
              "\n",
              "    [theme=dark] .colab-df-convert {\n",
              "      background-color: #3B4455;\n",
              "      fill: #D2E3FC;\n",
              "    }\n",
              "\n",
              "    [theme=dark] .colab-df-convert:hover {\n",
              "      background-color: #434B5C;\n",
              "      box-shadow: 0px 1px 3px 1px rgba(0, 0, 0, 0.15);\n",
              "      filter: drop-shadow(0px 1px 2px rgba(0, 0, 0, 0.3));\n",
              "      fill: #FFFFFF;\n",
              "    }\n",
              "  </style>\n",
              "\n",
              "      <script>\n",
              "        const buttonEl =\n",
              "          document.querySelector('#df-cc50ff7a-0cca-47d6-b7bf-9658376425a5 button.colab-df-convert');\n",
              "        buttonEl.style.display =\n",
              "          google.colab.kernel.accessAllowed ? 'block' : 'none';\n",
              "\n",
              "        async function convertToInteractive(key) {\n",
              "          const element = document.querySelector('#df-cc50ff7a-0cca-47d6-b7bf-9658376425a5');\n",
              "          const dataTable =\n",
              "            await google.colab.kernel.invokeFunction('convertToInteractive',\n",
              "                                                     [key], {});\n",
              "          if (!dataTable) return;\n",
              "\n",
              "          const docLinkHtml = 'Like what you see? Visit the ' +\n",
              "            '<a target=\"_blank\" href=https://colab.research.google.com/notebooks/data_table.ipynb>data table notebook</a>'\n",
              "            + ' to learn more about interactive tables.';\n",
              "          element.innerHTML = '';\n",
              "          dataTable['output_type'] = 'display_data';\n",
              "          await google.colab.output.renderOutput(dataTable, element);\n",
              "          const docLink = document.createElement('div');\n",
              "          docLink.innerHTML = docLinkHtml;\n",
              "          element.appendChild(docLink);\n",
              "        }\n",
              "      </script>\n",
              "    </div>\n",
              "  </div>\n",
              "  "
            ]
          },
          "metadata": {},
          "execution_count": 13
        }
      ]
    },
    {
      "cell_type": "markdown",
      "source": [
        "Renaming the date columns for it to match the stock returns dataset"
      ],
      "metadata": {
        "id": "Y0xlgZCZ2rW2"
      }
    },
    {
      "cell_type": "code",
      "source": [
        "ff_factors.rename(columns={'dateff':'date'}, inplace=True)\n",
        "ff_factors.head()"
      ],
      "metadata": {
        "colab": {
          "base_uri": "https://localhost:8080/",
          "height": 206
        },
        "id": "XFsdsl2s8Xw9",
        "outputId": "6fc10126-c327-45cb-bb5e-964504d9840a"
      },
      "execution_count": 14,
      "outputs": [
        {
          "output_type": "execute_result",
          "data": {
            "text/plain": [
              "       date   mktrf     smb     hml      rf\n",
              "0  20170131  0.0194 -0.0113 -0.0274  0.0004\n",
              "1  20170228  0.0357 -0.0204 -0.0167  0.0004\n",
              "2  20170331  0.0017  0.0113 -0.0333  0.0003\n",
              "3  20170428  0.0109  0.0072 -0.0213  0.0005\n",
              "4  20170531  0.0106 -0.0252 -0.0375  0.0006"
            ],
            "text/html": [
              "\n",
              "  <div id=\"df-bad96400-afe1-4153-8d16-bf7b3117b4c9\">\n",
              "    <div class=\"colab-df-container\">\n",
              "      <div>\n",
              "<style scoped>\n",
              "    .dataframe tbody tr th:only-of-type {\n",
              "        vertical-align: middle;\n",
              "    }\n",
              "\n",
              "    .dataframe tbody tr th {\n",
              "        vertical-align: top;\n",
              "    }\n",
              "\n",
              "    .dataframe thead th {\n",
              "        text-align: right;\n",
              "    }\n",
              "</style>\n",
              "<table border=\"1\" class=\"dataframe\">\n",
              "  <thead>\n",
              "    <tr style=\"text-align: right;\">\n",
              "      <th></th>\n",
              "      <th>date</th>\n",
              "      <th>mktrf</th>\n",
              "      <th>smb</th>\n",
              "      <th>hml</th>\n",
              "      <th>rf</th>\n",
              "    </tr>\n",
              "  </thead>\n",
              "  <tbody>\n",
              "    <tr>\n",
              "      <th>0</th>\n",
              "      <td>20170131</td>\n",
              "      <td>0.0194</td>\n",
              "      <td>-0.0113</td>\n",
              "      <td>-0.0274</td>\n",
              "      <td>0.0004</td>\n",
              "    </tr>\n",
              "    <tr>\n",
              "      <th>1</th>\n",
              "      <td>20170228</td>\n",
              "      <td>0.0357</td>\n",
              "      <td>-0.0204</td>\n",
              "      <td>-0.0167</td>\n",
              "      <td>0.0004</td>\n",
              "    </tr>\n",
              "    <tr>\n",
              "      <th>2</th>\n",
              "      <td>20170331</td>\n",
              "      <td>0.0017</td>\n",
              "      <td>0.0113</td>\n",
              "      <td>-0.0333</td>\n",
              "      <td>0.0003</td>\n",
              "    </tr>\n",
              "    <tr>\n",
              "      <th>3</th>\n",
              "      <td>20170428</td>\n",
              "      <td>0.0109</td>\n",
              "      <td>0.0072</td>\n",
              "      <td>-0.0213</td>\n",
              "      <td>0.0005</td>\n",
              "    </tr>\n",
              "    <tr>\n",
              "      <th>4</th>\n",
              "      <td>20170531</td>\n",
              "      <td>0.0106</td>\n",
              "      <td>-0.0252</td>\n",
              "      <td>-0.0375</td>\n",
              "      <td>0.0006</td>\n",
              "    </tr>\n",
              "  </tbody>\n",
              "</table>\n",
              "</div>\n",
              "      <button class=\"colab-df-convert\" onclick=\"convertToInteractive('df-bad96400-afe1-4153-8d16-bf7b3117b4c9')\"\n",
              "              title=\"Convert this dataframe to an interactive table.\"\n",
              "              style=\"display:none;\">\n",
              "        \n",
              "  <svg xmlns=\"http://www.w3.org/2000/svg\" height=\"24px\"viewBox=\"0 0 24 24\"\n",
              "       width=\"24px\">\n",
              "    <path d=\"M0 0h24v24H0V0z\" fill=\"none\"/>\n",
              "    <path d=\"M18.56 5.44l.94 2.06.94-2.06 2.06-.94-2.06-.94-.94-2.06-.94 2.06-2.06.94zm-11 1L8.5 8.5l.94-2.06 2.06-.94-2.06-.94L8.5 2.5l-.94 2.06-2.06.94zm10 10l.94 2.06.94-2.06 2.06-.94-2.06-.94-.94-2.06-.94 2.06-2.06.94z\"/><path d=\"M17.41 7.96l-1.37-1.37c-.4-.4-.92-.59-1.43-.59-.52 0-1.04.2-1.43.59L10.3 9.45l-7.72 7.72c-.78.78-.78 2.05 0 2.83L4 21.41c.39.39.9.59 1.41.59.51 0 1.02-.2 1.41-.59l7.78-7.78 2.81-2.81c.8-.78.8-2.07 0-2.86zM5.41 20L4 18.59l7.72-7.72 1.47 1.35L5.41 20z\"/>\n",
              "  </svg>\n",
              "      </button>\n",
              "      \n",
              "  <style>\n",
              "    .colab-df-container {\n",
              "      display:flex;\n",
              "      flex-wrap:wrap;\n",
              "      gap: 12px;\n",
              "    }\n",
              "\n",
              "    .colab-df-convert {\n",
              "      background-color: #E8F0FE;\n",
              "      border: none;\n",
              "      border-radius: 50%;\n",
              "      cursor: pointer;\n",
              "      display: none;\n",
              "      fill: #1967D2;\n",
              "      height: 32px;\n",
              "      padding: 0 0 0 0;\n",
              "      width: 32px;\n",
              "    }\n",
              "\n",
              "    .colab-df-convert:hover {\n",
              "      background-color: #E2EBFA;\n",
              "      box-shadow: 0px 1px 2px rgba(60, 64, 67, 0.3), 0px 1px 3px 1px rgba(60, 64, 67, 0.15);\n",
              "      fill: #174EA6;\n",
              "    }\n",
              "\n",
              "    [theme=dark] .colab-df-convert {\n",
              "      background-color: #3B4455;\n",
              "      fill: #D2E3FC;\n",
              "    }\n",
              "\n",
              "    [theme=dark] .colab-df-convert:hover {\n",
              "      background-color: #434B5C;\n",
              "      box-shadow: 0px 1px 3px 1px rgba(0, 0, 0, 0.15);\n",
              "      filter: drop-shadow(0px 1px 2px rgba(0, 0, 0, 0.3));\n",
              "      fill: #FFFFFF;\n",
              "    }\n",
              "  </style>\n",
              "\n",
              "      <script>\n",
              "        const buttonEl =\n",
              "          document.querySelector('#df-bad96400-afe1-4153-8d16-bf7b3117b4c9 button.colab-df-convert');\n",
              "        buttonEl.style.display =\n",
              "          google.colab.kernel.accessAllowed ? 'block' : 'none';\n",
              "\n",
              "        async function convertToInteractive(key) {\n",
              "          const element = document.querySelector('#df-bad96400-afe1-4153-8d16-bf7b3117b4c9');\n",
              "          const dataTable =\n",
              "            await google.colab.kernel.invokeFunction('convertToInteractive',\n",
              "                                                     [key], {});\n",
              "          if (!dataTable) return;\n",
              "\n",
              "          const docLinkHtml = 'Like what you see? Visit the ' +\n",
              "            '<a target=\"_blank\" href=https://colab.research.google.com/notebooks/data_table.ipynb>data table notebook</a>'\n",
              "            + ' to learn more about interactive tables.';\n",
              "          element.innerHTML = '';\n",
              "          dataTable['output_type'] = 'display_data';\n",
              "          await google.colab.output.renderOutput(dataTable, element);\n",
              "          const docLink = document.createElement('div');\n",
              "          docLink.innerHTML = docLinkHtml;\n",
              "          element.appendChild(docLink);\n",
              "        }\n",
              "      </script>\n",
              "    </div>\n",
              "  </div>\n",
              "  "
            ]
          },
          "metadata": {},
          "execution_count": 14
        }
      ]
    },
    {
      "cell_type": "markdown",
      "source": [
        "Getting unique ticker names"
      ],
      "metadata": {
        "id": "XRU_jqqX2uGZ"
      }
    },
    {
      "cell_type": "code",
      "source": [
        "ticker_names=returns_data.TICKER.unique()"
      ],
      "metadata": {
        "id": "vNHKyJDr8b7o"
      },
      "execution_count": 15,
      "outputs": []
    },
    {
      "cell_type": "markdown",
      "source": [
        "Creating a dataframe"
      ],
      "metadata": {
        "id": "oOJ7HH0i2zP2"
      }
    },
    {
      "cell_type": "code",
      "source": [
        "ff_exposures = pd.DataFrame(columns = ['TICKER','mktrf','smb','hml'])\n",
        "ff_exposures"
      ],
      "metadata": {
        "colab": {
          "base_uri": "https://localhost:8080/",
          "height": 49
        },
        "id": "S5krW39y8g84",
        "outputId": "f37bb782-917c-412f-810f-b2203b64607e"
      },
      "execution_count": 16,
      "outputs": [
        {
          "output_type": "execute_result",
          "data": {
            "text/plain": [
              "Empty DataFrame\n",
              "Columns: [TICKER, mktrf, smb, hml]\n",
              "Index: []"
            ],
            "text/html": [
              "\n",
              "  <div id=\"df-b2dbdf39-e5ec-4f97-9f35-decc6cdf7cfd\">\n",
              "    <div class=\"colab-df-container\">\n",
              "      <div>\n",
              "<style scoped>\n",
              "    .dataframe tbody tr th:only-of-type {\n",
              "        vertical-align: middle;\n",
              "    }\n",
              "\n",
              "    .dataframe tbody tr th {\n",
              "        vertical-align: top;\n",
              "    }\n",
              "\n",
              "    .dataframe thead th {\n",
              "        text-align: right;\n",
              "    }\n",
              "</style>\n",
              "<table border=\"1\" class=\"dataframe\">\n",
              "  <thead>\n",
              "    <tr style=\"text-align: right;\">\n",
              "      <th></th>\n",
              "      <th>TICKER</th>\n",
              "      <th>mktrf</th>\n",
              "      <th>smb</th>\n",
              "      <th>hml</th>\n",
              "    </tr>\n",
              "  </thead>\n",
              "  <tbody>\n",
              "  </tbody>\n",
              "</table>\n",
              "</div>\n",
              "      <button class=\"colab-df-convert\" onclick=\"convertToInteractive('df-b2dbdf39-e5ec-4f97-9f35-decc6cdf7cfd')\"\n",
              "              title=\"Convert this dataframe to an interactive table.\"\n",
              "              style=\"display:none;\">\n",
              "        \n",
              "  <svg xmlns=\"http://www.w3.org/2000/svg\" height=\"24px\"viewBox=\"0 0 24 24\"\n",
              "       width=\"24px\">\n",
              "    <path d=\"M0 0h24v24H0V0z\" fill=\"none\"/>\n",
              "    <path d=\"M18.56 5.44l.94 2.06.94-2.06 2.06-.94-2.06-.94-.94-2.06-.94 2.06-2.06.94zm-11 1L8.5 8.5l.94-2.06 2.06-.94-2.06-.94L8.5 2.5l-.94 2.06-2.06.94zm10 10l.94 2.06.94-2.06 2.06-.94-2.06-.94-.94-2.06-.94 2.06-2.06.94z\"/><path d=\"M17.41 7.96l-1.37-1.37c-.4-.4-.92-.59-1.43-.59-.52 0-1.04.2-1.43.59L10.3 9.45l-7.72 7.72c-.78.78-.78 2.05 0 2.83L4 21.41c.39.39.9.59 1.41.59.51 0 1.02-.2 1.41-.59l7.78-7.78 2.81-2.81c.8-.78.8-2.07 0-2.86zM5.41 20L4 18.59l7.72-7.72 1.47 1.35L5.41 20z\"/>\n",
              "  </svg>\n",
              "      </button>\n",
              "      \n",
              "  <style>\n",
              "    .colab-df-container {\n",
              "      display:flex;\n",
              "      flex-wrap:wrap;\n",
              "      gap: 12px;\n",
              "    }\n",
              "\n",
              "    .colab-df-convert {\n",
              "      background-color: #E8F0FE;\n",
              "      border: none;\n",
              "      border-radius: 50%;\n",
              "      cursor: pointer;\n",
              "      display: none;\n",
              "      fill: #1967D2;\n",
              "      height: 32px;\n",
              "      padding: 0 0 0 0;\n",
              "      width: 32px;\n",
              "    }\n",
              "\n",
              "    .colab-df-convert:hover {\n",
              "      background-color: #E2EBFA;\n",
              "      box-shadow: 0px 1px 2px rgba(60, 64, 67, 0.3), 0px 1px 3px 1px rgba(60, 64, 67, 0.15);\n",
              "      fill: #174EA6;\n",
              "    }\n",
              "\n",
              "    [theme=dark] .colab-df-convert {\n",
              "      background-color: #3B4455;\n",
              "      fill: #D2E3FC;\n",
              "    }\n",
              "\n",
              "    [theme=dark] .colab-df-convert:hover {\n",
              "      background-color: #434B5C;\n",
              "      box-shadow: 0px 1px 3px 1px rgba(0, 0, 0, 0.15);\n",
              "      filter: drop-shadow(0px 1px 2px rgba(0, 0, 0, 0.3));\n",
              "      fill: #FFFFFF;\n",
              "    }\n",
              "  </style>\n",
              "\n",
              "      <script>\n",
              "        const buttonEl =\n",
              "          document.querySelector('#df-b2dbdf39-e5ec-4f97-9f35-decc6cdf7cfd button.colab-df-convert');\n",
              "        buttonEl.style.display =\n",
              "          google.colab.kernel.accessAllowed ? 'block' : 'none';\n",
              "\n",
              "        async function convertToInteractive(key) {\n",
              "          const element = document.querySelector('#df-b2dbdf39-e5ec-4f97-9f35-decc6cdf7cfd');\n",
              "          const dataTable =\n",
              "            await google.colab.kernel.invokeFunction('convertToInteractive',\n",
              "                                                     [key], {});\n",
              "          if (!dataTable) return;\n",
              "\n",
              "          const docLinkHtml = 'Like what you see? Visit the ' +\n",
              "            '<a target=\"_blank\" href=https://colab.research.google.com/notebooks/data_table.ipynb>data table notebook</a>'\n",
              "            + ' to learn more about interactive tables.';\n",
              "          element.innerHTML = '';\n",
              "          dataTable['output_type'] = 'display_data';\n",
              "          await google.colab.output.renderOutput(dataTable, element);\n",
              "          const docLink = document.createElement('div');\n",
              "          docLink.innerHTML = docLinkHtml;\n",
              "          element.appendChild(docLink);\n",
              "        }\n",
              "      </script>\n",
              "    </div>\n",
              "  </div>\n",
              "  "
            ]
          },
          "metadata": {},
          "execution_count": 16
        }
      ]
    },
    {
      "cell_type": "markdown",
      "source": [
        "Looping through the tickers and doing regressions"
      ],
      "metadata": {
        "id": "dQ8nfWKm22sT"
      }
    },
    {
      "cell_type": "code",
      "source": [
        "#For loop for different ticker names\n",
        "for i in ticker_names: #Looping through every ticker\n",
        "  ticker=i #Getting the ticker name\n",
        "  ticker_subset = returns_data[returns_data[\"TICKER\"] == ticker]#Subsetting the data based on the ticker\n",
        "  merged_data = pd.merge(ticker_subset, ff_factors, on='date', how='inner') #Merging the subset data with the Fama-French monthly risk factor data\n",
        "  #Regression for FF model\n",
        "  y =merged_data[\"RET\"] - merged_data[\"rf\"] #Defining the X and y variables\n",
        "  X = merged_data[['mktrf' , 'smb' , 'hml']] \n",
        "  # Use statsmodels\n",
        "  X = sm.add_constant(X) # adding a constant\n",
        "  model = sm.OLS(y, X).fit()#Running the regression\n",
        "  mktrf=model.params['mktrf']#Extracting items from the regression\n",
        "  smb=model.params['smb']\n",
        "  hml=model.params['hml']\n",
        "  row= {'TICKER':ticker, 'mktrf':mktrf, 'smb':smb, 'hml':hml} #Creating a row of the extracted data\n",
        "  ff_exposures=ff_exposures.append(row,ignore_index=True) #Appending the row to the dataframe"
      ],
      "metadata": {
        "colab": {
          "base_uri": "https://localhost:8080/",
          "height": 0
        },
        "id": "mHIu-NiP8ksP",
        "outputId": "9723e899-1c0c-4cc0-bd97-4b3e9f37883c"
      },
      "execution_count": 17,
      "outputs": [
        {
          "output_type": "stream",
          "name": "stderr",
          "text": [
            "/usr/local/lib/python3.7/dist-packages/statsmodels/tsa/tsatools.py:117: FutureWarning: In a future version of pandas all arguments of concat except for the argument 'objs' will be keyword-only\n",
            "  x = pd.concat(x[::order], 1)\n"
          ]
        }
      ]
    },
    {
      "cell_type": "markdown",
      "source": [
        "Printing the dataframe"
      ],
      "metadata": {
        "id": "2x_JkqDl2_ZD"
      }
    },
    {
      "cell_type": "code",
      "source": [
        "ff_exposures"
      ],
      "metadata": {
        "colab": {
          "base_uri": "https://localhost:8080/",
          "height": 423
        },
        "id": "WMVZ2cpDqaus",
        "outputId": "3cffe11f-e08d-49ea-ff9f-a6fb76efe392"
      },
      "execution_count": 18,
      "outputs": [
        {
          "output_type": "execute_result",
          "data": {
            "text/plain": [
              "     TICKER     mktrf       smb       hml\n",
              "0      JJSF  0.452887  0.356829  0.524302\n",
              "1      PLXS  0.955657  0.229663  0.598402\n",
              "2      ORCL  0.839476 -0.587083  0.016158\n",
              "3      MSFT  0.935809 -0.330320 -0.401040\n",
              "4      TROW  1.121489  0.008855  0.145466\n",
              "...     ...       ...       ...       ...\n",
              "1918    SIX  2.062411  1.129428  0.780178\n",
              "1919    VPG  1.202745  0.953927  0.093573\n",
              "1920     FN  0.697870  0.905014  0.087299\n",
              "1921   CBOE  0.621143 -0.399150  0.339880\n",
              "1922   TSLA  2.173394 -0.157761 -0.980605\n",
              "\n",
              "[1923 rows x 4 columns]"
            ],
            "text/html": [
              "\n",
              "  <div id=\"df-edf1e816-a0b8-42d6-b9b5-d29c6d389d87\">\n",
              "    <div class=\"colab-df-container\">\n",
              "      <div>\n",
              "<style scoped>\n",
              "    .dataframe tbody tr th:only-of-type {\n",
              "        vertical-align: middle;\n",
              "    }\n",
              "\n",
              "    .dataframe tbody tr th {\n",
              "        vertical-align: top;\n",
              "    }\n",
              "\n",
              "    .dataframe thead th {\n",
              "        text-align: right;\n",
              "    }\n",
              "</style>\n",
              "<table border=\"1\" class=\"dataframe\">\n",
              "  <thead>\n",
              "    <tr style=\"text-align: right;\">\n",
              "      <th></th>\n",
              "      <th>TICKER</th>\n",
              "      <th>mktrf</th>\n",
              "      <th>smb</th>\n",
              "      <th>hml</th>\n",
              "    </tr>\n",
              "  </thead>\n",
              "  <tbody>\n",
              "    <tr>\n",
              "      <th>0</th>\n",
              "      <td>JJSF</td>\n",
              "      <td>0.452887</td>\n",
              "      <td>0.356829</td>\n",
              "      <td>0.524302</td>\n",
              "    </tr>\n",
              "    <tr>\n",
              "      <th>1</th>\n",
              "      <td>PLXS</td>\n",
              "      <td>0.955657</td>\n",
              "      <td>0.229663</td>\n",
              "      <td>0.598402</td>\n",
              "    </tr>\n",
              "    <tr>\n",
              "      <th>2</th>\n",
              "      <td>ORCL</td>\n",
              "      <td>0.839476</td>\n",
              "      <td>-0.587083</td>\n",
              "      <td>0.016158</td>\n",
              "    </tr>\n",
              "    <tr>\n",
              "      <th>3</th>\n",
              "      <td>MSFT</td>\n",
              "      <td>0.935809</td>\n",
              "      <td>-0.330320</td>\n",
              "      <td>-0.401040</td>\n",
              "    </tr>\n",
              "    <tr>\n",
              "      <th>4</th>\n",
              "      <td>TROW</td>\n",
              "      <td>1.121489</td>\n",
              "      <td>0.008855</td>\n",
              "      <td>0.145466</td>\n",
              "    </tr>\n",
              "    <tr>\n",
              "      <th>...</th>\n",
              "      <td>...</td>\n",
              "      <td>...</td>\n",
              "      <td>...</td>\n",
              "      <td>...</td>\n",
              "    </tr>\n",
              "    <tr>\n",
              "      <th>1918</th>\n",
              "      <td>SIX</td>\n",
              "      <td>2.062411</td>\n",
              "      <td>1.129428</td>\n",
              "      <td>0.780178</td>\n",
              "    </tr>\n",
              "    <tr>\n",
              "      <th>1919</th>\n",
              "      <td>VPG</td>\n",
              "      <td>1.202745</td>\n",
              "      <td>0.953927</td>\n",
              "      <td>0.093573</td>\n",
              "    </tr>\n",
              "    <tr>\n",
              "      <th>1920</th>\n",
              "      <td>FN</td>\n",
              "      <td>0.697870</td>\n",
              "      <td>0.905014</td>\n",
              "      <td>0.087299</td>\n",
              "    </tr>\n",
              "    <tr>\n",
              "      <th>1921</th>\n",
              "      <td>CBOE</td>\n",
              "      <td>0.621143</td>\n",
              "      <td>-0.399150</td>\n",
              "      <td>0.339880</td>\n",
              "    </tr>\n",
              "    <tr>\n",
              "      <th>1922</th>\n",
              "      <td>TSLA</td>\n",
              "      <td>2.173394</td>\n",
              "      <td>-0.157761</td>\n",
              "      <td>-0.980605</td>\n",
              "    </tr>\n",
              "  </tbody>\n",
              "</table>\n",
              "<p>1923 rows × 4 columns</p>\n",
              "</div>\n",
              "      <button class=\"colab-df-convert\" onclick=\"convertToInteractive('df-edf1e816-a0b8-42d6-b9b5-d29c6d389d87')\"\n",
              "              title=\"Convert this dataframe to an interactive table.\"\n",
              "              style=\"display:none;\">\n",
              "        \n",
              "  <svg xmlns=\"http://www.w3.org/2000/svg\" height=\"24px\"viewBox=\"0 0 24 24\"\n",
              "       width=\"24px\">\n",
              "    <path d=\"M0 0h24v24H0V0z\" fill=\"none\"/>\n",
              "    <path d=\"M18.56 5.44l.94 2.06.94-2.06 2.06-.94-2.06-.94-.94-2.06-.94 2.06-2.06.94zm-11 1L8.5 8.5l.94-2.06 2.06-.94-2.06-.94L8.5 2.5l-.94 2.06-2.06.94zm10 10l.94 2.06.94-2.06 2.06-.94-2.06-.94-.94-2.06-.94 2.06-2.06.94z\"/><path d=\"M17.41 7.96l-1.37-1.37c-.4-.4-.92-.59-1.43-.59-.52 0-1.04.2-1.43.59L10.3 9.45l-7.72 7.72c-.78.78-.78 2.05 0 2.83L4 21.41c.39.39.9.59 1.41.59.51 0 1.02-.2 1.41-.59l7.78-7.78 2.81-2.81c.8-.78.8-2.07 0-2.86zM5.41 20L4 18.59l7.72-7.72 1.47 1.35L5.41 20z\"/>\n",
              "  </svg>\n",
              "      </button>\n",
              "      \n",
              "  <style>\n",
              "    .colab-df-container {\n",
              "      display:flex;\n",
              "      flex-wrap:wrap;\n",
              "      gap: 12px;\n",
              "    }\n",
              "\n",
              "    .colab-df-convert {\n",
              "      background-color: #E8F0FE;\n",
              "      border: none;\n",
              "      border-radius: 50%;\n",
              "      cursor: pointer;\n",
              "      display: none;\n",
              "      fill: #1967D2;\n",
              "      height: 32px;\n",
              "      padding: 0 0 0 0;\n",
              "      width: 32px;\n",
              "    }\n",
              "\n",
              "    .colab-df-convert:hover {\n",
              "      background-color: #E2EBFA;\n",
              "      box-shadow: 0px 1px 2px rgba(60, 64, 67, 0.3), 0px 1px 3px 1px rgba(60, 64, 67, 0.15);\n",
              "      fill: #174EA6;\n",
              "    }\n",
              "\n",
              "    [theme=dark] .colab-df-convert {\n",
              "      background-color: #3B4455;\n",
              "      fill: #D2E3FC;\n",
              "    }\n",
              "\n",
              "    [theme=dark] .colab-df-convert:hover {\n",
              "      background-color: #434B5C;\n",
              "      box-shadow: 0px 1px 3px 1px rgba(0, 0, 0, 0.15);\n",
              "      filter: drop-shadow(0px 1px 2px rgba(0, 0, 0, 0.3));\n",
              "      fill: #FFFFFF;\n",
              "    }\n",
              "  </style>\n",
              "\n",
              "      <script>\n",
              "        const buttonEl =\n",
              "          document.querySelector('#df-edf1e816-a0b8-42d6-b9b5-d29c6d389d87 button.colab-df-convert');\n",
              "        buttonEl.style.display =\n",
              "          google.colab.kernel.accessAllowed ? 'block' : 'none';\n",
              "\n",
              "        async function convertToInteractive(key) {\n",
              "          const element = document.querySelector('#df-edf1e816-a0b8-42d6-b9b5-d29c6d389d87');\n",
              "          const dataTable =\n",
              "            await google.colab.kernel.invokeFunction('convertToInteractive',\n",
              "                                                     [key], {});\n",
              "          if (!dataTable) return;\n",
              "\n",
              "          const docLinkHtml = 'Like what you see? Visit the ' +\n",
              "            '<a target=\"_blank\" href=https://colab.research.google.com/notebooks/data_table.ipynb>data table notebook</a>'\n",
              "            + ' to learn more about interactive tables.';\n",
              "          element.innerHTML = '';\n",
              "          dataTable['output_type'] = 'display_data';\n",
              "          await google.colab.output.renderOutput(dataTable, element);\n",
              "          const docLink = document.createElement('div');\n",
              "          docLink.innerHTML = docLinkHtml;\n",
              "          element.appendChild(docLink);\n",
              "        }\n",
              "      </script>\n",
              "    </div>\n",
              "  </div>\n",
              "  "
            ]
          },
          "metadata": {},
          "execution_count": 18
        }
      ]
    },
    {
      "cell_type": "markdown",
      "source": [
        "Looking for null values in the dataframe"
      ],
      "metadata": {
        "id": "tSzr2OWF3EKB"
      }
    },
    {
      "cell_type": "code",
      "source": [
        "ff_exposures.info()"
      ],
      "metadata": {
        "colab": {
          "base_uri": "https://localhost:8080/",
          "height": 0
        },
        "id": "fC_FgI4GrAFP",
        "outputId": "214844fe-851c-493f-c519-b6ec8b46e908"
      },
      "execution_count": 19,
      "outputs": [
        {
          "output_type": "stream",
          "name": "stdout",
          "text": [
            "<class 'pandas.core.frame.DataFrame'>\n",
            "RangeIndex: 1923 entries, 0 to 1922\n",
            "Data columns (total 4 columns):\n",
            " #   Column  Non-Null Count  Dtype  \n",
            "---  ------  --------------  -----  \n",
            " 0   TICKER  1923 non-null   object \n",
            " 1   mktrf   1923 non-null   float64\n",
            " 2   smb     1923 non-null   float64\n",
            " 3   hml     1923 non-null   float64\n",
            "dtypes: float64(3), object(1)\n",
            "memory usage: 60.2+ KB\n"
          ]
        }
      ]
    },
    {
      "cell_type": "markdown",
      "source": [
        "Summarizing the data"
      ],
      "metadata": {
        "id": "6nTem2NZogoL"
      }
    },
    {
      "cell_type": "code",
      "source": [
        "ff_exposures.describe()"
      ],
      "metadata": {
        "colab": {
          "base_uri": "https://localhost:8080/",
          "height": 300
        },
        "id": "SC_iOvDRoBn7",
        "outputId": "19ed0ca2-cbb3-4d51-dd30-9d4e65f88e47"
      },
      "execution_count": 20,
      "outputs": [
        {
          "output_type": "execute_result",
          "data": {
            "text/plain": [
              "             mktrf          smb          hml\n",
              "count  1923.000000  1923.000000  1923.000000\n",
              "mean      1.077846     0.633402     0.310713\n",
              "std       0.800940     1.936328     0.815679\n",
              "min      -6.676723   -64.645356   -16.406196\n",
              "25%       0.719272     0.012809    -0.054016\n",
              "50%       1.005025     0.503529     0.359244\n",
              "75%       1.338617     1.023676     0.760444\n",
              "max      22.008963    31.005941     5.919490"
            ],
            "text/html": [
              "\n",
              "  <div id=\"df-4e9c1822-a11d-4b32-91b5-15f6f80891a6\">\n",
              "    <div class=\"colab-df-container\">\n",
              "      <div>\n",
              "<style scoped>\n",
              "    .dataframe tbody tr th:only-of-type {\n",
              "        vertical-align: middle;\n",
              "    }\n",
              "\n",
              "    .dataframe tbody tr th {\n",
              "        vertical-align: top;\n",
              "    }\n",
              "\n",
              "    .dataframe thead th {\n",
              "        text-align: right;\n",
              "    }\n",
              "</style>\n",
              "<table border=\"1\" class=\"dataframe\">\n",
              "  <thead>\n",
              "    <tr style=\"text-align: right;\">\n",
              "      <th></th>\n",
              "      <th>mktrf</th>\n",
              "      <th>smb</th>\n",
              "      <th>hml</th>\n",
              "    </tr>\n",
              "  </thead>\n",
              "  <tbody>\n",
              "    <tr>\n",
              "      <th>count</th>\n",
              "      <td>1923.000000</td>\n",
              "      <td>1923.000000</td>\n",
              "      <td>1923.000000</td>\n",
              "    </tr>\n",
              "    <tr>\n",
              "      <th>mean</th>\n",
              "      <td>1.077846</td>\n",
              "      <td>0.633402</td>\n",
              "      <td>0.310713</td>\n",
              "    </tr>\n",
              "    <tr>\n",
              "      <th>std</th>\n",
              "      <td>0.800940</td>\n",
              "      <td>1.936328</td>\n",
              "      <td>0.815679</td>\n",
              "    </tr>\n",
              "    <tr>\n",
              "      <th>min</th>\n",
              "      <td>-6.676723</td>\n",
              "      <td>-64.645356</td>\n",
              "      <td>-16.406196</td>\n",
              "    </tr>\n",
              "    <tr>\n",
              "      <th>25%</th>\n",
              "      <td>0.719272</td>\n",
              "      <td>0.012809</td>\n",
              "      <td>-0.054016</td>\n",
              "    </tr>\n",
              "    <tr>\n",
              "      <th>50%</th>\n",
              "      <td>1.005025</td>\n",
              "      <td>0.503529</td>\n",
              "      <td>0.359244</td>\n",
              "    </tr>\n",
              "    <tr>\n",
              "      <th>75%</th>\n",
              "      <td>1.338617</td>\n",
              "      <td>1.023676</td>\n",
              "      <td>0.760444</td>\n",
              "    </tr>\n",
              "    <tr>\n",
              "      <th>max</th>\n",
              "      <td>22.008963</td>\n",
              "      <td>31.005941</td>\n",
              "      <td>5.919490</td>\n",
              "    </tr>\n",
              "  </tbody>\n",
              "</table>\n",
              "</div>\n",
              "      <button class=\"colab-df-convert\" onclick=\"convertToInteractive('df-4e9c1822-a11d-4b32-91b5-15f6f80891a6')\"\n",
              "              title=\"Convert this dataframe to an interactive table.\"\n",
              "              style=\"display:none;\">\n",
              "        \n",
              "  <svg xmlns=\"http://www.w3.org/2000/svg\" height=\"24px\"viewBox=\"0 0 24 24\"\n",
              "       width=\"24px\">\n",
              "    <path d=\"M0 0h24v24H0V0z\" fill=\"none\"/>\n",
              "    <path d=\"M18.56 5.44l.94 2.06.94-2.06 2.06-.94-2.06-.94-.94-2.06-.94 2.06-2.06.94zm-11 1L8.5 8.5l.94-2.06 2.06-.94-2.06-.94L8.5 2.5l-.94 2.06-2.06.94zm10 10l.94 2.06.94-2.06 2.06-.94-2.06-.94-.94-2.06-.94 2.06-2.06.94z\"/><path d=\"M17.41 7.96l-1.37-1.37c-.4-.4-.92-.59-1.43-.59-.52 0-1.04.2-1.43.59L10.3 9.45l-7.72 7.72c-.78.78-.78 2.05 0 2.83L4 21.41c.39.39.9.59 1.41.59.51 0 1.02-.2 1.41-.59l7.78-7.78 2.81-2.81c.8-.78.8-2.07 0-2.86zM5.41 20L4 18.59l7.72-7.72 1.47 1.35L5.41 20z\"/>\n",
              "  </svg>\n",
              "      </button>\n",
              "      \n",
              "  <style>\n",
              "    .colab-df-container {\n",
              "      display:flex;\n",
              "      flex-wrap:wrap;\n",
              "      gap: 12px;\n",
              "    }\n",
              "\n",
              "    .colab-df-convert {\n",
              "      background-color: #E8F0FE;\n",
              "      border: none;\n",
              "      border-radius: 50%;\n",
              "      cursor: pointer;\n",
              "      display: none;\n",
              "      fill: #1967D2;\n",
              "      height: 32px;\n",
              "      padding: 0 0 0 0;\n",
              "      width: 32px;\n",
              "    }\n",
              "\n",
              "    .colab-df-convert:hover {\n",
              "      background-color: #E2EBFA;\n",
              "      box-shadow: 0px 1px 2px rgba(60, 64, 67, 0.3), 0px 1px 3px 1px rgba(60, 64, 67, 0.15);\n",
              "      fill: #174EA6;\n",
              "    }\n",
              "\n",
              "    [theme=dark] .colab-df-convert {\n",
              "      background-color: #3B4455;\n",
              "      fill: #D2E3FC;\n",
              "    }\n",
              "\n",
              "    [theme=dark] .colab-df-convert:hover {\n",
              "      background-color: #434B5C;\n",
              "      box-shadow: 0px 1px 3px 1px rgba(0, 0, 0, 0.15);\n",
              "      filter: drop-shadow(0px 1px 2px rgba(0, 0, 0, 0.3));\n",
              "      fill: #FFFFFF;\n",
              "    }\n",
              "  </style>\n",
              "\n",
              "      <script>\n",
              "        const buttonEl =\n",
              "          document.querySelector('#df-4e9c1822-a11d-4b32-91b5-15f6f80891a6 button.colab-df-convert');\n",
              "        buttonEl.style.display =\n",
              "          google.colab.kernel.accessAllowed ? 'block' : 'none';\n",
              "\n",
              "        async function convertToInteractive(key) {\n",
              "          const element = document.querySelector('#df-4e9c1822-a11d-4b32-91b5-15f6f80891a6');\n",
              "          const dataTable =\n",
              "            await google.colab.kernel.invokeFunction('convertToInteractive',\n",
              "                                                     [key], {});\n",
              "          if (!dataTable) return;\n",
              "\n",
              "          const docLinkHtml = 'Like what you see? Visit the ' +\n",
              "            '<a target=\"_blank\" href=https://colab.research.google.com/notebooks/data_table.ipynb>data table notebook</a>'\n",
              "            + ' to learn more about interactive tables.';\n",
              "          element.innerHTML = '';\n",
              "          dataTable['output_type'] = 'display_data';\n",
              "          await google.colab.output.renderOutput(dataTable, element);\n",
              "          const docLink = document.createElement('div');\n",
              "          docLink.innerHTML = docLinkHtml;\n",
              "          element.appendChild(docLink);\n",
              "        }\n",
              "      </script>\n",
              "    </div>\n",
              "  </div>\n",
              "  "
            ]
          },
          "metadata": {},
          "execution_count": 20
        }
      ]
    },
    {
      "cell_type": "markdown",
      "source": [
        "Exporting the dataframe to a csv file"
      ],
      "metadata": {
        "id": "qO1Mg7Fi3Icz"
      }
    },
    {
      "cell_type": "code",
      "source": [
        "ff_exposures.to_csv('FF-Exposures.csv', index=False)"
      ],
      "metadata": {
        "id": "uoiiK_LMGkKr"
      },
      "execution_count": 21,
      "outputs": []
    },
    {
      "cell_type": "markdown",
      "source": [
        "#### **Calculate Financial Ratios**"
      ],
      "metadata": {
        "id": "SO1mCDY1Ibjo"
      }
    },
    {
      "cell_type": "markdown",
      "source": [
        "Looking at the first few rows of the financial data"
      ],
      "metadata": {
        "id": "Ai8rneic4RhT"
      }
    },
    {
      "cell_type": "code",
      "source": [
        "financial_data.head()"
      ],
      "metadata": {
        "colab": {
          "base_uri": "https://localhost:8080/",
          "height": 299
        },
        "id": "rWmSl3H_K4P1",
        "outputId": "526fb2e3-2b7d-4413-dc68-1d5bd1e54672"
      },
      "execution_count": 22,
      "outputs": [
        {
          "output_type": "execute_result",
          "data": {
            "text/plain": [
              "   gvkey  datadate  fyear indfmt consol popsrc datafmt  tic curcd      act  \\\n",
              "0   1004  20210531   2020   INDL      C      D     STD  AIR   USD    937.0   \n",
              "1   1045  20211231   2021   INDL      C      D     STD  AAL   USD  17336.0   \n",
              "2   1075  20211231   2021   INDL      C      D     STD  PNW   USD   1551.1   \n",
              "3   1078  20211231   2021   INDL      C      D     STD  ABT   USD  24239.0   \n",
              "4   1161  20211231   2021   INDL      C      D     STD  AMD   USD   8583.0   \n",
              "\n",
              "   ...      csho     ebit      invt        lct         lt       ni         re  \\\n",
              "0  ...    35.375    65.50   591.000    336.800    565.300    35.80    723.400   \n",
              "1  ...   647.728 -5514.00  1795.000  19006.000  73807.000 -1993.00 -14580.000   \n",
              "2  ...   112.927   805.31   367.167   1756.869  15981.762   618.72   3209.858   \n",
              "3  ...  1764.082  8966.00  5157.000  13105.000  39172.000  7071.00  23154.000   \n",
              "4  ...  1207.000  3678.00  1955.000   4240.000   4922.000  3162.00  -1454.000   \n",
              "\n",
              "        sale  costat  prcc_c  \n",
              "0   1651.400       A   36.22  \n",
              "1  29882.000       A   17.96  \n",
              "2   3803.835       A   70.59  \n",
              "3  43075.000       A  140.74  \n",
              "4  16434.000       A  143.90  \n",
              "\n",
              "[5 rows x 23 columns]"
            ],
            "text/html": [
              "\n",
              "  <div id=\"df-54d3e22f-1662-4cb0-b6bc-563ea166b895\">\n",
              "    <div class=\"colab-df-container\">\n",
              "      <div>\n",
              "<style scoped>\n",
              "    .dataframe tbody tr th:only-of-type {\n",
              "        vertical-align: middle;\n",
              "    }\n",
              "\n",
              "    .dataframe tbody tr th {\n",
              "        vertical-align: top;\n",
              "    }\n",
              "\n",
              "    .dataframe thead th {\n",
              "        text-align: right;\n",
              "    }\n",
              "</style>\n",
              "<table border=\"1\" class=\"dataframe\">\n",
              "  <thead>\n",
              "    <tr style=\"text-align: right;\">\n",
              "      <th></th>\n",
              "      <th>gvkey</th>\n",
              "      <th>datadate</th>\n",
              "      <th>fyear</th>\n",
              "      <th>indfmt</th>\n",
              "      <th>consol</th>\n",
              "      <th>popsrc</th>\n",
              "      <th>datafmt</th>\n",
              "      <th>tic</th>\n",
              "      <th>curcd</th>\n",
              "      <th>act</th>\n",
              "      <th>...</th>\n",
              "      <th>csho</th>\n",
              "      <th>ebit</th>\n",
              "      <th>invt</th>\n",
              "      <th>lct</th>\n",
              "      <th>lt</th>\n",
              "      <th>ni</th>\n",
              "      <th>re</th>\n",
              "      <th>sale</th>\n",
              "      <th>costat</th>\n",
              "      <th>prcc_c</th>\n",
              "    </tr>\n",
              "  </thead>\n",
              "  <tbody>\n",
              "    <tr>\n",
              "      <th>0</th>\n",
              "      <td>1004</td>\n",
              "      <td>20210531</td>\n",
              "      <td>2020</td>\n",
              "      <td>INDL</td>\n",
              "      <td>C</td>\n",
              "      <td>D</td>\n",
              "      <td>STD</td>\n",
              "      <td>AIR</td>\n",
              "      <td>USD</td>\n",
              "      <td>937.0</td>\n",
              "      <td>...</td>\n",
              "      <td>35.375</td>\n",
              "      <td>65.50</td>\n",
              "      <td>591.000</td>\n",
              "      <td>336.800</td>\n",
              "      <td>565.300</td>\n",
              "      <td>35.80</td>\n",
              "      <td>723.400</td>\n",
              "      <td>1651.400</td>\n",
              "      <td>A</td>\n",
              "      <td>36.22</td>\n",
              "    </tr>\n",
              "    <tr>\n",
              "      <th>1</th>\n",
              "      <td>1045</td>\n",
              "      <td>20211231</td>\n",
              "      <td>2021</td>\n",
              "      <td>INDL</td>\n",
              "      <td>C</td>\n",
              "      <td>D</td>\n",
              "      <td>STD</td>\n",
              "      <td>AAL</td>\n",
              "      <td>USD</td>\n",
              "      <td>17336.0</td>\n",
              "      <td>...</td>\n",
              "      <td>647.728</td>\n",
              "      <td>-5514.00</td>\n",
              "      <td>1795.000</td>\n",
              "      <td>19006.000</td>\n",
              "      <td>73807.000</td>\n",
              "      <td>-1993.00</td>\n",
              "      <td>-14580.000</td>\n",
              "      <td>29882.000</td>\n",
              "      <td>A</td>\n",
              "      <td>17.96</td>\n",
              "    </tr>\n",
              "    <tr>\n",
              "      <th>2</th>\n",
              "      <td>1075</td>\n",
              "      <td>20211231</td>\n",
              "      <td>2021</td>\n",
              "      <td>INDL</td>\n",
              "      <td>C</td>\n",
              "      <td>D</td>\n",
              "      <td>STD</td>\n",
              "      <td>PNW</td>\n",
              "      <td>USD</td>\n",
              "      <td>1551.1</td>\n",
              "      <td>...</td>\n",
              "      <td>112.927</td>\n",
              "      <td>805.31</td>\n",
              "      <td>367.167</td>\n",
              "      <td>1756.869</td>\n",
              "      <td>15981.762</td>\n",
              "      <td>618.72</td>\n",
              "      <td>3209.858</td>\n",
              "      <td>3803.835</td>\n",
              "      <td>A</td>\n",
              "      <td>70.59</td>\n",
              "    </tr>\n",
              "    <tr>\n",
              "      <th>3</th>\n",
              "      <td>1078</td>\n",
              "      <td>20211231</td>\n",
              "      <td>2021</td>\n",
              "      <td>INDL</td>\n",
              "      <td>C</td>\n",
              "      <td>D</td>\n",
              "      <td>STD</td>\n",
              "      <td>ABT</td>\n",
              "      <td>USD</td>\n",
              "      <td>24239.0</td>\n",
              "      <td>...</td>\n",
              "      <td>1764.082</td>\n",
              "      <td>8966.00</td>\n",
              "      <td>5157.000</td>\n",
              "      <td>13105.000</td>\n",
              "      <td>39172.000</td>\n",
              "      <td>7071.00</td>\n",
              "      <td>23154.000</td>\n",
              "      <td>43075.000</td>\n",
              "      <td>A</td>\n",
              "      <td>140.74</td>\n",
              "    </tr>\n",
              "    <tr>\n",
              "      <th>4</th>\n",
              "      <td>1161</td>\n",
              "      <td>20211231</td>\n",
              "      <td>2021</td>\n",
              "      <td>INDL</td>\n",
              "      <td>C</td>\n",
              "      <td>D</td>\n",
              "      <td>STD</td>\n",
              "      <td>AMD</td>\n",
              "      <td>USD</td>\n",
              "      <td>8583.0</td>\n",
              "      <td>...</td>\n",
              "      <td>1207.000</td>\n",
              "      <td>3678.00</td>\n",
              "      <td>1955.000</td>\n",
              "      <td>4240.000</td>\n",
              "      <td>4922.000</td>\n",
              "      <td>3162.00</td>\n",
              "      <td>-1454.000</td>\n",
              "      <td>16434.000</td>\n",
              "      <td>A</td>\n",
              "      <td>143.90</td>\n",
              "    </tr>\n",
              "  </tbody>\n",
              "</table>\n",
              "<p>5 rows × 23 columns</p>\n",
              "</div>\n",
              "      <button class=\"colab-df-convert\" onclick=\"convertToInteractive('df-54d3e22f-1662-4cb0-b6bc-563ea166b895')\"\n",
              "              title=\"Convert this dataframe to an interactive table.\"\n",
              "              style=\"display:none;\">\n",
              "        \n",
              "  <svg xmlns=\"http://www.w3.org/2000/svg\" height=\"24px\"viewBox=\"0 0 24 24\"\n",
              "       width=\"24px\">\n",
              "    <path d=\"M0 0h24v24H0V0z\" fill=\"none\"/>\n",
              "    <path d=\"M18.56 5.44l.94 2.06.94-2.06 2.06-.94-2.06-.94-.94-2.06-.94 2.06-2.06.94zm-11 1L8.5 8.5l.94-2.06 2.06-.94-2.06-.94L8.5 2.5l-.94 2.06-2.06.94zm10 10l.94 2.06.94-2.06 2.06-.94-2.06-.94-.94-2.06-.94 2.06-2.06.94z\"/><path d=\"M17.41 7.96l-1.37-1.37c-.4-.4-.92-.59-1.43-.59-.52 0-1.04.2-1.43.59L10.3 9.45l-7.72 7.72c-.78.78-.78 2.05 0 2.83L4 21.41c.39.39.9.59 1.41.59.51 0 1.02-.2 1.41-.59l7.78-7.78 2.81-2.81c.8-.78.8-2.07 0-2.86zM5.41 20L4 18.59l7.72-7.72 1.47 1.35L5.41 20z\"/>\n",
              "  </svg>\n",
              "      </button>\n",
              "      \n",
              "  <style>\n",
              "    .colab-df-container {\n",
              "      display:flex;\n",
              "      flex-wrap:wrap;\n",
              "      gap: 12px;\n",
              "    }\n",
              "\n",
              "    .colab-df-convert {\n",
              "      background-color: #E8F0FE;\n",
              "      border: none;\n",
              "      border-radius: 50%;\n",
              "      cursor: pointer;\n",
              "      display: none;\n",
              "      fill: #1967D2;\n",
              "      height: 32px;\n",
              "      padding: 0 0 0 0;\n",
              "      width: 32px;\n",
              "    }\n",
              "\n",
              "    .colab-df-convert:hover {\n",
              "      background-color: #E2EBFA;\n",
              "      box-shadow: 0px 1px 2px rgba(60, 64, 67, 0.3), 0px 1px 3px 1px rgba(60, 64, 67, 0.15);\n",
              "      fill: #174EA6;\n",
              "    }\n",
              "\n",
              "    [theme=dark] .colab-df-convert {\n",
              "      background-color: #3B4455;\n",
              "      fill: #D2E3FC;\n",
              "    }\n",
              "\n",
              "    [theme=dark] .colab-df-convert:hover {\n",
              "      background-color: #434B5C;\n",
              "      box-shadow: 0px 1px 3px 1px rgba(0, 0, 0, 0.15);\n",
              "      filter: drop-shadow(0px 1px 2px rgba(0, 0, 0, 0.3));\n",
              "      fill: #FFFFFF;\n",
              "    }\n",
              "  </style>\n",
              "\n",
              "      <script>\n",
              "        const buttonEl =\n",
              "          document.querySelector('#df-54d3e22f-1662-4cb0-b6bc-563ea166b895 button.colab-df-convert');\n",
              "        buttonEl.style.display =\n",
              "          google.colab.kernel.accessAllowed ? 'block' : 'none';\n",
              "\n",
              "        async function convertToInteractive(key) {\n",
              "          const element = document.querySelector('#df-54d3e22f-1662-4cb0-b6bc-563ea166b895');\n",
              "          const dataTable =\n",
              "            await google.colab.kernel.invokeFunction('convertToInteractive',\n",
              "                                                     [key], {});\n",
              "          if (!dataTable) return;\n",
              "\n",
              "          const docLinkHtml = 'Like what you see? Visit the ' +\n",
              "            '<a target=\"_blank\" href=https://colab.research.google.com/notebooks/data_table.ipynb>data table notebook</a>'\n",
              "            + ' to learn more about interactive tables.';\n",
              "          element.innerHTML = '';\n",
              "          dataTable['output_type'] = 'display_data';\n",
              "          await google.colab.output.renderOutput(dataTable, element);\n",
              "          const docLink = document.createElement('div');\n",
              "          docLink.innerHTML = docLinkHtml;\n",
              "          element.appendChild(docLink);\n",
              "        }\n",
              "      </script>\n",
              "    </div>\n",
              "  </div>\n",
              "  "
            ]
          },
          "metadata": {},
          "execution_count": 22
        }
      ]
    },
    {
      "cell_type": "markdown",
      "source": [
        "Looking for null values"
      ],
      "metadata": {
        "id": "suoVOFsR4Xfg"
      }
    },
    {
      "cell_type": "code",
      "source": [
        "financial_data.info()"
      ],
      "metadata": {
        "colab": {
          "base_uri": "https://localhost:8080/",
          "height": 0
        },
        "id": "MWCINVWPKqNU",
        "outputId": "0312dd7b-8c20-49a7-c92f-0a92b64c50d6"
      },
      "execution_count": 23,
      "outputs": [
        {
          "output_type": "stream",
          "name": "stdout",
          "text": [
            "<class 'pandas.core.frame.DataFrame'>\n",
            "RangeIndex: 1886 entries, 0 to 1885\n",
            "Data columns (total 23 columns):\n",
            " #   Column    Non-Null Count  Dtype  \n",
            "---  ------    --------------  -----  \n",
            " 0   gvkey     1886 non-null   int64  \n",
            " 1   datadate  1886 non-null   int64  \n",
            " 2   fyear     1886 non-null   int64  \n",
            " 3   indfmt    1886 non-null   object \n",
            " 4   consol    1886 non-null   object \n",
            " 5   popsrc    1886 non-null   object \n",
            " 6   datafmt   1886 non-null   object \n",
            " 7   tic       1886 non-null   object \n",
            " 8   curcd     1886 non-null   object \n",
            " 9   act       1431 non-null   float64\n",
            " 10  at        1886 non-null   float64\n",
            " 11  ceq       1886 non-null   float64\n",
            " 12  cogs      1886 non-null   float64\n",
            " 13  csho      1886 non-null   float64\n",
            " 14  ebit      1886 non-null   float64\n",
            " 15  invt      1852 non-null   float64\n",
            " 16  lct       1431 non-null   float64\n",
            " 17  lt        1881 non-null   float64\n",
            " 18  ni        1886 non-null   float64\n",
            " 19  re        1883 non-null   float64\n",
            " 20  sale      1886 non-null   float64\n",
            " 21  costat    1886 non-null   object \n",
            " 22  prcc_c    1886 non-null   float64\n",
            "dtypes: float64(13), int64(3), object(7)\n",
            "memory usage: 339.0+ KB\n"
          ]
        }
      ]
    },
    {
      "cell_type": "markdown",
      "source": [
        "Dropping the current assets and current liabilities columns"
      ],
      "metadata": {
        "id": "6w7JKF2q71oX"
      }
    },
    {
      "cell_type": "code",
      "source": [
        "#These columns have a lot of null values and replacing their missing values with averages would add a lot of noise to the data\n",
        "del financial_data['act']\n",
        "del financial_data['lct']"
      ],
      "metadata": {
        "id": "-HVJ0ODW8l_f"
      },
      "execution_count": 24,
      "outputs": []
    },
    {
      "cell_type": "markdown",
      "source": [
        "Filling the null values with the mean"
      ],
      "metadata": {
        "id": "t2mM2tMy4ZqU"
      }
    },
    {
      "cell_type": "code",
      "source": [
        "financial_data['lt'].fillna(value=financial_data['lt'].mean(), inplace=True)\n",
        "financial_data['re'].fillna(value=financial_data['re'].mean(), inplace=True)\n",
        "financial_data['invt'].fillna(value=financial_data['invt'].mean(), inplace=True)"
      ],
      "metadata": {
        "id": "Z34X64vlL01D"
      },
      "execution_count": 25,
      "outputs": []
    },
    {
      "cell_type": "markdown",
      "source": [
        "Calculating Financial ratios"
      ],
      "metadata": {
        "id": "eA8HbPE74kRm"
      }
    },
    {
      "cell_type": "code",
      "source": [
        "financial_data['Total Asset Turnover']=(financial_data['sale']/financial_data['at'])\n",
        "financial_data['ROA'] = financial_data['ni']/financial_data['at']\n",
        "financial_data['NET PROFIT MARGIN'] = financial_data['ni'] / financial_data['sale']\n",
        "financial_data['Market Value']=(financial_data['prcc_c']*financial_data['csho'])\n",
        "financial_data['Debt ratio']=(financial_data['lt']/financial_data['at'])\n",
        "financial_data['P/Sales']=(financial_data['Market Value']/financial_data['sale'])\n",
        "financial_data['Price/Book']=(financial_data['Market Value']/financial_data['ceq'])\n",
        "financial_data['P/E']=(financial_data['Market Value']/financial_data['ni'])\n",
        "financial_data['P/EBIT']=(financial_data['Market Value']/financial_data['ebit'])\n",
        "financial_data['Retention Ratio']=(financial_data['re']/financial_data['ni'])\n",
        "financial_data['Gross Profit Margin']=(financial_data['sale']-financial_data['cogs'])/financial_data['sale']\n",
        "financial_data['Inventory Turnover']=financial_data['cogs']/financial_data['invt']"
      ],
      "metadata": {
        "id": "iXnapiJCNHuy"
      },
      "execution_count": 26,
      "outputs": []
    },
    {
      "cell_type": "markdown",
      "source": [
        "Inverting the market-based ratios: This will make them better behaved, and it help in reducing outliers"
      ],
      "metadata": {
        "id": "oY6HQbmuz5gE"
      }
    },
    {
      "cell_type": "code",
      "source": [
        "financial_data['Sale/P']=1/(financial_data['P/Sales'])\n",
        "financial_data['Book/Price']=1/(financial_data['Price/Book'])\n",
        "financial_data['E/P']=1/(financial_data['P/E'])\n",
        "financial_data['EBIT/P']=1/(financial_data['P/EBIT'])"
      ],
      "metadata": {
        "id": "ua379lr-ztU3"
      },
      "execution_count": 27,
      "outputs": []
    },
    {
      "cell_type": "markdown",
      "source": [
        "Deleting the original market-based ratios"
      ],
      "metadata": {
        "id": "L6nFvJDm1MjJ"
      }
    },
    {
      "cell_type": "code",
      "source": [
        "del financial_data['P/Sales']\n",
        "del financial_data['Price/Book']\n",
        "del financial_data['P/E']\n",
        "del financial_data['P/EBIT']"
      ],
      "metadata": {
        "id": "UQi6pccP1LlN"
      },
      "execution_count": 28,
      "outputs": []
    },
    {
      "cell_type": "markdown",
      "source": [
        "Plotting boxplots to observe the skewness for different ratios"
      ],
      "metadata": {
        "id": "qtdgVN564xpE"
      }
    },
    {
      "cell_type": "code",
      "source": [
        "ratio_columns=['Total Asset Turnover', 'ROA',\n",
        "       'NET PROFIT MARGIN', 'Debt ratio', 'Retention Ratio',\n",
        "       'Gross Profit Margin', 'Sale/P', 'Book/Price',\n",
        "       'E/P', 'EBIT/P']"
      ],
      "metadata": {
        "id": "wUSvlKiG2MvA"
      },
      "execution_count": 29,
      "outputs": []
    },
    {
      "cell_type": "code",
      "source": [
        "plt.figure(figsize=(90,20))\n",
        "for i in range(0,len(ratio_columns)):\n",
        "  plt.subplot(1,25,i+1)\n",
        "  financial_data.boxplot(column=ratio_columns[i]);"
      ],
      "metadata": {
        "colab": {
          "base_uri": "https://localhost:8080/",
          "height": 677
        },
        "id": "MOK53ihFZL44",
        "outputId": "8f5e1d15-46fc-4035-ca53-01865824d232"
      },
      "execution_count": 30,
      "outputs": [
        {
          "output_type": "stream",
          "name": "stderr",
          "text": [
            "/usr/local/lib/python3.7/dist-packages/numpy/core/_methods.py:179: RuntimeWarning: invalid value encountered in reduce\n",
            "  ret = umr_sum(arr, axis, dtype, out, keepdims, where=where)\n"
          ]
        },
        {
          "output_type": "display_data",
          "data": {
            "text/plain": [
              "<Figure size 6480x1440 with 10 Axes>"
            ],
            "image/png": "[encoded data removed]"
          },
          "metadata": {
            "needs_background": "light"
          }
        }
      ]
    },
    {
      "cell_type": "markdown",
      "source": [
        "Winsorizing the ratios: I decided to have the maximum and minimum values both at 8%. That is because I noticed by observing the boxplots that having the limits less than that wouldn't deal with most of the outliers."
      ],
      "metadata": {
        "id": "6SqwvCoJ5D2t"
      }
    },
    {
      "cell_type": "code",
      "source": [
        "for i in range(0,len(ratio_columns)):\n",
        "  winsorize(financial_data[ratio_columns[i]], limits=[0.08, 0.08],inplace=True)"
      ],
      "metadata": {
        "id": "1BxLsjdR2iin"
      },
      "execution_count": 31,
      "outputs": []
    },
    {
      "cell_type": "markdown",
      "source": [
        "Plotting boxplots to see the difference after winsorizing: Most outliers seem to have been dealt with, there are a few columns that still have outliers. I'm not going to shrink the limits of these ratios even further since the outliers might be capturing important information, especially for firms that are too large or tooo small . Doing so might cause us to lose that information."
      ],
      "metadata": {
        "id": "I2rYd0vl5IA9"
      }
    },
    {
      "cell_type": "code",
      "source": [
        "plt.figure(figsize=(90,20))\n",
        "for i in range(0,len(ratio_columns)):\n",
        "  plt.subplot(1,25,i+1)\n",
        "  financial_data.boxplot(column=ratio_columns[i]);"
      ],
      "metadata": {
        "colab": {
          "base_uri": "https://localhost:8080/",
          "height": 638
        },
        "id": "VWYy3BZ33_Sw",
        "outputId": "287fcbd3-f8ff-488a-b644-a5085040821f"
      },
      "execution_count": 32,
      "outputs": [
        {
          "output_type": "display_data",
          "data": {
            "text/plain": [
              "<Figure size 6480x1440 with 10 Axes>"
            ],
            "image/png": "[encoded data removed]"
          },
          "metadata": {
            "needs_background": "light"
          }
        }
      ]
    },
    {
      "cell_type": "markdown",
      "source": [
        "Subsetting the data to contain only the tickers and their ratios"
      ],
      "metadata": {
        "id": "-D8xzBfLJdGP"
      }
    },
    {
      "cell_type": "code",
      "source": [
        "financial_data = pd.DataFrame(financial_data, columns =['tic']+ratio_columns)"
      ],
      "metadata": {
        "id": "UBpPc3GAISdr"
      },
      "execution_count": 33,
      "outputs": []
    },
    {
      "cell_type": "markdown",
      "source": [
        "Exporting the data to a csv"
      ],
      "metadata": {
        "id": "6LNY9TrQJlRv"
      }
    },
    {
      "cell_type": "code",
      "source": [
        "financial_data.to_csv('Fin-Ratios.csv', index=False)"
      ],
      "metadata": {
        "id": "Dw-58pxtIODu"
      },
      "execution_count": 34,
      "outputs": []
    },
    {
      "cell_type": "markdown",
      "source": [
        "#### **Industry Indicators**"
      ],
      "metadata": {
        "id": "-6jsDA7LHMLF"
      }
    },
    {
      "cell_type": "code",
      "source": [
        "industry_data.head()"
      ],
      "metadata": {
        "colab": {
          "base_uri": "https://localhost:8080/",
          "height": 206
        },
        "id": "kDgJqTETHQZO",
        "outputId": "ee236077-28f2-4da0-c70c-dfb8cd520cef"
      },
      "execution_count": 35,
      "outputs": [
        {
          "output_type": "execute_result",
          "data": {
            "text/plain": [
              "   gvkey  datadate  fyear indfmt consol popsrc datafmt  tic curcd costat  \\\n",
              "0   1004  20210531   2020   INDL      C      D     STD  AIR   USD      A   \n",
              "1   1045  20211231   2021   INDL      C      D     STD  AAL   USD      A   \n",
              "2   1075  20211231   2021   INDL      C      D     STD  PNW   USD      A   \n",
              "3   1078  20211231   2021   INDL      C      D     STD  ABT   USD      A   \n",
              "4   1161  20211231   2021   INDL      C      D     STD  AMD   USD      A   \n",
              "\n",
              "   ggroup  \n",
              "0    2010  \n",
              "1    2030  \n",
              "2    5510  \n",
              "3    3510  \n",
              "4    4530  "
            ],
            "text/html": [
              "\n",
              "  <div id=\"df-51ea17ef-2bea-4ea3-9cae-310040593133\">\n",
              "    <div class=\"colab-df-container\">\n",
              "      <div>\n",
              "<style scoped>\n",
              "    .dataframe tbody tr th:only-of-type {\n",
              "        vertical-align: middle;\n",
              "    }\n",
              "\n",
              "    .dataframe tbody tr th {\n",
              "        vertical-align: top;\n",
              "    }\n",
              "\n",
              "    .dataframe thead th {\n",
              "        text-align: right;\n",
              "    }\n",
              "</style>\n",
              "<table border=\"1\" class=\"dataframe\">\n",
              "  <thead>\n",
              "    <tr style=\"text-align: right;\">\n",
              "      <th></th>\n",
              "      <th>gvkey</th>\n",
              "      <th>datadate</th>\n",
              "      <th>fyear</th>\n",
              "      <th>indfmt</th>\n",
              "      <th>consol</th>\n",
              "      <th>popsrc</th>\n",
              "      <th>datafmt</th>\n",
              "      <th>tic</th>\n",
              "      <th>curcd</th>\n",
              "      <th>costat</th>\n",
              "      <th>ggroup</th>\n",
              "    </tr>\n",
              "  </thead>\n",
              "  <tbody>\n",
              "    <tr>\n",
              "      <th>0</th>\n",
              "      <td>1004</td>\n",
              "      <td>20210531</td>\n",
              "      <td>2020</td>\n",
              "      <td>INDL</td>\n",
              "      <td>C</td>\n",
              "      <td>D</td>\n",
              "      <td>STD</td>\n",
              "      <td>AIR</td>\n",
              "      <td>USD</td>\n",
              "      <td>A</td>\n",
              "      <td>2010</td>\n",
              "    </tr>\n",
              "    <tr>\n",
              "      <th>1</th>\n",
              "      <td>1045</td>\n",
              "      <td>20211231</td>\n",
              "      <td>2021</td>\n",
              "      <td>INDL</td>\n",
              "      <td>C</td>\n",
              "      <td>D</td>\n",
              "      <td>STD</td>\n",
              "      <td>AAL</td>\n",
              "      <td>USD</td>\n",
              "      <td>A</td>\n",
              "      <td>2030</td>\n",
              "    </tr>\n",
              "    <tr>\n",
              "      <th>2</th>\n",
              "      <td>1075</td>\n",
              "      <td>20211231</td>\n",
              "      <td>2021</td>\n",
              "      <td>INDL</td>\n",
              "      <td>C</td>\n",
              "      <td>D</td>\n",
              "      <td>STD</td>\n",
              "      <td>PNW</td>\n",
              "      <td>USD</td>\n",
              "      <td>A</td>\n",
              "      <td>5510</td>\n",
              "    </tr>\n",
              "    <tr>\n",
              "      <th>3</th>\n",
              "      <td>1078</td>\n",
              "      <td>20211231</td>\n",
              "      <td>2021</td>\n",
              "      <td>INDL</td>\n",
              "      <td>C</td>\n",
              "      <td>D</td>\n",
              "      <td>STD</td>\n",
              "      <td>ABT</td>\n",
              "      <td>USD</td>\n",
              "      <td>A</td>\n",
              "      <td>3510</td>\n",
              "    </tr>\n",
              "    <tr>\n",
              "      <th>4</th>\n",
              "      <td>1161</td>\n",
              "      <td>20211231</td>\n",
              "      <td>2021</td>\n",
              "      <td>INDL</td>\n",
              "      <td>C</td>\n",
              "      <td>D</td>\n",
              "      <td>STD</td>\n",
              "      <td>AMD</td>\n",
              "      <td>USD</td>\n",
              "      <td>A</td>\n",
              "      <td>4530</td>\n",
              "    </tr>\n",
              "  </tbody>\n",
              "</table>\n",
              "</div>\n",
              "      <button class=\"colab-df-convert\" onclick=\"convertToInteractive('df-51ea17ef-2bea-4ea3-9cae-310040593133')\"\n",
              "              title=\"Convert this dataframe to an interactive table.\"\n",
              "              style=\"display:none;\">\n",
              "        \n",
              "  <svg xmlns=\"http://www.w3.org/2000/svg\" height=\"24px\"viewBox=\"0 0 24 24\"\n",
              "       width=\"24px\">\n",
              "    <path d=\"M0 0h24v24H0V0z\" fill=\"none\"/>\n",
              "    <path d=\"M18.56 5.44l.94 2.06.94-2.06 2.06-.94-2.06-.94-.94-2.06-.94 2.06-2.06.94zm-11 1L8.5 8.5l.94-2.06 2.06-.94-2.06-.94L8.5 2.5l-.94 2.06-2.06.94zm10 10l.94 2.06.94-2.06 2.06-.94-2.06-.94-.94-2.06-.94 2.06-2.06.94z\"/><path d=\"M17.41 7.96l-1.37-1.37c-.4-.4-.92-.59-1.43-.59-.52 0-1.04.2-1.43.59L10.3 9.45l-7.72 7.72c-.78.78-.78 2.05 0 2.83L4 21.41c.39.39.9.59 1.41.59.51 0 1.02-.2 1.41-.59l7.78-7.78 2.81-2.81c.8-.78.8-2.07 0-2.86zM5.41 20L4 18.59l7.72-7.72 1.47 1.35L5.41 20z\"/>\n",
              "  </svg>\n",
              "      </button>\n",
              "      \n",
              "  <style>\n",
              "    .colab-df-container {\n",
              "      display:flex;\n",
              "      flex-wrap:wrap;\n",
              "      gap: 12px;\n",
              "    }\n",
              "\n",
              "    .colab-df-convert {\n",
              "      background-color: #E8F0FE;\n",
              "      border: none;\n",
              "      border-radius: 50%;\n",
              "      cursor: pointer;\n",
              "      display: none;\n",
              "      fill: #1967D2;\n",
              "      height: 32px;\n",
              "      padding: 0 0 0 0;\n",
              "      width: 32px;\n",
              "    }\n",
              "\n",
              "    .colab-df-convert:hover {\n",
              "      background-color: #E2EBFA;\n",
              "      box-shadow: 0px 1px 2px rgba(60, 64, 67, 0.3), 0px 1px 3px 1px rgba(60, 64, 67, 0.15);\n",
              "      fill: #174EA6;\n",
              "    }\n",
              "\n",
              "    [theme=dark] .colab-df-convert {\n",
              "      background-color: #3B4455;\n",
              "      fill: #D2E3FC;\n",
              "    }\n",
              "\n",
              "    [theme=dark] .colab-df-convert:hover {\n",
              "      background-color: #434B5C;\n",
              "      box-shadow: 0px 1px 3px 1px rgba(0, 0, 0, 0.15);\n",
              "      filter: drop-shadow(0px 1px 2px rgba(0, 0, 0, 0.3));\n",
              "      fill: #FFFFFF;\n",
              "    }\n",
              "  </style>\n",
              "\n",
              "      <script>\n",
              "        const buttonEl =\n",
              "          document.querySelector('#df-51ea17ef-2bea-4ea3-9cae-310040593133 button.colab-df-convert');\n",
              "        buttonEl.style.display =\n",
              "          google.colab.kernel.accessAllowed ? 'block' : 'none';\n",
              "\n",
              "        async function convertToInteractive(key) {\n",
              "          const element = document.querySelector('#df-51ea17ef-2bea-4ea3-9cae-310040593133');\n",
              "          const dataTable =\n",
              "            await google.colab.kernel.invokeFunction('convertToInteractive',\n",
              "                                                     [key], {});\n",
              "          if (!dataTable) return;\n",
              "\n",
              "          const docLinkHtml = 'Like what you see? Visit the ' +\n",
              "            '<a target=\"_blank\" href=https://colab.research.google.com/notebooks/data_table.ipynb>data table notebook</a>'\n",
              "            + ' to learn more about interactive tables.';\n",
              "          element.innerHTML = '';\n",
              "          dataTable['output_type'] = 'display_data';\n",
              "          await google.colab.output.renderOutput(dataTable, element);\n",
              "          const docLink = document.createElement('div');\n",
              "          docLink.innerHTML = docLinkHtml;\n",
              "          element.appendChild(docLink);\n",
              "        }\n",
              "      </script>\n",
              "    </div>\n",
              "  </div>\n",
              "  "
            ]
          },
          "metadata": {},
          "execution_count": 35
        }
      ]
    },
    {
      "cell_type": "code",
      "source": [
        "industry_data.info()"
      ],
      "metadata": {
        "colab": {
          "base_uri": "https://localhost:8080/",
          "height": 0
        },
        "id": "tA2ZplHJH6Y-",
        "outputId": "a3beee01-2661-4925-cc31-22b113c3b6b4"
      },
      "execution_count": 36,
      "outputs": [
        {
          "output_type": "stream",
          "name": "stdout",
          "text": [
            "<class 'pandas.core.frame.DataFrame'>\n",
            "RangeIndex: 1886 entries, 0 to 1885\n",
            "Data columns (total 11 columns):\n",
            " #   Column    Non-Null Count  Dtype \n",
            "---  ------    --------------  ----- \n",
            " 0   gvkey     1886 non-null   int64 \n",
            " 1   datadate  1886 non-null   int64 \n",
            " 2   fyear     1886 non-null   int64 \n",
            " 3   indfmt    1886 non-null   object\n",
            " 4   consol    1886 non-null   object\n",
            " 5   popsrc    1886 non-null   object\n",
            " 6   datafmt   1886 non-null   object\n",
            " 7   tic       1886 non-null   object\n",
            " 8   curcd     1886 non-null   object\n",
            " 9   costat    1886 non-null   object\n",
            " 10  ggroup    1886 non-null   int64 \n",
            "dtypes: int64(4), object(7)\n",
            "memory usage: 162.2+ KB\n"
          ]
        }
      ]
    },
    {
      "cell_type": "markdown",
      "source": [
        "Comverting the ggroup column into dummy variables"
      ],
      "metadata": {
        "id": "BTOW4y0ihp5l"
      }
    },
    {
      "cell_type": "code",
      "source": [
        "industry_data= pd.get_dummies(industry_data, columns=['ggroup'])"
      ],
      "metadata": {
        "id": "geif_1b0bMwP"
      },
      "execution_count": 37,
      "outputs": []
    },
    {
      "cell_type": "markdown",
      "source": [
        "Subsetting the data to contain only the tickers and their industry indicator"
      ],
      "metadata": {
        "id": "oJgHKq4TKdJy"
      }
    },
    {
      "cell_type": "code",
      "source": [
        "industry_data= industry_data.drop(columns=['gvkey', 'datadate', 'fyear', 'indfmt', 'consol', 'popsrc', 'datafmt'\n",
        "      , 'curcd', 'costat'])"
      ],
      "metadata": {
        "id": "LwwvLlREH9qH"
      },
      "execution_count": 38,
      "outputs": []
    },
    {
      "cell_type": "markdown",
      "source": [
        "Exporting the data to a csv"
      ],
      "metadata": {
        "id": "j8jFuWn7LBJG"
      }
    },
    {
      "cell_type": "code",
      "source": [
        "industry_data.to_csv('Industry.csv', index=False)"
      ],
      "metadata": {
        "id": "qVCrKSQOK-Nc"
      },
      "execution_count": 39,
      "outputs": []
    },
    {
      "cell_type": "markdown",
      "source": [
        "### **Regressions**"
      ],
      "metadata": {
        "id": "PtPN5pMGLQNa"
      }
    },
    {
      "cell_type": "markdown",
      "source": [
        "Looking at the first few rows of the returns dataset"
      ],
      "metadata": {
        "id": "39Pc7zATX68s"
      }
    },
    {
      "cell_type": "code",
      "source": [
        "returns_22.head()"
      ],
      "metadata": {
        "colab": {
          "base_uri": "https://localhost:8080/",
          "height": 206
        },
        "id": "pdgxu_RzTift",
        "outputId": "d650a5ca-ca66-4649-e084-97950450d666"
      },
      "execution_count": 40,
      "outputs": [
        {
          "output_type": "execute_result",
          "data": {
            "text/plain": [
              "  Ticker                     Name   RetYTD\n",
              "0      A     Agilent Technologies  -0.2080\n",
              "1     AA               Alcoa Corp   0.4731\n",
              "2    AAL     American Airlines Gp   0.0579\n",
              "3    AAN  Aarons Holdings Company  -0.1327\n",
              "4   AAON                 Aaon Inc  -0.3456"
            ],
            "text/html": [
              "\n",
              "  <div id=\"df-987e06d4-da84-460d-a38a-c1b4ea8296a4\">\n",
              "    <div class=\"colab-df-container\">\n",
              "      <div>\n",
              "<style scoped>\n",
              "    .dataframe tbody tr th:only-of-type {\n",
              "        vertical-align: middle;\n",
              "    }\n",
              "\n",
              "    .dataframe tbody tr th {\n",
              "        vertical-align: top;\n",
              "    }\n",
              "\n",
              "    .dataframe thead th {\n",
              "        text-align: right;\n",
              "    }\n",
              "</style>\n",
              "<table border=\"1\" class=\"dataframe\">\n",
              "  <thead>\n",
              "    <tr style=\"text-align: right;\">\n",
              "      <th></th>\n",
              "      <th>Ticker</th>\n",
              "      <th>Name</th>\n",
              "      <th>RetYTD</th>\n",
              "    </tr>\n",
              "  </thead>\n",
              "  <tbody>\n",
              "    <tr>\n",
              "      <th>0</th>\n",
              "      <td>A</td>\n",
              "      <td>Agilent Technologies</td>\n",
              "      <td>-0.2080</td>\n",
              "    </tr>\n",
              "    <tr>\n",
              "      <th>1</th>\n",
              "      <td>AA</td>\n",
              "      <td>Alcoa Corp</td>\n",
              "      <td>0.4731</td>\n",
              "    </tr>\n",
              "    <tr>\n",
              "      <th>2</th>\n",
              "      <td>AAL</td>\n",
              "      <td>American Airlines Gp</td>\n",
              "      <td>0.0579</td>\n",
              "    </tr>\n",
              "    <tr>\n",
              "      <th>3</th>\n",
              "      <td>AAN</td>\n",
              "      <td>Aarons Holdings Company</td>\n",
              "      <td>-0.1327</td>\n",
              "    </tr>\n",
              "    <tr>\n",
              "      <th>4</th>\n",
              "      <td>AAON</td>\n",
              "      <td>Aaon Inc</td>\n",
              "      <td>-0.3456</td>\n",
              "    </tr>\n",
              "  </tbody>\n",
              "</table>\n",
              "</div>\n",
              "      <button class=\"colab-df-convert\" onclick=\"convertToInteractive('df-987e06d4-da84-460d-a38a-c1b4ea8296a4')\"\n",
              "              title=\"Convert this dataframe to an interactive table.\"\n",
              "              style=\"display:none;\">\n",
              "        \n",
              "  <svg xmlns=\"http://www.w3.org/2000/svg\" height=\"24px\"viewBox=\"0 0 24 24\"\n",
              "       width=\"24px\">\n",
              "    <path d=\"M0 0h24v24H0V0z\" fill=\"none\"/>\n",
              "    <path d=\"M18.56 5.44l.94 2.06.94-2.06 2.06-.94-2.06-.94-.94-2.06-.94 2.06-2.06.94zm-11 1L8.5 8.5l.94-2.06 2.06-.94-2.06-.94L8.5 2.5l-.94 2.06-2.06.94zm10 10l.94 2.06.94-2.06 2.06-.94-2.06-.94-.94-2.06-.94 2.06-2.06.94z\"/><path d=\"M17.41 7.96l-1.37-1.37c-.4-.4-.92-.59-1.43-.59-.52 0-1.04.2-1.43.59L10.3 9.45l-7.72 7.72c-.78.78-.78 2.05 0 2.83L4 21.41c.39.39.9.59 1.41.59.51 0 1.02-.2 1.41-.59l7.78-7.78 2.81-2.81c.8-.78.8-2.07 0-2.86zM5.41 20L4 18.59l7.72-7.72 1.47 1.35L5.41 20z\"/>\n",
              "  </svg>\n",
              "      </button>\n",
              "      \n",
              "  <style>\n",
              "    .colab-df-container {\n",
              "      display:flex;\n",
              "      flex-wrap:wrap;\n",
              "      gap: 12px;\n",
              "    }\n",
              "\n",
              "    .colab-df-convert {\n",
              "      background-color: #E8F0FE;\n",
              "      border: none;\n",
              "      border-radius: 50%;\n",
              "      cursor: pointer;\n",
              "      display: none;\n",
              "      fill: #1967D2;\n",
              "      height: 32px;\n",
              "      padding: 0 0 0 0;\n",
              "      width: 32px;\n",
              "    }\n",
              "\n",
              "    .colab-df-convert:hover {\n",
              "      background-color: #E2EBFA;\n",
              "      box-shadow: 0px 1px 2px rgba(60, 64, 67, 0.3), 0px 1px 3px 1px rgba(60, 64, 67, 0.15);\n",
              "      fill: #174EA6;\n",
              "    }\n",
              "\n",
              "    [theme=dark] .colab-df-convert {\n",
              "      background-color: #3B4455;\n",
              "      fill: #D2E3FC;\n",
              "    }\n",
              "\n",
              "    [theme=dark] .colab-df-convert:hover {\n",
              "      background-color: #434B5C;\n",
              "      box-shadow: 0px 1px 3px 1px rgba(0, 0, 0, 0.15);\n",
              "      filter: drop-shadow(0px 1px 2px rgba(0, 0, 0, 0.3));\n",
              "      fill: #FFFFFF;\n",
              "    }\n",
              "  </style>\n",
              "\n",
              "      <script>\n",
              "        const buttonEl =\n",
              "          document.querySelector('#df-987e06d4-da84-460d-a38a-c1b4ea8296a4 button.colab-df-convert');\n",
              "        buttonEl.style.display =\n",
              "          google.colab.kernel.accessAllowed ? 'block' : 'none';\n",
              "\n",
              "        async function convertToInteractive(key) {\n",
              "          const element = document.querySelector('#df-987e06d4-da84-460d-a38a-c1b4ea8296a4');\n",
              "          const dataTable =\n",
              "            await google.colab.kernel.invokeFunction('convertToInteractive',\n",
              "                                                     [key], {});\n",
              "          if (!dataTable) return;\n",
              "\n",
              "          const docLinkHtml = 'Like what you see? Visit the ' +\n",
              "            '<a target=\"_blank\" href=https://colab.research.google.com/notebooks/data_table.ipynb>data table notebook</a>'\n",
              "            + ' to learn more about interactive tables.';\n",
              "          element.innerHTML = '';\n",
              "          dataTable['output_type'] = 'display_data';\n",
              "          await google.colab.output.renderOutput(dataTable, element);\n",
              "          const docLink = document.createElement('div');\n",
              "          docLink.innerHTML = docLinkHtml;\n",
              "          element.appendChild(docLink);\n",
              "        }\n",
              "      </script>\n",
              "    </div>\n",
              "  </div>\n",
              "  "
            ]
          },
          "metadata": {},
          "execution_count": 40
        }
      ]
    },
    {
      "cell_type": "markdown",
      "source": [
        "Looking for null values in the dataset"
      ],
      "metadata": {
        "id": "WuVJU5mFYq9k"
      }
    },
    {
      "cell_type": "code",
      "source": [
        "returns_22.info()"
      ],
      "metadata": {
        "colab": {
          "base_uri": "https://localhost:8080/",
          "height": 0
        },
        "id": "WTFWpxhGUA2u",
        "outputId": "721bcbe1-6e5f-4fc8-fe1b-6d9387ef449e"
      },
      "execution_count": 41,
      "outputs": [
        {
          "output_type": "stream",
          "name": "stdout",
          "text": [
            "<class 'pandas.core.frame.DataFrame'>\n",
            "RangeIndex: 1886 entries, 0 to 1885\n",
            "Data columns (total 3 columns):\n",
            " #   Column  Non-Null Count  Dtype  \n",
            "---  ------  --------------  -----  \n",
            " 0   Ticker  1886 non-null   object \n",
            " 1   Name    1886 non-null   object \n",
            " 2   RetYTD  1886 non-null   float64\n",
            "dtypes: float64(1), object(2)\n",
            "memory usage: 44.3+ KB\n"
          ]
        }
      ]
    },
    {
      "cell_type": "markdown",
      "source": [
        "#### Risk Regressions"
      ],
      "metadata": {
        "id": "dGwsz5LYLcE4"
      }
    },
    {
      "cell_type": "markdown",
      "source": [
        "Looking at the first few rows"
      ],
      "metadata": {
        "id": "vBCr79-zY2ll"
      }
    },
    {
      "cell_type": "code",
      "source": [
        "ff_exposures.head()"
      ],
      "metadata": {
        "colab": {
          "base_uri": "https://localhost:8080/",
          "height": 206
        },
        "id": "cuPSCE0MLk3d",
        "outputId": "cb60c89c-8a5c-4bb9-a913-979034965411"
      },
      "execution_count": 42,
      "outputs": [
        {
          "output_type": "execute_result",
          "data": {
            "text/plain": [
              "  TICKER     mktrf       smb       hml\n",
              "0   JJSF  0.452887  0.356829  0.524302\n",
              "1   PLXS  0.955657  0.229663  0.598402\n",
              "2   ORCL  0.839476 -0.587083  0.016158\n",
              "3   MSFT  0.935809 -0.330320 -0.401040\n",
              "4   TROW  1.121489  0.008855  0.145466"
            ],
            "text/html": [
              "\n",
              "  <div id=\"df-52c3890a-989d-4330-9b8c-3e08241db7ba\">\n",
              "    <div class=\"colab-df-container\">\n",
              "      <div>\n",
              "<style scoped>\n",
              "    .dataframe tbody tr th:only-of-type {\n",
              "        vertical-align: middle;\n",
              "    }\n",
              "\n",
              "    .dataframe tbody tr th {\n",
              "        vertical-align: top;\n",
              "    }\n",
              "\n",
              "    .dataframe thead th {\n",
              "        text-align: right;\n",
              "    }\n",
              "</style>\n",
              "<table border=\"1\" class=\"dataframe\">\n",
              "  <thead>\n",
              "    <tr style=\"text-align: right;\">\n",
              "      <th></th>\n",
              "      <th>TICKER</th>\n",
              "      <th>mktrf</th>\n",
              "      <th>smb</th>\n",
              "      <th>hml</th>\n",
              "    </tr>\n",
              "  </thead>\n",
              "  <tbody>\n",
              "    <tr>\n",
              "      <th>0</th>\n",
              "      <td>JJSF</td>\n",
              "      <td>0.452887</td>\n",
              "      <td>0.356829</td>\n",
              "      <td>0.524302</td>\n",
              "    </tr>\n",
              "    <tr>\n",
              "      <th>1</th>\n",
              "      <td>PLXS</td>\n",
              "      <td>0.955657</td>\n",
              "      <td>0.229663</td>\n",
              "      <td>0.598402</td>\n",
              "    </tr>\n",
              "    <tr>\n",
              "      <th>2</th>\n",
              "      <td>ORCL</td>\n",
              "      <td>0.839476</td>\n",
              "      <td>-0.587083</td>\n",
              "      <td>0.016158</td>\n",
              "    </tr>\n",
              "    <tr>\n",
              "      <th>3</th>\n",
              "      <td>MSFT</td>\n",
              "      <td>0.935809</td>\n",
              "      <td>-0.330320</td>\n",
              "      <td>-0.401040</td>\n",
              "    </tr>\n",
              "    <tr>\n",
              "      <th>4</th>\n",
              "      <td>TROW</td>\n",
              "      <td>1.121489</td>\n",
              "      <td>0.008855</td>\n",
              "      <td>0.145466</td>\n",
              "    </tr>\n",
              "  </tbody>\n",
              "</table>\n",
              "</div>\n",
              "      <button class=\"colab-df-convert\" onclick=\"convertToInteractive('df-52c3890a-989d-4330-9b8c-3e08241db7ba')\"\n",
              "              title=\"Convert this dataframe to an interactive table.\"\n",
              "              style=\"display:none;\">\n",
              "        \n",
              "  <svg xmlns=\"http://www.w3.org/2000/svg\" height=\"24px\"viewBox=\"0 0 24 24\"\n",
              "       width=\"24px\">\n",
              "    <path d=\"M0 0h24v24H0V0z\" fill=\"none\"/>\n",
              "    <path d=\"M18.56 5.44l.94 2.06.94-2.06 2.06-.94-2.06-.94-.94-2.06-.94 2.06-2.06.94zm-11 1L8.5 8.5l.94-2.06 2.06-.94-2.06-.94L8.5 2.5l-.94 2.06-2.06.94zm10 10l.94 2.06.94-2.06 2.06-.94-2.06-.94-.94-2.06-.94 2.06-2.06.94z\"/><path d=\"M17.41 7.96l-1.37-1.37c-.4-.4-.92-.59-1.43-.59-.52 0-1.04.2-1.43.59L10.3 9.45l-7.72 7.72c-.78.78-.78 2.05 0 2.83L4 21.41c.39.39.9.59 1.41.59.51 0 1.02-.2 1.41-.59l7.78-7.78 2.81-2.81c.8-.78.8-2.07 0-2.86zM5.41 20L4 18.59l7.72-7.72 1.47 1.35L5.41 20z\"/>\n",
              "  </svg>\n",
              "      </button>\n",
              "      \n",
              "  <style>\n",
              "    .colab-df-container {\n",
              "      display:flex;\n",
              "      flex-wrap:wrap;\n",
              "      gap: 12px;\n",
              "    }\n",
              "\n",
              "    .colab-df-convert {\n",
              "      background-color: #E8F0FE;\n",
              "      border: none;\n",
              "      border-radius: 50%;\n",
              "      cursor: pointer;\n",
              "      display: none;\n",
              "      fill: #1967D2;\n",
              "      height: 32px;\n",
              "      padding: 0 0 0 0;\n",
              "      width: 32px;\n",
              "    }\n",
              "\n",
              "    .colab-df-convert:hover {\n",
              "      background-color: #E2EBFA;\n",
              "      box-shadow: 0px 1px 2px rgba(60, 64, 67, 0.3), 0px 1px 3px 1px rgba(60, 64, 67, 0.15);\n",
              "      fill: #174EA6;\n",
              "    }\n",
              "\n",
              "    [theme=dark] .colab-df-convert {\n",
              "      background-color: #3B4455;\n",
              "      fill: #D2E3FC;\n",
              "    }\n",
              "\n",
              "    [theme=dark] .colab-df-convert:hover {\n",
              "      background-color: #434B5C;\n",
              "      box-shadow: 0px 1px 3px 1px rgba(0, 0, 0, 0.15);\n",
              "      filter: drop-shadow(0px 1px 2px rgba(0, 0, 0, 0.3));\n",
              "      fill: #FFFFFF;\n",
              "    }\n",
              "  </style>\n",
              "\n",
              "      <script>\n",
              "        const buttonEl =\n",
              "          document.querySelector('#df-52c3890a-989d-4330-9b8c-3e08241db7ba button.colab-df-convert');\n",
              "        buttonEl.style.display =\n",
              "          google.colab.kernel.accessAllowed ? 'block' : 'none';\n",
              "\n",
              "        async function convertToInteractive(key) {\n",
              "          const element = document.querySelector('#df-52c3890a-989d-4330-9b8c-3e08241db7ba');\n",
              "          const dataTable =\n",
              "            await google.colab.kernel.invokeFunction('convertToInteractive',\n",
              "                                                     [key], {});\n",
              "          if (!dataTable) return;\n",
              "\n",
              "          const docLinkHtml = 'Like what you see? Visit the ' +\n",
              "            '<a target=\"_blank\" href=https://colab.research.google.com/notebooks/data_table.ipynb>data table notebook</a>'\n",
              "            + ' to learn more about interactive tables.';\n",
              "          element.innerHTML = '';\n",
              "          dataTable['output_type'] = 'display_data';\n",
              "          await google.colab.output.renderOutput(dataTable, element);\n",
              "          const docLink = document.createElement('div');\n",
              "          docLink.innerHTML = docLinkHtml;\n",
              "          element.appendChild(docLink);\n",
              "        }\n",
              "      </script>\n",
              "    </div>\n",
              "  </div>\n",
              "  "
            ]
          },
          "metadata": {},
          "execution_count": 42
        }
      ]
    },
    {
      "cell_type": "markdown",
      "source": [
        "Renaming the ticker column to match the stock returns dataset"
      ],
      "metadata": {
        "id": "kF9RF_cGUjwD"
      }
    },
    {
      "cell_type": "code",
      "source": [
        "ff_exposures.rename(columns={'TICKER':'Ticker'}, inplace=True)"
      ],
      "metadata": {
        "id": "qhW4qWfEUJbM"
      },
      "execution_count": 43,
      "outputs": []
    },
    {
      "cell_type": "markdown",
      "source": [
        "Merging the two datasets"
      ],
      "metadata": {
        "id": "gHFiYdL2VbYk"
      }
    },
    {
      "cell_type": "code",
      "source": [
        "ff_exposures=pd.merge(ff_exposures, returns_22, on='Ticker')"
      ],
      "metadata": {
        "id": "W30P2qLYUeMi"
      },
      "execution_count": 44,
      "outputs": []
    },
    {
      "cell_type": "markdown",
      "source": [
        "Looking for null values, there aren't any which means that the dataset matches perfectly"
      ],
      "metadata": {
        "id": "N7tkE5hrVb_m"
      }
    },
    {
      "cell_type": "code",
      "source": [
        "ff_exposures.info()"
      ],
      "metadata": {
        "colab": {
          "base_uri": "https://localhost:8080/",
          "height": 0
        },
        "id": "KhyLSx5lVT-P",
        "outputId": "ae5049a0-98ec-4a19-999e-44d9c6633855"
      },
      "execution_count": 45,
      "outputs": [
        {
          "output_type": "stream",
          "name": "stdout",
          "text": [
            "<class 'pandas.core.frame.DataFrame'>\n",
            "Int64Index: 1886 entries, 0 to 1885\n",
            "Data columns (total 6 columns):\n",
            " #   Column  Non-Null Count  Dtype  \n",
            "---  ------  --------------  -----  \n",
            " 0   Ticker  1886 non-null   object \n",
            " 1   mktrf   1886 non-null   float64\n",
            " 2   smb     1886 non-null   float64\n",
            " 3   hml     1886 non-null   float64\n",
            " 4   Name    1886 non-null   object \n",
            " 5   RetYTD  1886 non-null   float64\n",
            "dtypes: float64(4), object(2)\n",
            "memory usage: 103.1+ KB\n"
          ]
        }
      ]
    },
    {
      "cell_type": "markdown",
      "source": [
        "Running the regression"
      ],
      "metadata": {
        "id": "tBQATfXah8g5"
      }
    },
    {
      "cell_type": "code",
      "source": [
        "y =ff_exposures[\"RetYTD\"] #Defining the X and y variables\n",
        "X = ff_exposures[['mktrf', 'smb', 'hml']] \n",
        "X = sm.add_constant(X) # adding a constant\n",
        "model = sm.OLS(y, X).fit()#Running the regression\n",
        "model.summary()"
      ],
      "metadata": {
        "colab": {
          "base_uri": "https://localhost:8080/",
          "height": 550
        },
        "id": "U5I71cxUQ48a",
        "outputId": "b6aa4263-41c9-4bf6-90c2-34599feb40d0"
      },
      "execution_count": 46,
      "outputs": [
        {
          "output_type": "stream",
          "name": "stderr",
          "text": [
            "/usr/local/lib/python3.7/dist-packages/statsmodels/tsa/tsatools.py:117: FutureWarning: In a future version of pandas all arguments of concat except for the argument 'objs' will be keyword-only\n",
            "  x = pd.concat(x[::order], 1)\n"
          ]
        },
        {
          "output_type": "execute_result",
          "data": {
            "text/plain": [
              "<class 'statsmodels.iolib.summary.Summary'>\n",
              "\"\"\"\n",
              "                            OLS Regression Results                            \n",
              "==============================================================================\n",
              "Dep. Variable:                 RetYTD   R-squared:                       0.095\n",
              "Model:                            OLS   Adj. R-squared:                  0.093\n",
              "Method:                 Least Squares   F-statistic:                     65.53\n",
              "Date:                Thu, 28 Apr 2022   Prob (F-statistic):           2.66e-40\n",
              "Time:                        02:32:07   Log-Likelihood:                 79.981\n",
              "No. Observations:                1886   AIC:                            -152.0\n",
              "Df Residuals:                    1882   BIC:                            -129.8\n",
              "Df Model:                           3                                         \n",
              "Covariance Type:            nonrobust                                         \n",
              "==============================================================================\n",
              "                 coef    std err          t      P>|t|      [0.025      0.975]\n",
              "------------------------------------------------------------------------------\n",
              "const         -0.0981      0.011     -8.780      0.000      -0.120      -0.076\n",
              "mktrf          0.0082      0.009      0.952      0.341      -0.009       0.025\n",
              "smb           -0.0120      0.004     -2.739      0.006      -0.021      -0.003\n",
              "hml            0.1068      0.008     13.818      0.000       0.092       0.122\n",
              "==============================================================================\n",
              "Omnibus:                      642.277   Durbin-Watson:                   1.958\n",
              "Prob(Omnibus):                  0.000   Jarque-Bera (JB):             3600.892\n",
              "Skew:                           1.493   Prob(JB):                         0.00\n",
              "Kurtosis:                       9.076   Cond. No.                         4.56\n",
              "==============================================================================\n",
              "\n",
              "Warnings:\n",
              "[1] Standard Errors assume that the covariance matrix of the errors is correctly specified.\n",
              "\"\"\""
            ],
            "text/html": [
              "<table class=\"simpletable\">\n",
              "<caption>OLS Regression Results</caption>\n",
              "<tr>\n",
              "  <th>Dep. Variable:</th>         <td>RetYTD</td>      <th>  R-squared:         </th> <td>   0.095</td>\n",
              "</tr>\n",
              "<tr>\n",
              "  <th>Model:</th>                   <td>OLS</td>       <th>  Adj. R-squared:    </th> <td>   0.093</td>\n",
              "</tr>\n",
              "<tr>\n",
              "  <th>Method:</th>             <td>Least Squares</td>  <th>  F-statistic:       </th> <td>   65.53</td>\n",
              "</tr>\n",
              "<tr>\n",
              "  <th>Date:</th>             <td>Thu, 28 Apr 2022</td> <th>  Prob (F-statistic):</th> <td>2.66e-40</td>\n",
              "</tr>\n",
              "<tr>\n",
              "  <th>Time:</th>                 <td>02:32:07</td>     <th>  Log-Likelihood:    </th> <td>  79.981</td>\n",
              "</tr>\n",
              "<tr>\n",
              "  <th>No. Observations:</th>      <td>  1886</td>      <th>  AIC:               </th> <td>  -152.0</td>\n",
              "</tr>\n",
              "<tr>\n",
              "  <th>Df Residuals:</th>          <td>  1882</td>      <th>  BIC:               </th> <td>  -129.8</td>\n",
              "</tr>\n",
              "<tr>\n",
              "  <th>Df Model:</th>              <td>     3</td>      <th>                     </th>     <td> </td>   \n",
              "</tr>\n",
              "<tr>\n",
              "  <th>Covariance Type:</th>      <td>nonrobust</td>    <th>                     </th>     <td> </td>   \n",
              "</tr>\n",
              "</table>\n",
              "<table class=\"simpletable\">\n",
              "<tr>\n",
              "    <td></td>       <th>coef</th>     <th>std err</th>      <th>t</th>      <th>P>|t|</th>  <th>[0.025</th>    <th>0.975]</th>  \n",
              "</tr>\n",
              "<tr>\n",
              "  <th>const</th> <td>   -0.0981</td> <td>    0.011</td> <td>   -8.780</td> <td> 0.000</td> <td>   -0.120</td> <td>   -0.076</td>\n",
              "</tr>\n",
              "<tr>\n",
              "  <th>mktrf</th> <td>    0.0082</td> <td>    0.009</td> <td>    0.952</td> <td> 0.341</td> <td>   -0.009</td> <td>    0.025</td>\n",
              "</tr>\n",
              "<tr>\n",
              "  <th>smb</th>   <td>   -0.0120</td> <td>    0.004</td> <td>   -2.739</td> <td> 0.006</td> <td>   -0.021</td> <td>   -0.003</td>\n",
              "</tr>\n",
              "<tr>\n",
              "  <th>hml</th>   <td>    0.1068</td> <td>    0.008</td> <td>   13.818</td> <td> 0.000</td> <td>    0.092</td> <td>    0.122</td>\n",
              "</tr>\n",
              "</table>\n",
              "<table class=\"simpletable\">\n",
              "<tr>\n",
              "  <th>Omnibus:</th>       <td>642.277</td> <th>  Durbin-Watson:     </th> <td>   1.958</td>\n",
              "</tr>\n",
              "<tr>\n",
              "  <th>Prob(Omnibus):</th> <td> 0.000</td>  <th>  Jarque-Bera (JB):  </th> <td>3600.892</td>\n",
              "</tr>\n",
              "<tr>\n",
              "  <th>Skew:</th>          <td> 1.493</td>  <th>  Prob(JB):          </th> <td>    0.00</td>\n",
              "</tr>\n",
              "<tr>\n",
              "  <th>Kurtosis:</th>      <td> 9.076</td>  <th>  Cond. No.          </th> <td>    4.56</td>\n",
              "</tr>\n",
              "</table><br/><br/>Warnings:<br/>[1] Standard Errors assume that the covariance matrix of the errors is correctly specified."
            ]
          },
          "metadata": {},
          "execution_count": 46
        }
      ]
    },
    {
      "cell_type": "markdown",
      "source": [
        "The r-squared of the regression is 0.095 while the adj-rsquared is 0.093, this means that the Fama-French risk factors for the years 2017-2021 are able to explain about 1% of the variation in the stock returns data for early 2022 .\n",
        "\n",
        "The beta coefficient (mktrf) is 0.0082, its p-values is greater than 0.05 and its confidence interval includes zero. Therefore we conclude that the beta is not statistically significant. We can't conclude that it is significantly different than zero. Even with the beta very close to zero, I was expecting it to be a negative number instead of a positive one. That is because companies with higher betas should be more volatile to the movement to the market, and the higher betas for prior years 2017-2021 should be correlated with lower returns for early 2022, since the stock market in general performed poorly which in turn should give a  negative coefficient.\n",
        "\n",
        "The size factor (smb) is -0.012, since the coefficient is negative it signals that the small companies performed poorly in early 2022 compared to the large companies. The p-value of the coefficient is less than 0.05 and the confidence interval doesn't include zero. Therefore we can confidently say that the size risk was statistically significant and that the large companies outperformed the smaller ones.\n",
        "\n",
        "The value (hml) factor is 0.107, having a positive coefficient means that the high value stocks (ones with high book to market ratio) performed better than low value(growth) stocks in the early months of 2022. The p-value is less than 0.05 and the confidence interval doens't include zero, therefore we can confidently say that the value factor is statistically significant and that high value stocks outperformed low value stocks in early 2022.\n"
      ],
      "metadata": {
        "id": "8YiZ8qGtPGOU"
      }
    },
    {
      "cell_type": "markdown",
      "source": [
        "#### Financial Characteristics"
      ],
      "metadata": {
        "id": "aYtXAaTxWc_D"
      }
    },
    {
      "cell_type": "code",
      "source": [
        "financial_data.head()"
      ],
      "metadata": {
        "colab": {
          "base_uri": "https://localhost:8080/",
          "height": 267
        },
        "id": "AAWDOexUWhoM",
        "outputId": "1d038eae-3857-4cbd-b7ce-95c9c771393d"
      },
      "execution_count": 47,
      "outputs": [
        {
          "output_type": "execute_result",
          "data": {
            "text/plain": [
              "   tic  Total Asset Turnover       ROA  NET PROFIT MARGIN  Debt ratio  \\\n",
              "0  AIR              1.072547  0.023251           0.021679    0.367149   \n",
              "1  AAL              0.449576 -0.029985          -0.066696    0.924753   \n",
              "2  PNW              0.172876  0.028120           0.162657    0.726337   \n",
              "3  ABT              0.572836  0.094034           0.164156    0.520932   \n",
              "4  AMD              1.323295  0.155846           0.192406    0.396328   \n",
              "\n",
              "   Retention Ratio  Gross Profit Margin    Sale/P  Book/Price       E/P  \\\n",
              "0        14.693832             0.173671  1.288865    0.760488  0.027941   \n",
              "1         7.315605             0.115012  2.015658    0.042666 -0.090778   \n",
              "2         5.187901             0.382820  0.477178    0.740913  0.077616   \n",
              "3         3.274501             0.613999  0.173496    0.144202  0.028480   \n",
              "4        -0.459836             0.500487  0.094618    0.043164  0.018205   \n",
              "\n",
              "     EBIT/P  \n",
              "0  0.051121  \n",
              "1 -0.060020  \n",
              "2  0.101023  \n",
              "3  0.036113  \n",
              "4  0.021176  "
            ],
            "text/html": [
              "\n",
              "  <div id=\"df-db93a1c7-5c2d-49b0-bca3-2930da043b6c\">\n",
              "    <div class=\"colab-df-container\">\n",
              "      <div>\n",
              "<style scoped>\n",
              "    .dataframe tbody tr th:only-of-type {\n",
              "        vertical-align: middle;\n",
              "    }\n",
              "\n",
              "    .dataframe tbody tr th {\n",
              "        vertical-align: top;\n",
              "    }\n",
              "\n",
              "    .dataframe thead th {\n",
              "        text-align: right;\n",
              "    }\n",
              "</style>\n",
              "<table border=\"1\" class=\"dataframe\">\n",
              "  <thead>\n",
              "    <tr style=\"text-align: right;\">\n",
              "      <th></th>\n",
              "      <th>tic</th>\n",
              "      <th>Total Asset Turnover</th>\n",
              "      <th>ROA</th>\n",
              "      <th>NET PROFIT MARGIN</th>\n",
              "      <th>Debt ratio</th>\n",
              "      <th>Retention Ratio</th>\n",
              "      <th>Gross Profit Margin</th>\n",
              "      <th>Sale/P</th>\n",
              "      <th>Book/Price</th>\n",
              "      <th>E/P</th>\n",
              "      <th>EBIT/P</th>\n",
              "    </tr>\n",
              "  </thead>\n",
              "  <tbody>\n",
              "    <tr>\n",
              "      <th>0</th>\n",
              "      <td>AIR</td>\n",
              "      <td>1.072547</td>\n",
              "      <td>0.023251</td>\n",
              "      <td>0.021679</td>\n",
              "      <td>0.367149</td>\n",
              "      <td>14.693832</td>\n",
              "      <td>0.173671</td>\n",
              "      <td>1.288865</td>\n",
              "      <td>0.760488</td>\n",
              "      <td>0.027941</td>\n",
              "      <td>0.051121</td>\n",
              "    </tr>\n",
              "    <tr>\n",
              "      <th>1</th>\n",
              "      <td>AAL</td>\n",
              "      <td>0.449576</td>\n",
              "      <td>-0.029985</td>\n",
              "      <td>-0.066696</td>\n",
              "      <td>0.924753</td>\n",
              "      <td>7.315605</td>\n",
              "      <td>0.115012</td>\n",
              "      <td>2.015658</td>\n",
              "      <td>0.042666</td>\n",
              "      <td>-0.090778</td>\n",
              "      <td>-0.060020</td>\n",
              "    </tr>\n",
              "    <tr>\n",
              "      <th>2</th>\n",
              "      <td>PNW</td>\n",
              "      <td>0.172876</td>\n",
              "      <td>0.028120</td>\n",
              "      <td>0.162657</td>\n",
              "      <td>0.726337</td>\n",
              "      <td>5.187901</td>\n",
              "      <td>0.382820</td>\n",
              "      <td>0.477178</td>\n",
              "      <td>0.740913</td>\n",
              "      <td>0.077616</td>\n",
              "      <td>0.101023</td>\n",
              "    </tr>\n",
              "    <tr>\n",
              "      <th>3</th>\n",
              "      <td>ABT</td>\n",
              "      <td>0.572836</td>\n",
              "      <td>0.094034</td>\n",
              "      <td>0.164156</td>\n",
              "      <td>0.520932</td>\n",
              "      <td>3.274501</td>\n",
              "      <td>0.613999</td>\n",
              "      <td>0.173496</td>\n",
              "      <td>0.144202</td>\n",
              "      <td>0.028480</td>\n",
              "      <td>0.036113</td>\n",
              "    </tr>\n",
              "    <tr>\n",
              "      <th>4</th>\n",
              "      <td>AMD</td>\n",
              "      <td>1.323295</td>\n",
              "      <td>0.155846</td>\n",
              "      <td>0.192406</td>\n",
              "      <td>0.396328</td>\n",
              "      <td>-0.459836</td>\n",
              "      <td>0.500487</td>\n",
              "      <td>0.094618</td>\n",
              "      <td>0.043164</td>\n",
              "      <td>0.018205</td>\n",
              "      <td>0.021176</td>\n",
              "    </tr>\n",
              "  </tbody>\n",
              "</table>\n",
              "</div>\n",
              "      <button class=\"colab-df-convert\" onclick=\"convertToInteractive('df-db93a1c7-5c2d-49b0-bca3-2930da043b6c')\"\n",
              "              title=\"Convert this dataframe to an interactive table.\"\n",
              "              style=\"display:none;\">\n",
              "        \n",
              "  <svg xmlns=\"http://www.w3.org/2000/svg\" height=\"24px\"viewBox=\"0 0 24 24\"\n",
              "       width=\"24px\">\n",
              "    <path d=\"M0 0h24v24H0V0z\" fill=\"none\"/>\n",
              "    <path d=\"M18.56 5.44l.94 2.06.94-2.06 2.06-.94-2.06-.94-.94-2.06-.94 2.06-2.06.94zm-11 1L8.5 8.5l.94-2.06 2.06-.94-2.06-.94L8.5 2.5l-.94 2.06-2.06.94zm10 10l.94 2.06.94-2.06 2.06-.94-2.06-.94-.94-2.06-.94 2.06-2.06.94z\"/><path d=\"M17.41 7.96l-1.37-1.37c-.4-.4-.92-.59-1.43-.59-.52 0-1.04.2-1.43.59L10.3 9.45l-7.72 7.72c-.78.78-.78 2.05 0 2.83L4 21.41c.39.39.9.59 1.41.59.51 0 1.02-.2 1.41-.59l7.78-7.78 2.81-2.81c.8-.78.8-2.07 0-2.86zM5.41 20L4 18.59l7.72-7.72 1.47 1.35L5.41 20z\"/>\n",
              "  </svg>\n",
              "      </button>\n",
              "      \n",
              "  <style>\n",
              "    .colab-df-container {\n",
              "      display:flex;\n",
              "      flex-wrap:wrap;\n",
              "      gap: 12px;\n",
              "    }\n",
              "\n",
              "    .colab-df-convert {\n",
              "      background-color: #E8F0FE;\n",
              "      border: none;\n",
              "      border-radius: 50%;\n",
              "      cursor: pointer;\n",
              "      display: none;\n",
              "      fill: #1967D2;\n",
              "      height: 32px;\n",
              "      padding: 0 0 0 0;\n",
              "      width: 32px;\n",
              "    }\n",
              "\n",
              "    .colab-df-convert:hover {\n",
              "      background-color: #E2EBFA;\n",
              "      box-shadow: 0px 1px 2px rgba(60, 64, 67, 0.3), 0px 1px 3px 1px rgba(60, 64, 67, 0.15);\n",
              "      fill: #174EA6;\n",
              "    }\n",
              "\n",
              "    [theme=dark] .colab-df-convert {\n",
              "      background-color: #3B4455;\n",
              "      fill: #D2E3FC;\n",
              "    }\n",
              "\n",
              "    [theme=dark] .colab-df-convert:hover {\n",
              "      background-color: #434B5C;\n",
              "      box-shadow: 0px 1px 3px 1px rgba(0, 0, 0, 0.15);\n",
              "      filter: drop-shadow(0px 1px 2px rgba(0, 0, 0, 0.3));\n",
              "      fill: #FFFFFF;\n",
              "    }\n",
              "  </style>\n",
              "\n",
              "      <script>\n",
              "        const buttonEl =\n",
              "          document.querySelector('#df-db93a1c7-5c2d-49b0-bca3-2930da043b6c button.colab-df-convert');\n",
              "        buttonEl.style.display =\n",
              "          google.colab.kernel.accessAllowed ? 'block' : 'none';\n",
              "\n",
              "        async function convertToInteractive(key) {\n",
              "          const element = document.querySelector('#df-db93a1c7-5c2d-49b0-bca3-2930da043b6c');\n",
              "          const dataTable =\n",
              "            await google.colab.kernel.invokeFunction('convertToInteractive',\n",
              "                                                     [key], {});\n",
              "          if (!dataTable) return;\n",
              "\n",
              "          const docLinkHtml = 'Like what you see? Visit the ' +\n",
              "            '<a target=\"_blank\" href=https://colab.research.google.com/notebooks/data_table.ipynb>data table notebook</a>'\n",
              "            + ' to learn more about interactive tables.';\n",
              "          element.innerHTML = '';\n",
              "          dataTable['output_type'] = 'display_data';\n",
              "          await google.colab.output.renderOutput(dataTable, element);\n",
              "          const docLink = document.createElement('div');\n",
              "          docLink.innerHTML = docLinkHtml;\n",
              "          element.appendChild(docLink);\n",
              "        }\n",
              "      </script>\n",
              "    </div>\n",
              "  </div>\n",
              "  "
            ]
          },
          "metadata": {},
          "execution_count": 47
        }
      ]
    },
    {
      "cell_type": "markdown",
      "source": [
        "Renaming the ticker column to match the stock returns dataset"
      ],
      "metadata": {
        "id": "Uti92rsdWy-V"
      }
    },
    {
      "cell_type": "code",
      "source": [
        "financial_data.rename(columns={'tic':'Ticker'}, inplace=True)"
      ],
      "metadata": {
        "id": "ZG0xLscPW0Nf"
      },
      "execution_count": 48,
      "outputs": []
    },
    {
      "cell_type": "markdown",
      "source": [
        "Merging the two datasets"
      ],
      "metadata": {
        "id": "9rwGIVhcW9rQ"
      }
    },
    {
      "cell_type": "code",
      "source": [
        "financial_data=pd.merge(financial_data, returns_22, on='Ticker')"
      ],
      "metadata": {
        "id": "5OJQmoliXBDN"
      },
      "execution_count": 49,
      "outputs": []
    },
    {
      "cell_type": "markdown",
      "source": [
        "Looking for null values, there aren't any which means that the dataset matches perfectly"
      ],
      "metadata": {
        "id": "b3NOaR2QXcbR"
      }
    },
    {
      "cell_type": "code",
      "source": [
        "financial_data.info()"
      ],
      "metadata": {
        "colab": {
          "base_uri": "https://localhost:8080/",
          "height": 0
        },
        "id": "lcPoXGcTXfQn",
        "outputId": "78b1c3f3-94f8-4c97-b195-8632dad40287"
      },
      "execution_count": 50,
      "outputs": [
        {
          "output_type": "stream",
          "name": "stdout",
          "text": [
            "<class 'pandas.core.frame.DataFrame'>\n",
            "Int64Index: 1886 entries, 0 to 1885\n",
            "Data columns (total 13 columns):\n",
            " #   Column                Non-Null Count  Dtype  \n",
            "---  ------                --------------  -----  \n",
            " 0   Ticker                1886 non-null   object \n",
            " 1   Total Asset Turnover  1886 non-null   float64\n",
            " 2   ROA                   1886 non-null   float64\n",
            " 3   NET PROFIT MARGIN     1886 non-null   float64\n",
            " 4   Debt ratio            1886 non-null   float64\n",
            " 5   Retention Ratio       1886 non-null   float64\n",
            " 6   Gross Profit Margin   1886 non-null   float64\n",
            " 7   Sale/P                1886 non-null   float64\n",
            " 8   Book/Price            1886 non-null   float64\n",
            " 9   E/P                   1886 non-null   float64\n",
            " 10  EBIT/P                1886 non-null   float64\n",
            " 11  Name                  1886 non-null   object \n",
            " 12  RetYTD                1886 non-null   float64\n",
            "dtypes: float64(11), object(2)\n",
            "memory usage: 206.3+ KB\n"
          ]
        }
      ]
    },
    {
      "cell_type": "markdown",
      "source": [
        "Running the regression"
      ],
      "metadata": {
        "id": "5juQtEYsh6eh"
      }
    },
    {
      "cell_type": "code",
      "source": [
        "y1 =financial_data[\"RetYTD\"] #Defining the X and y variables\n",
        "X1 = financial_data.drop(columns=['Ticker','Name ','RetYTD'])\n",
        "X1 = sm.add_constant(X1) # adding a constant\n",
        "model1 = sm.OLS(y1, X1).fit()#Running the regression\n",
        "model1.summary()"
      ],
      "metadata": {
        "colab": {
          "base_uri": "https://localhost:8080/",
          "height": 699
        },
        "id": "7l7W5w6iZBx-",
        "outputId": "15018620-dc94-4ded-9e0d-5e65b1891fe7"
      },
      "execution_count": 51,
      "outputs": [
        {
          "output_type": "stream",
          "name": "stderr",
          "text": [
            "/usr/local/lib/python3.7/dist-packages/statsmodels/tsa/tsatools.py:117: FutureWarning: In a future version of pandas all arguments of concat except for the argument 'objs' will be keyword-only\n",
            "  x = pd.concat(x[::order], 1)\n"
          ]
        },
        {
          "output_type": "execute_result",
          "data": {
            "text/plain": [
              "<class 'statsmodels.iolib.summary.Summary'>\n",
              "\"\"\"\n",
              "                            OLS Regression Results                            \n",
              "==============================================================================\n",
              "Dep. Variable:                 RetYTD   R-squared:                       0.086\n",
              "Model:                            OLS   Adj. R-squared:                  0.081\n",
              "Method:                 Least Squares   F-statistic:                     17.60\n",
              "Date:                Thu, 28 Apr 2022   Prob (F-statistic):           5.43e-31\n",
              "Time:                        02:32:07   Log-Likelihood:                 70.897\n",
              "No. Observations:                1886   AIC:                            -119.8\n",
              "Df Residuals:                    1875   BIC:                            -58.83\n",
              "Df Model:                          10                                         \n",
              "Covariance Type:            nonrobust                                         \n",
              "========================================================================================\n",
              "                           coef    std err          t      P>|t|      [0.025      0.975]\n",
              "----------------------------------------------------------------------------------------\n",
              "const                   -0.1421      0.030     -4.713      0.000      -0.201      -0.083\n",
              "Total Asset Turnover    -0.1070      0.024     -4.525      0.000      -0.153      -0.061\n",
              "ROA                      0.8298      0.182      4.552      0.000       0.472       1.187\n",
              "NET PROFIT MARGIN       -0.1033      0.070     -1.469      0.142      -0.241       0.035\n",
              "Debt ratio               0.0559      0.033      1.718      0.086      -0.008       0.120\n",
              "Retention Ratio         -0.0005      0.001     -0.515      0.606      -0.002       0.001\n",
              "Gross Profit Margin     -0.0370      0.028     -1.338      0.181      -0.091       0.017\n",
              "Sale/P                   0.0811      0.019      4.367      0.000       0.045       0.118\n",
              "Book/Price               0.1659      0.029      5.822      0.000       0.110       0.222\n",
              "E/P                     -0.7293      0.212     -3.432      0.001      -1.146      -0.313\n",
              "EBIT/P                   0.2315      0.155      1.495      0.135      -0.072       0.535\n",
              "==============================================================================\n",
              "Omnibus:                      630.586   Durbin-Watson:                   1.956\n",
              "Prob(Omnibus):                  0.000   Jarque-Bera (JB):             3798.114\n",
              "Skew:                           1.437   Prob(JB):                         0.00\n",
              "Kurtosis:                       9.330   Cond. No.                         310.\n",
              "==============================================================================\n",
              "\n",
              "Warnings:\n",
              "[1] Standard Errors assume that the covariance matrix of the errors is correctly specified.\n",
              "\"\"\""
            ],
            "text/html": [
              "<table class=\"simpletable\">\n",
              "<caption>OLS Regression Results</caption>\n",
              "<tr>\n",
              "  <th>Dep. Variable:</th>         <td>RetYTD</td>      <th>  R-squared:         </th> <td>   0.086</td>\n",
              "</tr>\n",
              "<tr>\n",
              "  <th>Model:</th>                   <td>OLS</td>       <th>  Adj. R-squared:    </th> <td>   0.081</td>\n",
              "</tr>\n",
              "<tr>\n",
              "  <th>Method:</th>             <td>Least Squares</td>  <th>  F-statistic:       </th> <td>   17.60</td>\n",
              "</tr>\n",
              "<tr>\n",
              "  <th>Date:</th>             <td>Thu, 28 Apr 2022</td> <th>  Prob (F-statistic):</th> <td>5.43e-31</td>\n",
              "</tr>\n",
              "<tr>\n",
              "  <th>Time:</th>                 <td>02:32:07</td>     <th>  Log-Likelihood:    </th> <td>  70.897</td>\n",
              "</tr>\n",
              "<tr>\n",
              "  <th>No. Observations:</th>      <td>  1886</td>      <th>  AIC:               </th> <td>  -119.8</td>\n",
              "</tr>\n",
              "<tr>\n",
              "  <th>Df Residuals:</th>          <td>  1875</td>      <th>  BIC:               </th> <td>  -58.83</td>\n",
              "</tr>\n",
              "<tr>\n",
              "  <th>Df Model:</th>              <td>    10</td>      <th>                     </th>     <td> </td>   \n",
              "</tr>\n",
              "<tr>\n",
              "  <th>Covariance Type:</th>      <td>nonrobust</td>    <th>                     </th>     <td> </td>   \n",
              "</tr>\n",
              "</table>\n",
              "<table class=\"simpletable\">\n",
              "<tr>\n",
              "            <td></td>              <th>coef</th>     <th>std err</th>      <th>t</th>      <th>P>|t|</th>  <th>[0.025</th>    <th>0.975]</th>  \n",
              "</tr>\n",
              "<tr>\n",
              "  <th>const</th>                <td>   -0.1421</td> <td>    0.030</td> <td>   -4.713</td> <td> 0.000</td> <td>   -0.201</td> <td>   -0.083</td>\n",
              "</tr>\n",
              "<tr>\n",
              "  <th>Total Asset Turnover</th> <td>   -0.1070</td> <td>    0.024</td> <td>   -4.525</td> <td> 0.000</td> <td>   -0.153</td> <td>   -0.061</td>\n",
              "</tr>\n",
              "<tr>\n",
              "  <th>ROA</th>                  <td>    0.8298</td> <td>    0.182</td> <td>    4.552</td> <td> 0.000</td> <td>    0.472</td> <td>    1.187</td>\n",
              "</tr>\n",
              "<tr>\n",
              "  <th>NET PROFIT MARGIN</th>    <td>   -0.1033</td> <td>    0.070</td> <td>   -1.469</td> <td> 0.142</td> <td>   -0.241</td> <td>    0.035</td>\n",
              "</tr>\n",
              "<tr>\n",
              "  <th>Debt ratio</th>           <td>    0.0559</td> <td>    0.033</td> <td>    1.718</td> <td> 0.086</td> <td>   -0.008</td> <td>    0.120</td>\n",
              "</tr>\n",
              "<tr>\n",
              "  <th>Retention Ratio</th>      <td>   -0.0005</td> <td>    0.001</td> <td>   -0.515</td> <td> 0.606</td> <td>   -0.002</td> <td>    0.001</td>\n",
              "</tr>\n",
              "<tr>\n",
              "  <th>Gross Profit Margin</th>  <td>   -0.0370</td> <td>    0.028</td> <td>   -1.338</td> <td> 0.181</td> <td>   -0.091</td> <td>    0.017</td>\n",
              "</tr>\n",
              "<tr>\n",
              "  <th>Sale/P</th>               <td>    0.0811</td> <td>    0.019</td> <td>    4.367</td> <td> 0.000</td> <td>    0.045</td> <td>    0.118</td>\n",
              "</tr>\n",
              "<tr>\n",
              "  <th>Book/Price</th>           <td>    0.1659</td> <td>    0.029</td> <td>    5.822</td> <td> 0.000</td> <td>    0.110</td> <td>    0.222</td>\n",
              "</tr>\n",
              "<tr>\n",
              "  <th>E/P</th>                  <td>   -0.7293</td> <td>    0.212</td> <td>   -3.432</td> <td> 0.001</td> <td>   -1.146</td> <td>   -0.313</td>\n",
              "</tr>\n",
              "<tr>\n",
              "  <th>EBIT/P</th>               <td>    0.2315</td> <td>    0.155</td> <td>    1.495</td> <td> 0.135</td> <td>   -0.072</td> <td>    0.535</td>\n",
              "</tr>\n",
              "</table>\n",
              "<table class=\"simpletable\">\n",
              "<tr>\n",
              "  <th>Omnibus:</th>       <td>630.586</td> <th>  Durbin-Watson:     </th> <td>   1.956</td>\n",
              "</tr>\n",
              "<tr>\n",
              "  <th>Prob(Omnibus):</th> <td> 0.000</td>  <th>  Jarque-Bera (JB):  </th> <td>3798.114</td>\n",
              "</tr>\n",
              "<tr>\n",
              "  <th>Skew:</th>          <td> 1.437</td>  <th>  Prob(JB):          </th> <td>    0.00</td>\n",
              "</tr>\n",
              "<tr>\n",
              "  <th>Kurtosis:</th>      <td> 9.330</td>  <th>  Cond. No.          </th> <td>    310.</td>\n",
              "</tr>\n",
              "</table><br/><br/>Warnings:<br/>[1] Standard Errors assume that the covariance matrix of the errors is correctly specified."
            ]
          },
          "metadata": {},
          "execution_count": 51
        }
      ]
    },
    {
      "cell_type": "markdown",
      "source": [
        "The R-squared and the Adjusted R-squared for the financial ratios are at 0.086 and 0.081 respectively. This means that the financial ratios for the 2021 fiscal year are able to only explain less than 1% of the variation in stock returns in early 2022.\n",
        "\n",
        "The Total Asset Turnover ratio has a coefficient of  -0.1070, its p-value is less than 0.05 and its confidence interval doesn't include zero which means that it is statistially significant. We can confidently say that firms with higher Asset Turnover ratio in 2021, had lower stock returns in 2022. It is unclear why this is the case one would expect,as a high asset turnover ratio usually indicates better performance.\n",
        "\n",
        "The ROA has a coefficient of  0.8298,its p-value is less than 0.05 and its confidence interval doesn't include zero which means that it is statistially significant. This means that firms with a higher ROA for the 2021 year had a higher stock return in early 2022. This makes sense because higher ROA ratios signals better performance since it means that companies are able to use their assets more efficiently.\n",
        "\n",
        "The net profit margin ratio has a coefficient of  -0.1033, its p-value is greater than 0.05 and its confidence interval includes zero which means that it is not statistically significant. \n",
        "\n",
        "The Debt ratio has a coefficient of  0.0559, its p-value is greater than 0.05 and its confidence interval includes zero which means that it is not statistically significant. \n",
        "\n",
        "The retention ratio has a coefficient of  -0.0005, its p-value is greater than 0.05 and its confidence interval includes zero which means that it is not statistically significant. \n",
        "\n",
        "The Gross Profit Margin ratio has a coefficient of  -0.0370,its p-value is less than 0.05 and its confidence interval doesn't include zero which means that it is statistially significant. We would expect the gross profit margin to have a postive coefficient as companies with higher gross profit margins signals companies having better performance.\n",
        "\n",
        "The Sales/price ratio has a coefficient of  0.0811,its p-value is less than 0.05 and its confidence interval doesn't include zero which means that it is statistially significant.\n",
        "\n",
        "The Book/price ratio has a coefficient of 0.1659,its p-value is less than 0.05 and its confidence interval doesn't include zero which means that it is statistially significant.\n",
        "\n",
        "The Earnings/price ratio has a coefficient of -0.7293,its p-value is greater than 0.05 and its confidence interval includes zero which means that it is not statistically significant. \n",
        "\n",
        "The EBIT/price ratio has a coefficient of 0.2315,its p-value is less than 0.05 and its confidence interval doesn't include zero which means that it is statistially significant.\n",
        "\n",
        "Overall the coefficients for the market-based ratio seems to make sense, all of them are positive except for earnings/price which is not statistically significant. We would expect them to have positive coefficients since they are supposed to be positively correlated with the comapny's stock returns. \n",
        "\n",
        "In conclusion, the financial ratios above for the fiscal year 2021 don't seem to have good explanatory power in explaining the company's stock returns in early 2022. Besides having a low adjusted r-squared of less than 1 percent, there are a lot of coefficients that are either not statistically significant or have a sign that is counter-intuitive. Like for example, the coefficients for the gross profit margin and net profit margin ratios having a negative sign. This might be attributable to the fact that the shock in the stock markets early 2022 was unexpected and was caused by political events than fincancial ones, so a lot of  companies suffered with no regards to their previous year's financial performance and that suffering got reflected in their stock retruns.\n",
        "\n",
        "\n",
        "\n"
      ],
      "metadata": {
        "id": "qIPLXRH6BLLE"
      }
    },
    {
      "cell_type": "markdown",
      "source": [
        "#### Industry Dummies"
      ],
      "metadata": {
        "id": "MJX2dMF1aQFP"
      }
    },
    {
      "cell_type": "markdown",
      "source": [
        "Looking at the first few rows"
      ],
      "metadata": {
        "id": "Ic_4bPz7hgl-"
      }
    },
    {
      "cell_type": "code",
      "source": [
        "industry_data.head()"
      ],
      "metadata": {
        "colab": {
          "base_uri": "https://localhost:8080/",
          "height": 299
        },
        "id": "8BH-FafgaL7T",
        "outputId": "cdde382d-dc49-4cbe-81ae-7c17431775e6"
      },
      "execution_count": 52,
      "outputs": [
        {
          "output_type": "execute_result",
          "data": {
            "text/plain": [
              "   tic  ggroup_1010  ggroup_1510  ggroup_2010  ggroup_2020  ggroup_2030  \\\n",
              "0  AIR            0            0            1            0            0   \n",
              "1  AAL            0            0            0            0            1   \n",
              "2  PNW            0            0            0            0            0   \n",
              "3  ABT            0            0            0            0            0   \n",
              "4  AMD            0            0            0            0            0   \n",
              "\n",
              "   ggroup_2510  ggroup_2520  ggroup_2530  ggroup_2550  ...  ggroup_4010  \\\n",
              "0            0            0            0            0  ...            0   \n",
              "1            0            0            0            0  ...            0   \n",
              "2            0            0            0            0  ...            0   \n",
              "3            0            0            0            0  ...            0   \n",
              "4            0            0            0            0  ...            0   \n",
              "\n",
              "   ggroup_4020  ggroup_4030  ggroup_4510  ggroup_4520  ggroup_4530  \\\n",
              "0            0            0            0            0            0   \n",
              "1            0            0            0            0            0   \n",
              "2            0            0            0            0            0   \n",
              "3            0            0            0            0            0   \n",
              "4            0            0            0            0            1   \n",
              "\n",
              "   ggroup_5010  ggroup_5020  ggroup_5510  ggroup_6010  \n",
              "0            0            0            0            0  \n",
              "1            0            0            0            0  \n",
              "2            0            0            1            0  \n",
              "3            0            0            0            0  \n",
              "4            0            0            0            0  \n",
              "\n",
              "[5 rows x 25 columns]"
            ],
            "text/html": [
              "\n",
              "  <div id=\"df-41507afb-9e02-419d-90b8-502fe3f39226\">\n",
              "    <div class=\"colab-df-container\">\n",
              "      <div>\n",
              "<style scoped>\n",
              "    .dataframe tbody tr th:only-of-type {\n",
              "        vertical-align: middle;\n",
              "    }\n",
              "\n",
              "    .dataframe tbody tr th {\n",
              "        vertical-align: top;\n",
              "    }\n",
              "\n",
              "    .dataframe thead th {\n",
              "        text-align: right;\n",
              "    }\n",
              "</style>\n",
              "<table border=\"1\" class=\"dataframe\">\n",
              "  <thead>\n",
              "    <tr style=\"text-align: right;\">\n",
              "      <th></th>\n",
              "      <th>tic</th>\n",
              "      <th>ggroup_1010</th>\n",
              "      <th>ggroup_1510</th>\n",
              "      <th>ggroup_2010</th>\n",
              "      <th>ggroup_2020</th>\n",
              "      <th>ggroup_2030</th>\n",
              "      <th>ggroup_2510</th>\n",
              "      <th>ggroup_2520</th>\n",
              "      <th>ggroup_2530</th>\n",
              "      <th>ggroup_2550</th>\n",
              "      <th>...</th>\n",
              "      <th>ggroup_4010</th>\n",
              "      <th>ggroup_4020</th>\n",
              "      <th>ggroup_4030</th>\n",
              "      <th>ggroup_4510</th>\n",
              "      <th>ggroup_4520</th>\n",
              "      <th>ggroup_4530</th>\n",
              "      <th>ggroup_5010</th>\n",
              "      <th>ggroup_5020</th>\n",
              "      <th>ggroup_5510</th>\n",
              "      <th>ggroup_6010</th>\n",
              "    </tr>\n",
              "  </thead>\n",
              "  <tbody>\n",
              "    <tr>\n",
              "      <th>0</th>\n",
              "      <td>AIR</td>\n",
              "      <td>0</td>\n",
              "      <td>0</td>\n",
              "      <td>1</td>\n",
              "      <td>0</td>\n",
              "      <td>0</td>\n",
              "      <td>0</td>\n",
              "      <td>0</td>\n",
              "      <td>0</td>\n",
              "      <td>0</td>\n",
              "      <td>...</td>\n",
              "      <td>0</td>\n",
              "      <td>0</td>\n",
              "      <td>0</td>\n",
              "      <td>0</td>\n",
              "      <td>0</td>\n",
              "      <td>0</td>\n",
              "      <td>0</td>\n",
              "      <td>0</td>\n",
              "      <td>0</td>\n",
              "      <td>0</td>\n",
              "    </tr>\n",
              "    <tr>\n",
              "      <th>1</th>\n",
              "      <td>AAL</td>\n",
              "      <td>0</td>\n",
              "      <td>0</td>\n",
              "      <td>0</td>\n",
              "      <td>0</td>\n",
              "      <td>1</td>\n",
              "      <td>0</td>\n",
              "      <td>0</td>\n",
              "      <td>0</td>\n",
              "      <td>0</td>\n",
              "      <td>...</td>\n",
              "      <td>0</td>\n",
              "      <td>0</td>\n",
              "      <td>0</td>\n",
              "      <td>0</td>\n",
              "      <td>0</td>\n",
              "      <td>0</td>\n",
              "      <td>0</td>\n",
              "      <td>0</td>\n",
              "      <td>0</td>\n",
              "      <td>0</td>\n",
              "    </tr>\n",
              "    <tr>\n",
              "      <th>2</th>\n",
              "      <td>PNW</td>\n",
              "      <td>0</td>\n",
              "      <td>0</td>\n",
              "      <td>0</td>\n",
              "      <td>0</td>\n",
              "      <td>0</td>\n",
              "      <td>0</td>\n",
              "      <td>0</td>\n",
              "      <td>0</td>\n",
              "      <td>0</td>\n",
              "      <td>...</td>\n",
              "      <td>0</td>\n",
              "      <td>0</td>\n",
              "      <td>0</td>\n",
              "      <td>0</td>\n",
              "      <td>0</td>\n",
              "      <td>0</td>\n",
              "      <td>0</td>\n",
              "      <td>0</td>\n",
              "      <td>1</td>\n",
              "      <td>0</td>\n",
              "    </tr>\n",
              "    <tr>\n",
              "      <th>3</th>\n",
              "      <td>ABT</td>\n",
              "      <td>0</td>\n",
              "      <td>0</td>\n",
              "      <td>0</td>\n",
              "      <td>0</td>\n",
              "      <td>0</td>\n",
              "      <td>0</td>\n",
              "      <td>0</td>\n",
              "      <td>0</td>\n",
              "      <td>0</td>\n",
              "      <td>...</td>\n",
              "      <td>0</td>\n",
              "      <td>0</td>\n",
              "      <td>0</td>\n",
              "      <td>0</td>\n",
              "      <td>0</td>\n",
              "      <td>0</td>\n",
              "      <td>0</td>\n",
              "      <td>0</td>\n",
              "      <td>0</td>\n",
              "      <td>0</td>\n",
              "    </tr>\n",
              "    <tr>\n",
              "      <th>4</th>\n",
              "      <td>AMD</td>\n",
              "      <td>0</td>\n",
              "      <td>0</td>\n",
              "      <td>0</td>\n",
              "      <td>0</td>\n",
              "      <td>0</td>\n",
              "      <td>0</td>\n",
              "      <td>0</td>\n",
              "      <td>0</td>\n",
              "      <td>0</td>\n",
              "      <td>...</td>\n",
              "      <td>0</td>\n",
              "      <td>0</td>\n",
              "      <td>0</td>\n",
              "      <td>0</td>\n",
              "      <td>0</td>\n",
              "      <td>1</td>\n",
              "      <td>0</td>\n",
              "      <td>0</td>\n",
              "      <td>0</td>\n",
              "      <td>0</td>\n",
              "    </tr>\n",
              "  </tbody>\n",
              "</table>\n",
              "<p>5 rows × 25 columns</p>\n",
              "</div>\n",
              "      <button class=\"colab-df-convert\" onclick=\"convertToInteractive('df-41507afb-9e02-419d-90b8-502fe3f39226')\"\n",
              "              title=\"Convert this dataframe to an interactive table.\"\n",
              "              style=\"display:none;\">\n",
              "        \n",
              "  <svg xmlns=\"http://www.w3.org/2000/svg\" height=\"24px\"viewBox=\"0 0 24 24\"\n",
              "       width=\"24px\">\n",
              "    <path d=\"M0 0h24v24H0V0z\" fill=\"none\"/>\n",
              "    <path d=\"M18.56 5.44l.94 2.06.94-2.06 2.06-.94-2.06-.94-.94-2.06-.94 2.06-2.06.94zm-11 1L8.5 8.5l.94-2.06 2.06-.94-2.06-.94L8.5 2.5l-.94 2.06-2.06.94zm10 10l.94 2.06.94-2.06 2.06-.94-2.06-.94-.94-2.06-.94 2.06-2.06.94z\"/><path d=\"M17.41 7.96l-1.37-1.37c-.4-.4-.92-.59-1.43-.59-.52 0-1.04.2-1.43.59L10.3 9.45l-7.72 7.72c-.78.78-.78 2.05 0 2.83L4 21.41c.39.39.9.59 1.41.59.51 0 1.02-.2 1.41-.59l7.78-7.78 2.81-2.81c.8-.78.8-2.07 0-2.86zM5.41 20L4 18.59l7.72-7.72 1.47 1.35L5.41 20z\"/>\n",
              "  </svg>\n",
              "      </button>\n",
              "      \n",
              "  <style>\n",
              "    .colab-df-container {\n",
              "      display:flex;\n",
              "      flex-wrap:wrap;\n",
              "      gap: 12px;\n",
              "    }\n",
              "\n",
              "    .colab-df-convert {\n",
              "      background-color: #E8F0FE;\n",
              "      border: none;\n",
              "      border-radius: 50%;\n",
              "      cursor: pointer;\n",
              "      display: none;\n",
              "      fill: #1967D2;\n",
              "      height: 32px;\n",
              "      padding: 0 0 0 0;\n",
              "      width: 32px;\n",
              "    }\n",
              "\n",
              "    .colab-df-convert:hover {\n",
              "      background-color: #E2EBFA;\n",
              "      box-shadow: 0px 1px 2px rgba(60, 64, 67, 0.3), 0px 1px 3px 1px rgba(60, 64, 67, 0.15);\n",
              "      fill: #174EA6;\n",
              "    }\n",
              "\n",
              "    [theme=dark] .colab-df-convert {\n",
              "      background-color: #3B4455;\n",
              "      fill: #D2E3FC;\n",
              "    }\n",
              "\n",
              "    [theme=dark] .colab-df-convert:hover {\n",
              "      background-color: #434B5C;\n",
              "      box-shadow: 0px 1px 3px 1px rgba(0, 0, 0, 0.15);\n",
              "      filter: drop-shadow(0px 1px 2px rgba(0, 0, 0, 0.3));\n",
              "      fill: #FFFFFF;\n",
              "    }\n",
              "  </style>\n",
              "\n",
              "      <script>\n",
              "        const buttonEl =\n",
              "          document.querySelector('#df-41507afb-9e02-419d-90b8-502fe3f39226 button.colab-df-convert');\n",
              "        buttonEl.style.display =\n",
              "          google.colab.kernel.accessAllowed ? 'block' : 'none';\n",
              "\n",
              "        async function convertToInteractive(key) {\n",
              "          const element = document.querySelector('#df-41507afb-9e02-419d-90b8-502fe3f39226');\n",
              "          const dataTable =\n",
              "            await google.colab.kernel.invokeFunction('convertToInteractive',\n",
              "                                                     [key], {});\n",
              "          if (!dataTable) return;\n",
              "\n",
              "          const docLinkHtml = 'Like what you see? Visit the ' +\n",
              "            '<a target=\"_blank\" href=https://colab.research.google.com/notebooks/data_table.ipynb>data table notebook</a>'\n",
              "            + ' to learn more about interactive tables.';\n",
              "          element.innerHTML = '';\n",
              "          dataTable['output_type'] = 'display_data';\n",
              "          await google.colab.output.renderOutput(dataTable, element);\n",
              "          const docLink = document.createElement('div');\n",
              "          docLink.innerHTML = docLinkHtml;\n",
              "          element.appendChild(docLink);\n",
              "        }\n",
              "      </script>\n",
              "    </div>\n",
              "  </div>\n",
              "  "
            ]
          },
          "metadata": {},
          "execution_count": 52
        }
      ]
    },
    {
      "cell_type": "markdown",
      "source": [
        "Renaming the ticker column to match the stock returns dataset"
      ],
      "metadata": {
        "id": "I-wzTWVzhlwu"
      }
    },
    {
      "cell_type": "code",
      "source": [
        "industry_data.rename(columns={'tic':'Ticker'}, inplace=True)"
      ],
      "metadata": {
        "id": "4Hj_vz5mbKax"
      },
      "execution_count": 53,
      "outputs": []
    },
    {
      "cell_type": "markdown",
      "source": [
        "Merging the two datasets"
      ],
      "metadata": {
        "id": "4BzIRFawhmvv"
      }
    },
    {
      "cell_type": "code",
      "source": [
        "industry_data=pd.merge(industry_data, returns_22, on='Ticker')"
      ],
      "metadata": {
        "id": "eHzWG6MbbW_d"
      },
      "execution_count": 54,
      "outputs": []
    },
    {
      "cell_type": "markdown",
      "source": [
        "Looking at the first few rows"
      ],
      "metadata": {
        "id": "D1fpMUVihw9j"
      }
    },
    {
      "cell_type": "code",
      "source": [
        "industry_data.head()"
      ],
      "metadata": {
        "colab": {
          "base_uri": "https://localhost:8080/",
          "height": 386
        },
        "id": "mui7oJMucBhd",
        "outputId": "e820ee50-d4ba-4d9e-f563-eaafbad5b079"
      },
      "execution_count": 55,
      "outputs": [
        {
          "output_type": "execute_result",
          "data": {
            "text/plain": [
              "  Ticker  ggroup_1010  ggroup_1510  ggroup_2010  ggroup_2020  ggroup_2030  \\\n",
              "0    AIR            0            0            1            0            0   \n",
              "1    AAL            0            0            0            0            1   \n",
              "2    PNW            0            0            0            0            0   \n",
              "3    ABT            0            0            0            0            0   \n",
              "4    AMD            0            0            0            0            0   \n",
              "\n",
              "   ggroup_2510  ggroup_2520  ggroup_2530  ggroup_2550  ...  ggroup_4030  \\\n",
              "0            0            0            0            0  ...            0   \n",
              "1            0            0            0            0  ...            0   \n",
              "2            0            0            0            0  ...            0   \n",
              "3            0            0            0            0  ...            0   \n",
              "4            0            0            0            0  ...            0   \n",
              "\n",
              "   ggroup_4510  ggroup_4520  ggroup_4530  ggroup_5010  ggroup_5020  \\\n",
              "0            0            0            0            0            0   \n",
              "1            0            0            0            0            0   \n",
              "2            0            0            0            0            0   \n",
              "3            0            0            0            0            0   \n",
              "4            0            0            1            0            0   \n",
              "\n",
              "   ggroup_5510  ggroup_6010                        Name   RetYTD  \n",
              "0            0            0                    AAR Corp   0.2944  \n",
              "1            0            0        American Airlines Gp   0.0579  \n",
              "2            1            0  Pinnacle West Capital Corp   0.0985  \n",
              "3            0            0         Abbott Laboratories  -0.1638  \n",
              "4            0            0           Adv Micro Devices  -0.3533  \n",
              "\n",
              "[5 rows x 27 columns]"
            ],
            "text/html": [
              "\n",
              "  <div id=\"df-595c4d6c-d2fe-497d-9abd-7bf5ec8ef49c\">\n",
              "    <div class=\"colab-df-container\">\n",
              "      <div>\n",
              "<style scoped>\n",
              "    .dataframe tbody tr th:only-of-type {\n",
              "        vertical-align: middle;\n",
              "    }\n",
              "\n",
              "    .dataframe tbody tr th {\n",
              "        vertical-align: top;\n",
              "    }\n",
              "\n",
              "    .dataframe thead th {\n",
              "        text-align: right;\n",
              "    }\n",
              "</style>\n",
              "<table border=\"1\" class=\"dataframe\">\n",
              "  <thead>\n",
              "    <tr style=\"text-align: right;\">\n",
              "      <th></th>\n",
              "      <th>Ticker</th>\n",
              "      <th>ggroup_1010</th>\n",
              "      <th>ggroup_1510</th>\n",
              "      <th>ggroup_2010</th>\n",
              "      <th>ggroup_2020</th>\n",
              "      <th>ggroup_2030</th>\n",
              "      <th>ggroup_2510</th>\n",
              "      <th>ggroup_2520</th>\n",
              "      <th>ggroup_2530</th>\n",
              "      <th>ggroup_2550</th>\n",
              "      <th>...</th>\n",
              "      <th>ggroup_4030</th>\n",
              "      <th>ggroup_4510</th>\n",
              "      <th>ggroup_4520</th>\n",
              "      <th>ggroup_4530</th>\n",
              "      <th>ggroup_5010</th>\n",
              "      <th>ggroup_5020</th>\n",
              "      <th>ggroup_5510</th>\n",
              "      <th>ggroup_6010</th>\n",
              "      <th>Name</th>\n",
              "      <th>RetYTD</th>\n",
              "    </tr>\n",
              "  </thead>\n",
              "  <tbody>\n",
              "    <tr>\n",
              "      <th>0</th>\n",
              "      <td>AIR</td>\n",
              "      <td>0</td>\n",
              "      <td>0</td>\n",
              "      <td>1</td>\n",
              "      <td>0</td>\n",
              "      <td>0</td>\n",
              "      <td>0</td>\n",
              "      <td>0</td>\n",
              "      <td>0</td>\n",
              "      <td>0</td>\n",
              "      <td>...</td>\n",
              "      <td>0</td>\n",
              "      <td>0</td>\n",
              "      <td>0</td>\n",
              "      <td>0</td>\n",
              "      <td>0</td>\n",
              "      <td>0</td>\n",
              "      <td>0</td>\n",
              "      <td>0</td>\n",
              "      <td>AAR Corp</td>\n",
              "      <td>0.2944</td>\n",
              "    </tr>\n",
              "    <tr>\n",
              "      <th>1</th>\n",
              "      <td>AAL</td>\n",
              "      <td>0</td>\n",
              "      <td>0</td>\n",
              "      <td>0</td>\n",
              "      <td>0</td>\n",
              "      <td>1</td>\n",
              "      <td>0</td>\n",
              "      <td>0</td>\n",
              "      <td>0</td>\n",
              "      <td>0</td>\n",
              "      <td>...</td>\n",
              "      <td>0</td>\n",
              "      <td>0</td>\n",
              "      <td>0</td>\n",
              "      <td>0</td>\n",
              "      <td>0</td>\n",
              "      <td>0</td>\n",
              "      <td>0</td>\n",
              "      <td>0</td>\n",
              "      <td>American Airlines Gp</td>\n",
              "      <td>0.0579</td>\n",
              "    </tr>\n",
              "    <tr>\n",
              "      <th>2</th>\n",
              "      <td>PNW</td>\n",
              "      <td>0</td>\n",
              "      <td>0</td>\n",
              "      <td>0</td>\n",
              "      <td>0</td>\n",
              "      <td>0</td>\n",
              "      <td>0</td>\n",
              "      <td>0</td>\n",
              "      <td>0</td>\n",
              "      <td>0</td>\n",
              "      <td>...</td>\n",
              "      <td>0</td>\n",
              "      <td>0</td>\n",
              "      <td>0</td>\n",
              "      <td>0</td>\n",
              "      <td>0</td>\n",
              "      <td>0</td>\n",
              "      <td>1</td>\n",
              "      <td>0</td>\n",
              "      <td>Pinnacle West Capital Corp</td>\n",
              "      <td>0.0985</td>\n",
              "    </tr>\n",
              "    <tr>\n",
              "      <th>3</th>\n",
              "      <td>ABT</td>\n",
              "      <td>0</td>\n",
              "      <td>0</td>\n",
              "      <td>0</td>\n",
              "      <td>0</td>\n",
              "      <td>0</td>\n",
              "      <td>0</td>\n",
              "      <td>0</td>\n",
              "      <td>0</td>\n",
              "      <td>0</td>\n",
              "      <td>...</td>\n",
              "      <td>0</td>\n",
              "      <td>0</td>\n",
              "      <td>0</td>\n",
              "      <td>0</td>\n",
              "      <td>0</td>\n",
              "      <td>0</td>\n",
              "      <td>0</td>\n",
              "      <td>0</td>\n",
              "      <td>Abbott Laboratories</td>\n",
              "      <td>-0.1638</td>\n",
              "    </tr>\n",
              "    <tr>\n",
              "      <th>4</th>\n",
              "      <td>AMD</td>\n",
              "      <td>0</td>\n",
              "      <td>0</td>\n",
              "      <td>0</td>\n",
              "      <td>0</td>\n",
              "      <td>0</td>\n",
              "      <td>0</td>\n",
              "      <td>0</td>\n",
              "      <td>0</td>\n",
              "      <td>0</td>\n",
              "      <td>...</td>\n",
              "      <td>0</td>\n",
              "      <td>0</td>\n",
              "      <td>0</td>\n",
              "      <td>1</td>\n",
              "      <td>0</td>\n",
              "      <td>0</td>\n",
              "      <td>0</td>\n",
              "      <td>0</td>\n",
              "      <td>Adv Micro Devices</td>\n",
              "      <td>-0.3533</td>\n",
              "    </tr>\n",
              "  </tbody>\n",
              "</table>\n",
              "<p>5 rows × 27 columns</p>\n",
              "</div>\n",
              "      <button class=\"colab-df-convert\" onclick=\"convertToInteractive('df-595c4d6c-d2fe-497d-9abd-7bf5ec8ef49c')\"\n",
              "              title=\"Convert this dataframe to an interactive table.\"\n",
              "              style=\"display:none;\">\n",
              "        \n",
              "  <svg xmlns=\"http://www.w3.org/2000/svg\" height=\"24px\"viewBox=\"0 0 24 24\"\n",
              "       width=\"24px\">\n",
              "    <path d=\"M0 0h24v24H0V0z\" fill=\"none\"/>\n",
              "    <path d=\"M18.56 5.44l.94 2.06.94-2.06 2.06-.94-2.06-.94-.94-2.06-.94 2.06-2.06.94zm-11 1L8.5 8.5l.94-2.06 2.06-.94-2.06-.94L8.5 2.5l-.94 2.06-2.06.94zm10 10l.94 2.06.94-2.06 2.06-.94-2.06-.94-.94-2.06-.94 2.06-2.06.94z\"/><path d=\"M17.41 7.96l-1.37-1.37c-.4-.4-.92-.59-1.43-.59-.52 0-1.04.2-1.43.59L10.3 9.45l-7.72 7.72c-.78.78-.78 2.05 0 2.83L4 21.41c.39.39.9.59 1.41.59.51 0 1.02-.2 1.41-.59l7.78-7.78 2.81-2.81c.8-.78.8-2.07 0-2.86zM5.41 20L4 18.59l7.72-7.72 1.47 1.35L5.41 20z\"/>\n",
              "  </svg>\n",
              "      </button>\n",
              "      \n",
              "  <style>\n",
              "    .colab-df-container {\n",
              "      display:flex;\n",
              "      flex-wrap:wrap;\n",
              "      gap: 12px;\n",
              "    }\n",
              "\n",
              "    .colab-df-convert {\n",
              "      background-color: #E8F0FE;\n",
              "      border: none;\n",
              "      border-radius: 50%;\n",
              "      cursor: pointer;\n",
              "      display: none;\n",
              "      fill: #1967D2;\n",
              "      height: 32px;\n",
              "      padding: 0 0 0 0;\n",
              "      width: 32px;\n",
              "    }\n",
              "\n",
              "    .colab-df-convert:hover {\n",
              "      background-color: #E2EBFA;\n",
              "      box-shadow: 0px 1px 2px rgba(60, 64, 67, 0.3), 0px 1px 3px 1px rgba(60, 64, 67, 0.15);\n",
              "      fill: #174EA6;\n",
              "    }\n",
              "\n",
              "    [theme=dark] .colab-df-convert {\n",
              "      background-color: #3B4455;\n",
              "      fill: #D2E3FC;\n",
              "    }\n",
              "\n",
              "    [theme=dark] .colab-df-convert:hover {\n",
              "      background-color: #434B5C;\n",
              "      box-shadow: 0px 1px 3px 1px rgba(0, 0, 0, 0.15);\n",
              "      filter: drop-shadow(0px 1px 2px rgba(0, 0, 0, 0.3));\n",
              "      fill: #FFFFFF;\n",
              "    }\n",
              "  </style>\n",
              "\n",
              "      <script>\n",
              "        const buttonEl =\n",
              "          document.querySelector('#df-595c4d6c-d2fe-497d-9abd-7bf5ec8ef49c button.colab-df-convert');\n",
              "        buttonEl.style.display =\n",
              "          google.colab.kernel.accessAllowed ? 'block' : 'none';\n",
              "\n",
              "        async function convertToInteractive(key) {\n",
              "          const element = document.querySelector('#df-595c4d6c-d2fe-497d-9abd-7bf5ec8ef49c');\n",
              "          const dataTable =\n",
              "            await google.colab.kernel.invokeFunction('convertToInteractive',\n",
              "                                                     [key], {});\n",
              "          if (!dataTable) return;\n",
              "\n",
              "          const docLinkHtml = 'Like what you see? Visit the ' +\n",
              "            '<a target=\"_blank\" href=https://colab.research.google.com/notebooks/data_table.ipynb>data table notebook</a>'\n",
              "            + ' to learn more about interactive tables.';\n",
              "          element.innerHTML = '';\n",
              "          dataTable['output_type'] = 'display_data';\n",
              "          await google.colab.output.renderOutput(dataTable, element);\n",
              "          const docLink = document.createElement('div');\n",
              "          docLink.innerHTML = docLinkHtml;\n",
              "          element.appendChild(docLink);\n",
              "        }\n",
              "      </script>\n",
              "    </div>\n",
              "  </div>\n",
              "  "
            ]
          },
          "metadata": {},
          "execution_count": 55
        }
      ]
    },
    {
      "cell_type": "markdown",
      "source": [
        "##### Running the regressions"
      ],
      "metadata": {
        "id": "9Sb-f90Nh3lA"
      }
    },
    {
      "cell_type": "markdown",
      "source": [
        "Regression to find the average stock return for each industry classification:"
      ],
      "metadata": {
        "id": "aL9ZpEH-dnvo"
      }
    },
    {
      "cell_type": "code",
      "source": [
        "# define x as a subset of original dataframe\n",
        "x = industry_data.drop(columns=[\n",
        "       'Ticker','Name ','RetYTD'])\n",
        "# define y as a series\n",
        "y = industry_data['RetYTD']\n",
        "\n",
        "# pass x as a dataframe, while pass y as a series\n",
        "results=sm.OLS(y, x).fit()\n",
        "results.summary()"
      ],
      "metadata": {
        "colab": {
          "base_uri": "https://localhost:8080/",
          "height": 921
        },
        "id": "T7YKr5rvdj51",
        "outputId": "6561af8e-f62e-4fef-d031-35048d92833b"
      },
      "execution_count": 56,
      "outputs": [
        {
          "output_type": "execute_result",
          "data": {
            "text/plain": [
              "<class 'statsmodels.iolib.summary.Summary'>\n",
              "\"\"\"\n",
              "                            OLS Regression Results                            \n",
              "==============================================================================\n",
              "Dep. Variable:                 RetYTD   R-squared:                       0.326\n",
              "Model:                            OLS   Adj. R-squared:                  0.317\n",
              "Method:                 Least Squares   F-statistic:                     39.07\n",
              "Date:                Thu, 28 Apr 2022   Prob (F-statistic):          6.29e-141\n",
              "Time:                        02:32:07   Log-Likelihood:                 357.63\n",
              "No. Observations:                1886   AIC:                            -667.3\n",
              "Df Residuals:                    1862   BIC:                            -534.2\n",
              "Df Model:                          23                                         \n",
              "Covariance Type:            nonrobust                                         \n",
              "===============================================================================\n",
              "                  coef    std err          t      P>|t|      [0.025      0.975]\n",
              "-------------------------------------------------------------------------------\n",
              "ggroup_1010     0.5150      0.023     22.140      0.000       0.469       0.561\n",
              "ggroup_1510     0.0578      0.021      2.799      0.005       0.017       0.098\n",
              "ggroup_2010    -0.0905      0.015     -6.080      0.000      -0.120      -0.061\n",
              "ggroup_2020    -0.0352      0.025     -1.385      0.166      -0.085       0.015\n",
              "ggroup_2030    -0.0675      0.032     -2.091      0.037      -0.131      -0.004\n",
              "ggroup_2510    -0.2080      0.040     -5.162      0.000      -0.287      -0.129\n",
              "ggroup_2520    -0.2086      0.025     -8.218      0.000      -0.258      -0.159\n",
              "ggroup_2530    -0.0626      0.025     -2.485      0.013      -0.112      -0.013\n",
              "ggroup_2550    -0.1512      0.022     -6.961      0.000      -0.194      -0.109\n",
              "ggroup_3010     0.0783      0.049      1.603      0.109      -0.018       0.174\n",
              "ggroup_3020     0.0388      0.030      1.277      0.202      -0.021       0.098\n",
              "ggroup_3030    -0.1538      0.049     -3.147      0.002      -0.250      -0.058\n",
              "ggroup_3510    -0.0664      0.018     -3.627      0.000      -0.102      -0.031\n",
              "ggroup_3520    -0.1639      0.016    -10.389      0.000      -0.195      -0.133\n",
              "ggroup_4010    -0.0878      0.015     -5.833      0.000      -0.117      -0.058\n",
              "ggroup_4020    -0.1225      0.021     -5.833      0.000      -0.164      -0.081\n",
              "ggroup_4030     0.0038      0.026      0.146      0.884      -0.047       0.054\n",
              "ggroup_4510    -0.1086      0.019     -5.858      0.000      -0.145      -0.072\n",
              "ggroup_4520    -0.1721      0.022     -7.734      0.000      -0.216      -0.128\n",
              "ggroup_4530    -0.2528      0.027     -9.307      0.000      -0.306      -0.200\n",
              "ggroup_5010     0.0118      0.056      0.212      0.832      -0.098       0.121\n",
              "ggroup_5020    -0.0709      0.031     -2.280      0.023      -0.132      -0.010\n",
              "ggroup_5510     0.0408      0.026      1.541      0.124      -0.011       0.093\n",
              "ggroup_6010    -0.0358      0.018     -2.035      0.042      -0.070      -0.001\n",
              "==============================================================================\n",
              "Omnibus:                      403.265   Durbin-Watson:                   2.008\n",
              "Prob(Omnibus):                  0.000   Jarque-Bera (JB):             2314.656\n",
              "Skew:                           0.877   Prob(JB):                         0.00\n",
              "Kurtosis:                       8.136   Cond. No.                         3.75\n",
              "==============================================================================\n",
              "\n",
              "Warnings:\n",
              "[1] Standard Errors assume that the covariance matrix of the errors is correctly specified.\n",
              "\"\"\""
            ],
            "text/html": [
              "<table class=\"simpletable\">\n",
              "<caption>OLS Regression Results</caption>\n",
              "<tr>\n",
              "  <th>Dep. Variable:</th>         <td>RetYTD</td>      <th>  R-squared:         </th> <td>   0.326</td> \n",
              "</tr>\n",
              "<tr>\n",
              "  <th>Model:</th>                   <td>OLS</td>       <th>  Adj. R-squared:    </th> <td>   0.317</td> \n",
              "</tr>\n",
              "<tr>\n",
              "  <th>Method:</th>             <td>Least Squares</td>  <th>  F-statistic:       </th> <td>   39.07</td> \n",
              "</tr>\n",
              "<tr>\n",
              "  <th>Date:</th>             <td>Thu, 28 Apr 2022</td> <th>  Prob (F-statistic):</th> <td>6.29e-141</td>\n",
              "</tr>\n",
              "<tr>\n",
              "  <th>Time:</th>                 <td>02:32:07</td>     <th>  Log-Likelihood:    </th> <td>  357.63</td> \n",
              "</tr>\n",
              "<tr>\n",
              "  <th>No. Observations:</th>      <td>  1886</td>      <th>  AIC:               </th> <td>  -667.3</td> \n",
              "</tr>\n",
              "<tr>\n",
              "  <th>Df Residuals:</th>          <td>  1862</td>      <th>  BIC:               </th> <td>  -534.2</td> \n",
              "</tr>\n",
              "<tr>\n",
              "  <th>Df Model:</th>              <td>    23</td>      <th>                     </th>     <td> </td>    \n",
              "</tr>\n",
              "<tr>\n",
              "  <th>Covariance Type:</th>      <td>nonrobust</td>    <th>                     </th>     <td> </td>    \n",
              "</tr>\n",
              "</table>\n",
              "<table class=\"simpletable\">\n",
              "<tr>\n",
              "       <td></td>          <th>coef</th>     <th>std err</th>      <th>t</th>      <th>P>|t|</th>  <th>[0.025</th>    <th>0.975]</th>  \n",
              "</tr>\n",
              "<tr>\n",
              "  <th>ggroup_1010</th> <td>    0.5150</td> <td>    0.023</td> <td>   22.140</td> <td> 0.000</td> <td>    0.469</td> <td>    0.561</td>\n",
              "</tr>\n",
              "<tr>\n",
              "  <th>ggroup_1510</th> <td>    0.0578</td> <td>    0.021</td> <td>    2.799</td> <td> 0.005</td> <td>    0.017</td> <td>    0.098</td>\n",
              "</tr>\n",
              "<tr>\n",
              "  <th>ggroup_2010</th> <td>   -0.0905</td> <td>    0.015</td> <td>   -6.080</td> <td> 0.000</td> <td>   -0.120</td> <td>   -0.061</td>\n",
              "</tr>\n",
              "<tr>\n",
              "  <th>ggroup_2020</th> <td>   -0.0352</td> <td>    0.025</td> <td>   -1.385</td> <td> 0.166</td> <td>   -0.085</td> <td>    0.015</td>\n",
              "</tr>\n",
              "<tr>\n",
              "  <th>ggroup_2030</th> <td>   -0.0675</td> <td>    0.032</td> <td>   -2.091</td> <td> 0.037</td> <td>   -0.131</td> <td>   -0.004</td>\n",
              "</tr>\n",
              "<tr>\n",
              "  <th>ggroup_2510</th> <td>   -0.2080</td> <td>    0.040</td> <td>   -5.162</td> <td> 0.000</td> <td>   -0.287</td> <td>   -0.129</td>\n",
              "</tr>\n",
              "<tr>\n",
              "  <th>ggroup_2520</th> <td>   -0.2086</td> <td>    0.025</td> <td>   -8.218</td> <td> 0.000</td> <td>   -0.258</td> <td>   -0.159</td>\n",
              "</tr>\n",
              "<tr>\n",
              "  <th>ggroup_2530</th> <td>   -0.0626</td> <td>    0.025</td> <td>   -2.485</td> <td> 0.013</td> <td>   -0.112</td> <td>   -0.013</td>\n",
              "</tr>\n",
              "<tr>\n",
              "  <th>ggroup_2550</th> <td>   -0.1512</td> <td>    0.022</td> <td>   -6.961</td> <td> 0.000</td> <td>   -0.194</td> <td>   -0.109</td>\n",
              "</tr>\n",
              "<tr>\n",
              "  <th>ggroup_3010</th> <td>    0.0783</td> <td>    0.049</td> <td>    1.603</td> <td> 0.109</td> <td>   -0.018</td> <td>    0.174</td>\n",
              "</tr>\n",
              "<tr>\n",
              "  <th>ggroup_3020</th> <td>    0.0388</td> <td>    0.030</td> <td>    1.277</td> <td> 0.202</td> <td>   -0.021</td> <td>    0.098</td>\n",
              "</tr>\n",
              "<tr>\n",
              "  <th>ggroup_3030</th> <td>   -0.1538</td> <td>    0.049</td> <td>   -3.147</td> <td> 0.002</td> <td>   -0.250</td> <td>   -0.058</td>\n",
              "</tr>\n",
              "<tr>\n",
              "  <th>ggroup_3510</th> <td>   -0.0664</td> <td>    0.018</td> <td>   -3.627</td> <td> 0.000</td> <td>   -0.102</td> <td>   -0.031</td>\n",
              "</tr>\n",
              "<tr>\n",
              "  <th>ggroup_3520</th> <td>   -0.1639</td> <td>    0.016</td> <td>  -10.389</td> <td> 0.000</td> <td>   -0.195</td> <td>   -0.133</td>\n",
              "</tr>\n",
              "<tr>\n",
              "  <th>ggroup_4010</th> <td>   -0.0878</td> <td>    0.015</td> <td>   -5.833</td> <td> 0.000</td> <td>   -0.117</td> <td>   -0.058</td>\n",
              "</tr>\n",
              "<tr>\n",
              "  <th>ggroup_4020</th> <td>   -0.1225</td> <td>    0.021</td> <td>   -5.833</td> <td> 0.000</td> <td>   -0.164</td> <td>   -0.081</td>\n",
              "</tr>\n",
              "<tr>\n",
              "  <th>ggroup_4030</th> <td>    0.0038</td> <td>    0.026</td> <td>    0.146</td> <td> 0.884</td> <td>   -0.047</td> <td>    0.054</td>\n",
              "</tr>\n",
              "<tr>\n",
              "  <th>ggroup_4510</th> <td>   -0.1086</td> <td>    0.019</td> <td>   -5.858</td> <td> 0.000</td> <td>   -0.145</td> <td>   -0.072</td>\n",
              "</tr>\n",
              "<tr>\n",
              "  <th>ggroup_4520</th> <td>   -0.1721</td> <td>    0.022</td> <td>   -7.734</td> <td> 0.000</td> <td>   -0.216</td> <td>   -0.128</td>\n",
              "</tr>\n",
              "<tr>\n",
              "  <th>ggroup_4530</th> <td>   -0.2528</td> <td>    0.027</td> <td>   -9.307</td> <td> 0.000</td> <td>   -0.306</td> <td>   -0.200</td>\n",
              "</tr>\n",
              "<tr>\n",
              "  <th>ggroup_5010</th> <td>    0.0118</td> <td>    0.056</td> <td>    0.212</td> <td> 0.832</td> <td>   -0.098</td> <td>    0.121</td>\n",
              "</tr>\n",
              "<tr>\n",
              "  <th>ggroup_5020</th> <td>   -0.0709</td> <td>    0.031</td> <td>   -2.280</td> <td> 0.023</td> <td>   -0.132</td> <td>   -0.010</td>\n",
              "</tr>\n",
              "<tr>\n",
              "  <th>ggroup_5510</th> <td>    0.0408</td> <td>    0.026</td> <td>    1.541</td> <td> 0.124</td> <td>   -0.011</td> <td>    0.093</td>\n",
              "</tr>\n",
              "<tr>\n",
              "  <th>ggroup_6010</th> <td>   -0.0358</td> <td>    0.018</td> <td>   -2.035</td> <td> 0.042</td> <td>   -0.070</td> <td>   -0.001</td>\n",
              "</tr>\n",
              "</table>\n",
              "<table class=\"simpletable\">\n",
              "<tr>\n",
              "  <th>Omnibus:</th>       <td>403.265</td> <th>  Durbin-Watson:     </th> <td>   2.008</td>\n",
              "</tr>\n",
              "<tr>\n",
              "  <th>Prob(Omnibus):</th> <td> 0.000</td>  <th>  Jarque-Bera (JB):  </th> <td>2314.656</td>\n",
              "</tr>\n",
              "<tr>\n",
              "  <th>Skew:</th>          <td> 0.877</td>  <th>  Prob(JB):          </th> <td>    0.00</td>\n",
              "</tr>\n",
              "<tr>\n",
              "  <th>Kurtosis:</th>      <td> 8.136</td>  <th>  Cond. No.          </th> <td>    3.75</td>\n",
              "</tr>\n",
              "</table><br/><br/>Warnings:<br/>[1] Standard Errors assume that the covariance matrix of the errors is correctly specified."
            ]
          },
          "metadata": {},
          "execution_count": 56
        }
      ]
    },
    {
      "cell_type": "markdown",
      "source": [
        "Sorting the industries in descending order based on their average returns"
      ],
      "metadata": {
        "id": "8glGjDizgYEJ"
      }
    },
    {
      "cell_type": "code",
      "source": [
        "results.params.sort_values(ascending=False)"
      ],
      "metadata": {
        "colab": {
          "base_uri": "https://localhost:8080/",
          "height": 0
        },
        "id": "uJ7apAclgYxW",
        "outputId": "ac94d872-02d3-45e5-ac35-815a4527b8a9"
      },
      "execution_count": 57,
      "outputs": [
        {
          "output_type": "execute_result",
          "data": {
            "text/plain": [
              "ggroup_1010    0.515035\n",
              "ggroup_3010    0.078312\n",
              "ggroup_1510    0.057846\n",
              "ggroup_5510    0.040759\n",
              "ggroup_3020    0.038780\n",
              "ggroup_5010    0.011838\n",
              "ggroup_4030    0.003779\n",
              "ggroup_2020   -0.035157\n",
              "ggroup_6010   -0.035826\n",
              "ggroup_2530   -0.062583\n",
              "ggroup_3510   -0.066432\n",
              "ggroup_2030   -0.067454\n",
              "ggroup_5020   -0.070871\n",
              "ggroup_4010   -0.087832\n",
              "ggroup_2010   -0.090548\n",
              "ggroup_4510   -0.108644\n",
              "ggroup_4020   -0.122515\n",
              "ggroup_2550   -0.151223\n",
              "ggroup_3030   -0.153771\n",
              "ggroup_3520   -0.163937\n",
              "ggroup_4520   -0.172065\n",
              "ggroup_2510   -0.207992\n",
              "ggroup_2520   -0.208598\n",
              "ggroup_4530   -0.252813\n",
              "dtype: float64"
            ]
          },
          "metadata": {},
          "execution_count": 57
        }
      ]
    },
    {
      "cell_type": "markdown",
      "source": [
        "The industry with the highest average return is the Energy industry(ggroup 1010) with an average return of about 52%.The industry with the lowest average return is the SemiConductors and SemiConductor Equipment industry(ggroup 4530) with an average return of about -25%. The average returns for both industries are statistically significant since their p-values are less than 0.05 and their confidence intervals doesn't include zero."
      ],
      "metadata": {
        "id": "vxe8BCTVgcFr"
      }
    },
    {
      "cell_type": "markdown",
      "source": [
        "Running a regression to compare all the industries to the Energy Industry"
      ],
      "metadata": {
        "id": "6bWvQFFngMqx"
      }
    },
    {
      "cell_type": "code",
      "source": [
        "y2 =industry_data[\"RetYTD\"] #Defining the X and y variables\n",
        "X2 = industry_data.drop(columns=['Ticker','Name ','RetYTD','ggroup_1010'])\n",
        "X2 = sm.add_constant(X2) #Adding a constant\n",
        "model2 = sm.OLS(y2, X2).fit()#Running the regression\n",
        "model2.summary()"
      ],
      "metadata": {
        "colab": {
          "base_uri": "https://localhost:8080/",
          "height": 977
        },
        "id": "vO1Gic_fcQ11",
        "outputId": "0f1d80b1-c52c-43b3-a726-2c6add8c4f36"
      },
      "execution_count": 58,
      "outputs": [
        {
          "output_type": "stream",
          "name": "stderr",
          "text": [
            "/usr/local/lib/python3.7/dist-packages/statsmodels/tsa/tsatools.py:117: FutureWarning: In a future version of pandas all arguments of concat except for the argument 'objs' will be keyword-only\n",
            "  x = pd.concat(x[::order], 1)\n"
          ]
        },
        {
          "output_type": "execute_result",
          "data": {
            "text/plain": [
              "<class 'statsmodels.iolib.summary.Summary'>\n",
              "\"\"\"\n",
              "                            OLS Regression Results                            \n",
              "==============================================================================\n",
              "Dep. Variable:                 RetYTD   R-squared:                       0.326\n",
              "Model:                            OLS   Adj. R-squared:                  0.317\n",
              "Method:                 Least Squares   F-statistic:                     39.07\n",
              "Date:                Thu, 28 Apr 2022   Prob (F-statistic):          6.29e-141\n",
              "Time:                        02:32:07   Log-Likelihood:                 357.63\n",
              "No. Observations:                1886   AIC:                            -667.3\n",
              "Df Residuals:                    1862   BIC:                            -534.2\n",
              "Df Model:                          23                                         \n",
              "Covariance Type:            nonrobust                                         \n",
              "===============================================================================\n",
              "                  coef    std err          t      P>|t|      [0.025      0.975]\n",
              "-------------------------------------------------------------------------------\n",
              "const           0.5150      0.023     22.140      0.000       0.469       0.561\n",
              "ggroup_1510    -0.4572      0.031    -14.692      0.000      -0.518      -0.396\n",
              "ggroup_2010    -0.6056      0.028    -21.924      0.000      -0.660      -0.551\n",
              "ggroup_2020    -0.5502      0.034    -15.980      0.000      -0.618      -0.483\n",
              "ggroup_2030    -0.5825      0.040    -14.646      0.000      -0.660      -0.504\n",
              "ggroup_2510    -0.7230      0.047    -15.540      0.000      -0.814      -0.632\n",
              "ggroup_2520    -0.7236      0.034    -21.018      0.000      -0.791      -0.656\n",
              "ggroup_2530    -0.5776      0.034    -16.849      0.000      -0.645      -0.510\n",
              "ggroup_2550    -0.6663      0.032    -20.932      0.000      -0.729      -0.604\n",
              "ggroup_3010    -0.4367      0.054     -8.070      0.000      -0.543      -0.331\n",
              "ggroup_3020    -0.4763      0.038    -12.449      0.000      -0.551      -0.401\n",
              "ggroup_3030    -0.6688      0.054    -12.359      0.000      -0.775      -0.563\n",
              "ggroup_3510    -0.5815      0.030    -19.639      0.000      -0.640      -0.523\n",
              "ggroup_3520    -0.6790      0.028    -24.154      0.000      -0.734      -0.624\n",
              "ggroup_4010    -0.6029      0.028    -21.756      0.000      -0.657      -0.549\n",
              "ggroup_4020    -0.6375      0.031    -20.342      0.000      -0.699      -0.576\n",
              "ggroup_4030    -0.5113      0.035    -14.719      0.000      -0.579      -0.443\n",
              "ggroup_4510    -0.6237      0.030    -20.963      0.000      -0.682      -0.565\n",
              "ggroup_4520    -0.6871      0.032    -21.346      0.000      -0.750      -0.624\n",
              "ggroup_4530    -0.7678      0.036    -21.470      0.000      -0.838      -0.698\n",
              "ggroup_5010    -0.5032      0.061     -8.314      0.000      -0.622      -0.384\n",
              "ggroup_5020    -0.5859      0.039    -15.090      0.000      -0.662      -0.510\n",
              "ggroup_5510    -0.4743      0.035    -13.464      0.000      -0.543      -0.405\n",
              "ggroup_6010    -0.5509      0.029    -18.884      0.000      -0.608      -0.494\n",
              "==============================================================================\n",
              "Omnibus:                      403.265   Durbin-Watson:                   2.008\n",
              "Prob(Omnibus):                  0.000   Jarque-Bera (JB):             2314.656\n",
              "Skew:                           0.877   Prob(JB):                         0.00\n",
              "Kurtosis:                       8.136   Cond. No.                         26.1\n",
              "==============================================================================\n",
              "\n",
              "Warnings:\n",
              "[1] Standard Errors assume that the covariance matrix of the errors is correctly specified.\n",
              "\"\"\""
            ],
            "text/html": [
              "<table class=\"simpletable\">\n",
              "<caption>OLS Regression Results</caption>\n",
              "<tr>\n",
              "  <th>Dep. Variable:</th>         <td>RetYTD</td>      <th>  R-squared:         </th> <td>   0.326</td> \n",
              "</tr>\n",
              "<tr>\n",
              "  <th>Model:</th>                   <td>OLS</td>       <th>  Adj. R-squared:    </th> <td>   0.317</td> \n",
              "</tr>\n",
              "<tr>\n",
              "  <th>Method:</th>             <td>Least Squares</td>  <th>  F-statistic:       </th> <td>   39.07</td> \n",
              "</tr>\n",
              "<tr>\n",
              "  <th>Date:</th>             <td>Thu, 28 Apr 2022</td> <th>  Prob (F-statistic):</th> <td>6.29e-141</td>\n",
              "</tr>\n",
              "<tr>\n",
              "  <th>Time:</th>                 <td>02:32:07</td>     <th>  Log-Likelihood:    </th> <td>  357.63</td> \n",
              "</tr>\n",
              "<tr>\n",
              "  <th>No. Observations:</th>      <td>  1886</td>      <th>  AIC:               </th> <td>  -667.3</td> \n",
              "</tr>\n",
              "<tr>\n",
              "  <th>Df Residuals:</th>          <td>  1862</td>      <th>  BIC:               </th> <td>  -534.2</td> \n",
              "</tr>\n",
              "<tr>\n",
              "  <th>Df Model:</th>              <td>    23</td>      <th>                     </th>     <td> </td>    \n",
              "</tr>\n",
              "<tr>\n",
              "  <th>Covariance Type:</th>      <td>nonrobust</td>    <th>                     </th>     <td> </td>    \n",
              "</tr>\n",
              "</table>\n",
              "<table class=\"simpletable\">\n",
              "<tr>\n",
              "       <td></td>          <th>coef</th>     <th>std err</th>      <th>t</th>      <th>P>|t|</th>  <th>[0.025</th>    <th>0.975]</th>  \n",
              "</tr>\n",
              "<tr>\n",
              "  <th>const</th>       <td>    0.5150</td> <td>    0.023</td> <td>   22.140</td> <td> 0.000</td> <td>    0.469</td> <td>    0.561</td>\n",
              "</tr>\n",
              "<tr>\n",
              "  <th>ggroup_1510</th> <td>   -0.4572</td> <td>    0.031</td> <td>  -14.692</td> <td> 0.000</td> <td>   -0.518</td> <td>   -0.396</td>\n",
              "</tr>\n",
              "<tr>\n",
              "  <th>ggroup_2010</th> <td>   -0.6056</td> <td>    0.028</td> <td>  -21.924</td> <td> 0.000</td> <td>   -0.660</td> <td>   -0.551</td>\n",
              "</tr>\n",
              "<tr>\n",
              "  <th>ggroup_2020</th> <td>   -0.5502</td> <td>    0.034</td> <td>  -15.980</td> <td> 0.000</td> <td>   -0.618</td> <td>   -0.483</td>\n",
              "</tr>\n",
              "<tr>\n",
              "  <th>ggroup_2030</th> <td>   -0.5825</td> <td>    0.040</td> <td>  -14.646</td> <td> 0.000</td> <td>   -0.660</td> <td>   -0.504</td>\n",
              "</tr>\n",
              "<tr>\n",
              "  <th>ggroup_2510</th> <td>   -0.7230</td> <td>    0.047</td> <td>  -15.540</td> <td> 0.000</td> <td>   -0.814</td> <td>   -0.632</td>\n",
              "</tr>\n",
              "<tr>\n",
              "  <th>ggroup_2520</th> <td>   -0.7236</td> <td>    0.034</td> <td>  -21.018</td> <td> 0.000</td> <td>   -0.791</td> <td>   -0.656</td>\n",
              "</tr>\n",
              "<tr>\n",
              "  <th>ggroup_2530</th> <td>   -0.5776</td> <td>    0.034</td> <td>  -16.849</td> <td> 0.000</td> <td>   -0.645</td> <td>   -0.510</td>\n",
              "</tr>\n",
              "<tr>\n",
              "  <th>ggroup_2550</th> <td>   -0.6663</td> <td>    0.032</td> <td>  -20.932</td> <td> 0.000</td> <td>   -0.729</td> <td>   -0.604</td>\n",
              "</tr>\n",
              "<tr>\n",
              "  <th>ggroup_3010</th> <td>   -0.4367</td> <td>    0.054</td> <td>   -8.070</td> <td> 0.000</td> <td>   -0.543</td> <td>   -0.331</td>\n",
              "</tr>\n",
              "<tr>\n",
              "  <th>ggroup_3020</th> <td>   -0.4763</td> <td>    0.038</td> <td>  -12.449</td> <td> 0.000</td> <td>   -0.551</td> <td>   -0.401</td>\n",
              "</tr>\n",
              "<tr>\n",
              "  <th>ggroup_3030</th> <td>   -0.6688</td> <td>    0.054</td> <td>  -12.359</td> <td> 0.000</td> <td>   -0.775</td> <td>   -0.563</td>\n",
              "</tr>\n",
              "<tr>\n",
              "  <th>ggroup_3510</th> <td>   -0.5815</td> <td>    0.030</td> <td>  -19.639</td> <td> 0.000</td> <td>   -0.640</td> <td>   -0.523</td>\n",
              "</tr>\n",
              "<tr>\n",
              "  <th>ggroup_3520</th> <td>   -0.6790</td> <td>    0.028</td> <td>  -24.154</td> <td> 0.000</td> <td>   -0.734</td> <td>   -0.624</td>\n",
              "</tr>\n",
              "<tr>\n",
              "  <th>ggroup_4010</th> <td>   -0.6029</td> <td>    0.028</td> <td>  -21.756</td> <td> 0.000</td> <td>   -0.657</td> <td>   -0.549</td>\n",
              "</tr>\n",
              "<tr>\n",
              "  <th>ggroup_4020</th> <td>   -0.6375</td> <td>    0.031</td> <td>  -20.342</td> <td> 0.000</td> <td>   -0.699</td> <td>   -0.576</td>\n",
              "</tr>\n",
              "<tr>\n",
              "  <th>ggroup_4030</th> <td>   -0.5113</td> <td>    0.035</td> <td>  -14.719</td> <td> 0.000</td> <td>   -0.579</td> <td>   -0.443</td>\n",
              "</tr>\n",
              "<tr>\n",
              "  <th>ggroup_4510</th> <td>   -0.6237</td> <td>    0.030</td> <td>  -20.963</td> <td> 0.000</td> <td>   -0.682</td> <td>   -0.565</td>\n",
              "</tr>\n",
              "<tr>\n",
              "  <th>ggroup_4520</th> <td>   -0.6871</td> <td>    0.032</td> <td>  -21.346</td> <td> 0.000</td> <td>   -0.750</td> <td>   -0.624</td>\n",
              "</tr>\n",
              "<tr>\n",
              "  <th>ggroup_4530</th> <td>   -0.7678</td> <td>    0.036</td> <td>  -21.470</td> <td> 0.000</td> <td>   -0.838</td> <td>   -0.698</td>\n",
              "</tr>\n",
              "<tr>\n",
              "  <th>ggroup_5010</th> <td>   -0.5032</td> <td>    0.061</td> <td>   -8.314</td> <td> 0.000</td> <td>   -0.622</td> <td>   -0.384</td>\n",
              "</tr>\n",
              "<tr>\n",
              "  <th>ggroup_5020</th> <td>   -0.5859</td> <td>    0.039</td> <td>  -15.090</td> <td> 0.000</td> <td>   -0.662</td> <td>   -0.510</td>\n",
              "</tr>\n",
              "<tr>\n",
              "  <th>ggroup_5510</th> <td>   -0.4743</td> <td>    0.035</td> <td>  -13.464</td> <td> 0.000</td> <td>   -0.543</td> <td>   -0.405</td>\n",
              "</tr>\n",
              "<tr>\n",
              "  <th>ggroup_6010</th> <td>   -0.5509</td> <td>    0.029</td> <td>  -18.884</td> <td> 0.000</td> <td>   -0.608</td> <td>   -0.494</td>\n",
              "</tr>\n",
              "</table>\n",
              "<table class=\"simpletable\">\n",
              "<tr>\n",
              "  <th>Omnibus:</th>       <td>403.265</td> <th>  Durbin-Watson:     </th> <td>   2.008</td>\n",
              "</tr>\n",
              "<tr>\n",
              "  <th>Prob(Omnibus):</th> <td> 0.000</td>  <th>  Jarque-Bera (JB):  </th> <td>2314.656</td>\n",
              "</tr>\n",
              "<tr>\n",
              "  <th>Skew:</th>          <td> 0.877</td>  <th>  Prob(JB):          </th> <td>    0.00</td>\n",
              "</tr>\n",
              "<tr>\n",
              "  <th>Kurtosis:</th>      <td> 8.136</td>  <th>  Cond. No.          </th> <td>    26.1</td>\n",
              "</tr>\n",
              "</table><br/><br/>Warnings:<br/>[1] Standard Errors assume that the covariance matrix of the errors is correctly specified."
            ]
          },
          "metadata": {},
          "execution_count": 58
        }
      ]
    },
    {
      "cell_type": "markdown",
      "source": [
        "Above we are doing the regression but this time dropping the group 1010, this means that the the intercept now represents the group 1010. And all the coefficients are presented in relation to the intercept. I chose the group 1010 because I wanted to compare all the industries with the Energy industry since it was the best performing one. As you would expect all of the industries have negative coefficients compared to the energy industry, since they all had lower returns compared to it. Also, the difference between their average returns is statistically significant since all of the p-values are less than 0.05, and all of the confidence intervals doesn't include zero. We can confidently say that the energy sector outperfomed all of the other sectors at that time. The adj rsquared is 0.326, which means that the industry variables are doing a decent job explaining the variance in the stock returns."
      ],
      "metadata": {
        "id": "RVg9WJhhb50c"
      }
    },
    {
      "cell_type": "markdown",
      "source": [
        "Running regressions dropping each industry one by one"
      ],
      "metadata": {
        "id": "v8_nu_35yP06"
      }
    },
    {
      "cell_type": "code",
      "source": [
        "ggroups=['ggroup_1010',\n",
        "       'ggroup_1510', 'ggroup_2010', 'ggroup_2020', 'ggroup_2030',\n",
        "       'ggroup_2510', 'ggroup_2520', 'ggroup_2530', 'ggroup_2550',\n",
        "       'ggroup_3010', 'ggroup_3020', 'ggroup_3030', 'ggroup_3510',\n",
        "       'ggroup_3520', 'ggroup_4010', 'ggroup_4020', 'ggroup_4030',\n",
        "       'ggroup_4510', 'ggroup_4520', 'ggroup_4530', 'ggroup_5010',\n",
        "       'ggroup_5020', 'ggroup_5510', 'ggroup_6010']"
      ],
      "metadata": {
        "id": "ivDO_bI5yJ8X"
      },
      "execution_count": 59,
      "outputs": []
    },
    {
      "cell_type": "code",
      "source": [
        "ggroups_rsquared=pd.DataFrame()\n",
        "for i in ggroups:\n",
        "  # define x as a subset of original dataframe\n",
        "  x = industry_data.drop(columns=[\n",
        "       'Ticker', 'Name ','RetYTD',i])\n",
        "  # define y as a series\n",
        "  y = industry_data['RetYTD']\n",
        "\n",
        "  # pass x as a dataframe, while pass y as a series\n",
        "  results=sm.OLS(y, x).fit()\n",
        "  rsquared_adj=results.rsquared_adj\n",
        "  row={'Column_dropped':i,'adj_rsquared':rsquared_adj}\n",
        "  ggroups_rsquared=ggroups_rsquared.append(row,ignore_index=True)"
      ],
      "metadata": {
        "id": "_Q_PTHT2yTZR"
      },
      "execution_count": 60,
      "outputs": []
    },
    {
      "cell_type": "code",
      "source": [
        "ggroups_rsquared.sort_values(by='adj_rsquared')"
      ],
      "metadata": {
        "colab": {
          "base_uri": "https://localhost:8080/",
          "height": 802
        },
        "id": "7oGN4ixDyj7B",
        "outputId": "7cb8fa22-c5f9-4703-ce72-36001c8f72f7"
      },
      "execution_count": 61,
      "outputs": [
        {
          "output_type": "execute_result",
          "data": {
            "text/plain": [
              "   Column_dropped  adj_rsquared\n",
              "0     ggroup_1010      0.192221\n",
              "13    ggroup_3520      0.323490\n",
              "19    ggroup_4530      0.330812\n",
              "6     ggroup_2520      0.337361\n",
              "18    ggroup_4520      0.340015\n",
              "8     ggroup_2550      0.343915\n",
              "2     ggroup_2010      0.347861\n",
              "17    ggroup_4510      0.348771\n",
              "15    ggroup_4020      0.348872\n",
              "14    ggroup_4010      0.348872\n",
              "5     ggroup_2510      0.351405\n",
              "12    ggroup_3510      0.356038\n",
              "11    ggroup_3030      0.357155\n",
              "1     ggroup_1510      0.357867\n",
              "7     ggroup_2530      0.358435\n",
              "21    ggroup_5020      0.358771\n",
              "4     ggroup_2030      0.359055\n",
              "23    ggroup_6010      0.359134\n",
              "9     ggroup_3010      0.359674\n",
              "22    ggroup_5510      0.359741\n",
              "3     ggroup_2020      0.359897\n",
              "10    ggroup_3020      0.359996\n",
              "20    ggroup_5010      0.360541\n",
              "16    ggroup_4030      0.360549"
            ],
            "text/html": [
              "\n",
              "  <div id=\"df-d9ee6f05-f44e-41c2-b62b-fee9a284c186\">\n",
              "    <div class=\"colab-df-container\">\n",
              "      <div>\n",
              "<style scoped>\n",
              "    .dataframe tbody tr th:only-of-type {\n",
              "        vertical-align: middle;\n",
              "    }\n",
              "\n",
              "    .dataframe tbody tr th {\n",
              "        vertical-align: top;\n",
              "    }\n",
              "\n",
              "    .dataframe thead th {\n",
              "        text-align: right;\n",
              "    }\n",
              "</style>\n",
              "<table border=\"1\" class=\"dataframe\">\n",
              "  <thead>\n",
              "    <tr style=\"text-align: right;\">\n",
              "      <th></th>\n",
              "      <th>Column_dropped</th>\n",
              "      <th>adj_rsquared</th>\n",
              "    </tr>\n",
              "  </thead>\n",
              "  <tbody>\n",
              "    <tr>\n",
              "      <th>0</th>\n",
              "      <td>ggroup_1010</td>\n",
              "      <td>0.192221</td>\n",
              "    </tr>\n",
              "    <tr>\n",
              "      <th>13</th>\n",
              "      <td>ggroup_3520</td>\n",
              "      <td>0.323490</td>\n",
              "    </tr>\n",
              "    <tr>\n",
              "      <th>19</th>\n",
              "      <td>ggroup_4530</td>\n",
              "      <td>0.330812</td>\n",
              "    </tr>\n",
              "    <tr>\n",
              "      <th>6</th>\n",
              "      <td>ggroup_2520</td>\n",
              "      <td>0.337361</td>\n",
              "    </tr>\n",
              "    <tr>\n",
              "      <th>18</th>\n",
              "      <td>ggroup_4520</td>\n",
              "      <td>0.340015</td>\n",
              "    </tr>\n",
              "    <tr>\n",
              "      <th>8</th>\n",
              "      <td>ggroup_2550</td>\n",
              "      <td>0.343915</td>\n",
              "    </tr>\n",
              "    <tr>\n",
              "      <th>2</th>\n",
              "      <td>ggroup_2010</td>\n",
              "      <td>0.347861</td>\n",
              "    </tr>\n",
              "    <tr>\n",
              "      <th>17</th>\n",
              "      <td>ggroup_4510</td>\n",
              "      <td>0.348771</td>\n",
              "    </tr>\n",
              "    <tr>\n",
              "      <th>15</th>\n",
              "      <td>ggroup_4020</td>\n",
              "      <td>0.348872</td>\n",
              "    </tr>\n",
              "    <tr>\n",
              "      <th>14</th>\n",
              "      <td>ggroup_4010</td>\n",
              "      <td>0.348872</td>\n",
              "    </tr>\n",
              "    <tr>\n",
              "      <th>5</th>\n",
              "      <td>ggroup_2510</td>\n",
              "      <td>0.351405</td>\n",
              "    </tr>\n",
              "    <tr>\n",
              "      <th>12</th>\n",
              "      <td>ggroup_3510</td>\n",
              "      <td>0.356038</td>\n",
              "    </tr>\n",
              "    <tr>\n",
              "      <th>11</th>\n",
              "      <td>ggroup_3030</td>\n",
              "      <td>0.357155</td>\n",
              "    </tr>\n",
              "    <tr>\n",
              "      <th>1</th>\n",
              "      <td>ggroup_1510</td>\n",
              "      <td>0.357867</td>\n",
              "    </tr>\n",
              "    <tr>\n",
              "      <th>7</th>\n",
              "      <td>ggroup_2530</td>\n",
              "      <td>0.358435</td>\n",
              "    </tr>\n",
              "    <tr>\n",
              "      <th>21</th>\n",
              "      <td>ggroup_5020</td>\n",
              "      <td>0.358771</td>\n",
              "    </tr>\n",
              "    <tr>\n",
              "      <th>4</th>\n",
              "      <td>ggroup_2030</td>\n",
              "      <td>0.359055</td>\n",
              "    </tr>\n",
              "    <tr>\n",
              "      <th>23</th>\n",
              "      <td>ggroup_6010</td>\n",
              "      <td>0.359134</td>\n",
              "    </tr>\n",
              "    <tr>\n",
              "      <th>9</th>\n",
              "      <td>ggroup_3010</td>\n",
              "      <td>0.359674</td>\n",
              "    </tr>\n",
              "    <tr>\n",
              "      <th>22</th>\n",
              "      <td>ggroup_5510</td>\n",
              "      <td>0.359741</td>\n",
              "    </tr>\n",
              "    <tr>\n",
              "      <th>3</th>\n",
              "      <td>ggroup_2020</td>\n",
              "      <td>0.359897</td>\n",
              "    </tr>\n",
              "    <tr>\n",
              "      <th>10</th>\n",
              "      <td>ggroup_3020</td>\n",
              "      <td>0.359996</td>\n",
              "    </tr>\n",
              "    <tr>\n",
              "      <th>20</th>\n",
              "      <td>ggroup_5010</td>\n",
              "      <td>0.360541</td>\n",
              "    </tr>\n",
              "    <tr>\n",
              "      <th>16</th>\n",
              "      <td>ggroup_4030</td>\n",
              "      <td>0.360549</td>\n",
              "    </tr>\n",
              "  </tbody>\n",
              "</table>\n",
              "</div>\n",
              "      <button class=\"colab-df-convert\" onclick=\"convertToInteractive('df-d9ee6f05-f44e-41c2-b62b-fee9a284c186')\"\n",
              "              title=\"Convert this dataframe to an interactive table.\"\n",
              "              style=\"display:none;\">\n",
              "        \n",
              "  <svg xmlns=\"http://www.w3.org/2000/svg\" height=\"24px\"viewBox=\"0 0 24 24\"\n",
              "       width=\"24px\">\n",
              "    <path d=\"M0 0h24v24H0V0z\" fill=\"none\"/>\n",
              "    <path d=\"M18.56 5.44l.94 2.06.94-2.06 2.06-.94-2.06-.94-.94-2.06-.94 2.06-2.06.94zm-11 1L8.5 8.5l.94-2.06 2.06-.94-2.06-.94L8.5 2.5l-.94 2.06-2.06.94zm10 10l.94 2.06.94-2.06 2.06-.94-2.06-.94-.94-2.06-.94 2.06-2.06.94z\"/><path d=\"M17.41 7.96l-1.37-1.37c-.4-.4-.92-.59-1.43-.59-.52 0-1.04.2-1.43.59L10.3 9.45l-7.72 7.72c-.78.78-.78 2.05 0 2.83L4 21.41c.39.39.9.59 1.41.59.51 0 1.02-.2 1.41-.59l7.78-7.78 2.81-2.81c.8-.78.8-2.07 0-2.86zM5.41 20L4 18.59l7.72-7.72 1.47 1.35L5.41 20z\"/>\n",
              "  </svg>\n",
              "      </button>\n",
              "      \n",
              "  <style>\n",
              "    .colab-df-container {\n",
              "      display:flex;\n",
              "      flex-wrap:wrap;\n",
              "      gap: 12px;\n",
              "    }\n",
              "\n",
              "    .colab-df-convert {\n",
              "      background-color: #E8F0FE;\n",
              "      border: none;\n",
              "      border-radius: 50%;\n",
              "      cursor: pointer;\n",
              "      display: none;\n",
              "      fill: #1967D2;\n",
              "      height: 32px;\n",
              "      padding: 0 0 0 0;\n",
              "      width: 32px;\n",
              "    }\n",
              "\n",
              "    .colab-df-convert:hover {\n",
              "      background-color: #E2EBFA;\n",
              "      box-shadow: 0px 1px 2px rgba(60, 64, 67, 0.3), 0px 1px 3px 1px rgba(60, 64, 67, 0.15);\n",
              "      fill: #174EA6;\n",
              "    }\n",
              "\n",
              "    [theme=dark] .colab-df-convert {\n",
              "      background-color: #3B4455;\n",
              "      fill: #D2E3FC;\n",
              "    }\n",
              "\n",
              "    [theme=dark] .colab-df-convert:hover {\n",
              "      background-color: #434B5C;\n",
              "      box-shadow: 0px 1px 3px 1px rgba(0, 0, 0, 0.15);\n",
              "      filter: drop-shadow(0px 1px 2px rgba(0, 0, 0, 0.3));\n",
              "      fill: #FFFFFF;\n",
              "    }\n",
              "  </style>\n",
              "\n",
              "      <script>\n",
              "        const buttonEl =\n",
              "          document.querySelector('#df-d9ee6f05-f44e-41c2-b62b-fee9a284c186 button.colab-df-convert');\n",
              "        buttonEl.style.display =\n",
              "          google.colab.kernel.accessAllowed ? 'block' : 'none';\n",
              "\n",
              "        async function convertToInteractive(key) {\n",
              "          const element = document.querySelector('#df-d9ee6f05-f44e-41c2-b62b-fee9a284c186');\n",
              "          const dataTable =\n",
              "            await google.colab.kernel.invokeFunction('convertToInteractive',\n",
              "                                                     [key], {});\n",
              "          if (!dataTable) return;\n",
              "\n",
              "          const docLinkHtml = 'Like what you see? Visit the ' +\n",
              "            '<a target=\"_blank\" href=https://colab.research.google.com/notebooks/data_table.ipynb>data table notebook</a>'\n",
              "            + ' to learn more about interactive tables.';\n",
              "          element.innerHTML = '';\n",
              "          dataTable['output_type'] = 'display_data';\n",
              "          await google.colab.output.renderOutput(dataTable, element);\n",
              "          const docLink = document.createElement('div');\n",
              "          docLink.innerHTML = docLinkHtml;\n",
              "          element.appendChild(docLink);\n",
              "        }\n",
              "      </script>\n",
              "    </div>\n",
              "  </div>\n",
              "  "
            ]
          },
          "metadata": {},
          "execution_count": 61
        }
      ]
    },
    {
      "cell_type": "markdown",
      "source": [
        "Plotting the results"
      ],
      "metadata": {
        "id": "mb73DawfA_tK"
      }
    },
    {
      "cell_type": "code",
      "source": [
        "ggroups_rsquared=ggroups_rsquared.sort_values(by='adj_rsquared')[:5]\n",
        "sns.barplot(x=\"Column_dropped\", y=\"adj_rsquared\", data=ggroups_rsquared)"
      ],
      "metadata": {
        "colab": {
          "base_uri": "https://localhost:8080/",
          "height": 299
        },
        "id": "kYY01A4b1R3N",
        "outputId": "83c9f562-2439-45b4-cadc-b3753c8e1e4c"
      },
      "execution_count": 62,
      "outputs": [
        {
          "output_type": "execute_result",
          "data": {
            "text/plain": [
              "<matplotlib.axes._subplots.AxesSubplot at 0x7f3311705510>"
            ]
          },
          "metadata": {},
          "execution_count": 62
        },
        {
          "output_type": "display_data",
          "data": {
            "text/plain": [
              "<Figure size 432x288 with 1 Axes>"
            ],
            "image/png": "[encoded data removed]"
          },
          "metadata": {
            "needs_background": "light"
          }
        }
      ]
    },
    {
      "cell_type": "markdown",
      "source": [
        "Above, I am looping through all of the industry variables and dropping them one by one to see if the adjusted r-squared changes, for all of them except the energy sector the adjusted r-squared actually increases slightly when they are dropped. This means that most of the variance in the regression is in fact explained by the energy sector. Although most of the explanatory power comes from the energy sector it is not enough to rely on entirely, each of the other industries  slightly contriubute to the regression to give it a high rsquared.Dropping any of them wouldn't impact the regression negatively, but dropping all would. We would have a very low Adjusted R-squared if we dropped all of the industries and relied on the energy sector, even if we kept a few others we would still get a low Adjusted R-squared. We need the majority of the other industries as well to get the highest Adjusted R-squared possible. Having all the variables gives us good explanatory power, together combined they are able to explain about 33% of the variance in the stock returns."
      ],
      "metadata": {
        "id": "74nMQ-wQzLv8"
      }
    },
    {
      "cell_type": "markdown",
      "source": [
        "#### Combined regression"
      ],
      "metadata": {
        "id": "dg0oLAHAe-dr"
      }
    },
    {
      "cell_type": "markdown",
      "source": [
        "Merging the industry variables data with the financial ratios"
      ],
      "metadata": {
        "id": "EN3loq2TiGlF"
      }
    },
    {
      "cell_type": "code",
      "source": [
        "merged_data=pd.merge(industry_data, financial_data, on='Ticker',suffixes=('', '_remove')) #Adding a suffix called ‘remove’ for newly joined columns that have the same name in both data frames"
      ],
      "metadata": {
        "id": "TOjm0Rm1fxY1"
      },
      "execution_count": 63,
      "outputs": []
    },
    {
      "cell_type": "markdown",
      "source": [
        "Combining the data with the risk exposures"
      ],
      "metadata": {
        "id": "QbxnGEiRiOeE"
      }
    },
    {
      "cell_type": "code",
      "source": [
        "merged_data=pd.merge(merged_data, ff_exposures, on='Ticker',suffixes=('', '_remove')) #Adding a suffix called ‘remove’ for newly joined columns that have the same name in both data frames"
      ],
      "metadata": {
        "id": "o87ahj6EgCRl"
      },
      "execution_count": 64,
      "outputs": []
    },
    {
      "cell_type": "code",
      "source": [
        "merged_data.head()"
      ],
      "metadata": {
        "colab": {
          "base_uri": "https://localhost:8080/",
          "height": 403
        },
        "id": "RapCsCexgJye",
        "outputId": "b02e1224-2848-4965-9ae4-54d972cc5056"
      },
      "execution_count": 65,
      "outputs": [
        {
          "output_type": "execute_result",
          "data": {
            "text/plain": [
              "  Ticker  ggroup_1010  ggroup_1510  ggroup_2010  ggroup_2020  ggroup_2030  \\\n",
              "0    AIR            0            0            1            0            0   \n",
              "1    AAL            0            0            0            0            1   \n",
              "2    PNW            0            0            0            0            0   \n",
              "3    ABT            0            0            0            0            0   \n",
              "4    AMD            0            0            0            0            0   \n",
              "\n",
              "   ggroup_2510  ggroup_2520  ggroup_2530  ggroup_2550  ...  Book/Price  \\\n",
              "0            0            0            0            0  ...    0.760488   \n",
              "1            0            0            0            0  ...    0.042666   \n",
              "2            0            0            0            0  ...    0.740913   \n",
              "3            0            0            0            0  ...    0.144202   \n",
              "4            0            0            0            0  ...    0.043164   \n",
              "\n",
              "        E/P    EBIT/P                 Name _remove  RetYTD_remove     mktrf  \\\n",
              "0  0.027941  0.051121                    AAR Corp          0.2944  1.471411   \n",
              "1 -0.090778 -0.060020        American Airlines Gp          0.0579  1.315550   \n",
              "2  0.077616  0.101023  Pinnacle West Capital Corp          0.0985  0.261449   \n",
              "3  0.028480  0.036113         Abbott Laboratories         -0.1638  0.764430   \n",
              "4  0.018205  0.021176           Adv Micro Devices         -0.3533  2.052229   \n",
              "\n",
              "        smb       hml                 Name _remove  RetYTD_remove  \n",
              "0  0.796516  1.025327                    AAR Corp          0.2944  \n",
              "1  0.612825  1.248123        American Airlines Gp          0.0579  \n",
              "2 -0.536793  0.395666  Pinnacle West Capital Corp          0.0985  \n",
              "3 -0.304822 -0.266568         Abbott Laboratories         -0.1638  \n",
              "4 -0.443229 -1.372128           Adv Micro Devices         -0.3533  \n",
              "\n",
              "[5 rows x 44 columns]"
            ],
            "text/html": [
              "\n",
              "  <div id=\"df-264225c4-7495-4d1d-81b9-912f60e22a15\">\n",
              "    <div class=\"colab-df-container\">\n",
              "      <div>\n",
              "<style scoped>\n",
              "    .dataframe tbody tr th:only-of-type {\n",
              "        vertical-align: middle;\n",
              "    }\n",
              "\n",
              "    .dataframe tbody tr th {\n",
              "        vertical-align: top;\n",
              "    }\n",
              "\n",
              "    .dataframe thead th {\n",
              "        text-align: right;\n",
              "    }\n",
              "</style>\n",
              "<table border=\"1\" class=\"dataframe\">\n",
              "  <thead>\n",
              "    <tr style=\"text-align: right;\">\n",
              "      <th></th>\n",
              "      <th>Ticker</th>\n",
              "      <th>ggroup_1010</th>\n",
              "      <th>ggroup_1510</th>\n",
              "      <th>ggroup_2010</th>\n",
              "      <th>ggroup_2020</th>\n",
              "      <th>ggroup_2030</th>\n",
              "      <th>ggroup_2510</th>\n",
              "      <th>ggroup_2520</th>\n",
              "      <th>ggroup_2530</th>\n",
              "      <th>ggroup_2550</th>\n",
              "      <th>...</th>\n",
              "      <th>Book/Price</th>\n",
              "      <th>E/P</th>\n",
              "      <th>EBIT/P</th>\n",
              "      <th>Name _remove</th>\n",
              "      <th>RetYTD_remove</th>\n",
              "      <th>mktrf</th>\n",
              "      <th>smb</th>\n",
              "      <th>hml</th>\n",
              "      <th>Name _remove</th>\n",
              "      <th>RetYTD_remove</th>\n",
              "    </tr>\n",
              "  </thead>\n",
              "  <tbody>\n",
              "    <tr>\n",
              "      <th>0</th>\n",
              "      <td>AIR</td>\n",
              "      <td>0</td>\n",
              "      <td>0</td>\n",
              "      <td>1</td>\n",
              "      <td>0</td>\n",
              "      <td>0</td>\n",
              "      <td>0</td>\n",
              "      <td>0</td>\n",
              "      <td>0</td>\n",
              "      <td>0</td>\n",
              "      <td>...</td>\n",
              "      <td>0.760488</td>\n",
              "      <td>0.027941</td>\n",
              "      <td>0.051121</td>\n",
              "      <td>AAR Corp</td>\n",
              "      <td>0.2944</td>\n",
              "      <td>1.471411</td>\n",
              "      <td>0.796516</td>\n",
              "      <td>1.025327</td>\n",
              "      <td>AAR Corp</td>\n",
              "      <td>0.2944</td>\n",
              "    </tr>\n",
              "    <tr>\n",
              "      <th>1</th>\n",
              "      <td>AAL</td>\n",
              "      <td>0</td>\n",
              "      <td>0</td>\n",
              "      <td>0</td>\n",
              "      <td>0</td>\n",
              "      <td>1</td>\n",
              "      <td>0</td>\n",
              "      <td>0</td>\n",
              "      <td>0</td>\n",
              "      <td>0</td>\n",
              "      <td>...</td>\n",
              "      <td>0.042666</td>\n",
              "      <td>-0.090778</td>\n",
              "      <td>-0.060020</td>\n",
              "      <td>American Airlines Gp</td>\n",
              "      <td>0.0579</td>\n",
              "      <td>1.315550</td>\n",
              "      <td>0.612825</td>\n",
              "      <td>1.248123</td>\n",
              "      <td>American Airlines Gp</td>\n",
              "      <td>0.0579</td>\n",
              "    </tr>\n",
              "    <tr>\n",
              "      <th>2</th>\n",
              "      <td>PNW</td>\n",
              "      <td>0</td>\n",
              "      <td>0</td>\n",
              "      <td>0</td>\n",
              "      <td>0</td>\n",
              "      <td>0</td>\n",
              "      <td>0</td>\n",
              "      <td>0</td>\n",
              "      <td>0</td>\n",
              "      <td>0</td>\n",
              "      <td>...</td>\n",
              "      <td>0.740913</td>\n",
              "      <td>0.077616</td>\n",
              "      <td>0.101023</td>\n",
              "      <td>Pinnacle West Capital Corp</td>\n",
              "      <td>0.0985</td>\n",
              "      <td>0.261449</td>\n",
              "      <td>-0.536793</td>\n",
              "      <td>0.395666</td>\n",
              "      <td>Pinnacle West Capital Corp</td>\n",
              "      <td>0.0985</td>\n",
              "    </tr>\n",
              "    <tr>\n",
              "      <th>3</th>\n",
              "      <td>ABT</td>\n",
              "      <td>0</td>\n",
              "      <td>0</td>\n",
              "      <td>0</td>\n",
              "      <td>0</td>\n",
              "      <td>0</td>\n",
              "      <td>0</td>\n",
              "      <td>0</td>\n",
              "      <td>0</td>\n",
              "      <td>0</td>\n",
              "      <td>...</td>\n",
              "      <td>0.144202</td>\n",
              "      <td>0.028480</td>\n",
              "      <td>0.036113</td>\n",
              "      <td>Abbott Laboratories</td>\n",
              "      <td>-0.1638</td>\n",
              "      <td>0.764430</td>\n",
              "      <td>-0.304822</td>\n",
              "      <td>-0.266568</td>\n",
              "      <td>Abbott Laboratories</td>\n",
              "      <td>-0.1638</td>\n",
              "    </tr>\n",
              "    <tr>\n",
              "      <th>4</th>\n",
              "      <td>AMD</td>\n",
              "      <td>0</td>\n",
              "      <td>0</td>\n",
              "      <td>0</td>\n",
              "      <td>0</td>\n",
              "      <td>0</td>\n",
              "      <td>0</td>\n",
              "      <td>0</td>\n",
              "      <td>0</td>\n",
              "      <td>0</td>\n",
              "      <td>...</td>\n",
              "      <td>0.043164</td>\n",
              "      <td>0.018205</td>\n",
              "      <td>0.021176</td>\n",
              "      <td>Adv Micro Devices</td>\n",
              "      <td>-0.3533</td>\n",
              "      <td>2.052229</td>\n",
              "      <td>-0.443229</td>\n",
              "      <td>-1.372128</td>\n",
              "      <td>Adv Micro Devices</td>\n",
              "      <td>-0.3533</td>\n",
              "    </tr>\n",
              "  </tbody>\n",
              "</table>\n",
              "<p>5 rows × 44 columns</p>\n",
              "</div>\n",
              "      <button class=\"colab-df-convert\" onclick=\"convertToInteractive('df-264225c4-7495-4d1d-81b9-912f60e22a15')\"\n",
              "              title=\"Convert this dataframe to an interactive table.\"\n",
              "              style=\"display:none;\">\n",
              "        \n",
              "  <svg xmlns=\"http://www.w3.org/2000/svg\" height=\"24px\"viewBox=\"0 0 24 24\"\n",
              "       width=\"24px\">\n",
              "    <path d=\"M0 0h24v24H0V0z\" fill=\"none\"/>\n",
              "    <path d=\"M18.56 5.44l.94 2.06.94-2.06 2.06-.94-2.06-.94-.94-2.06-.94 2.06-2.06.94zm-11 1L8.5 8.5l.94-2.06 2.06-.94-2.06-.94L8.5 2.5l-.94 2.06-2.06.94zm10 10l.94 2.06.94-2.06 2.06-.94-2.06-.94-.94-2.06-.94 2.06-2.06.94z\"/><path d=\"M17.41 7.96l-1.37-1.37c-.4-.4-.92-.59-1.43-.59-.52 0-1.04.2-1.43.59L10.3 9.45l-7.72 7.72c-.78.78-.78 2.05 0 2.83L4 21.41c.39.39.9.59 1.41.59.51 0 1.02-.2 1.41-.59l7.78-7.78 2.81-2.81c.8-.78.8-2.07 0-2.86zM5.41 20L4 18.59l7.72-7.72 1.47 1.35L5.41 20z\"/>\n",
              "  </svg>\n",
              "      </button>\n",
              "      \n",
              "  <style>\n",
              "    .colab-df-container {\n",
              "      display:flex;\n",
              "      flex-wrap:wrap;\n",
              "      gap: 12px;\n",
              "    }\n",
              "\n",
              "    .colab-df-convert {\n",
              "      background-color: #E8F0FE;\n",
              "      border: none;\n",
              "      border-radius: 50%;\n",
              "      cursor: pointer;\n",
              "      display: none;\n",
              "      fill: #1967D2;\n",
              "      height: 32px;\n",
              "      padding: 0 0 0 0;\n",
              "      width: 32px;\n",
              "    }\n",
              "\n",
              "    .colab-df-convert:hover {\n",
              "      background-color: #E2EBFA;\n",
              "      box-shadow: 0px 1px 2px rgba(60, 64, 67, 0.3), 0px 1px 3px 1px rgba(60, 64, 67, 0.15);\n",
              "      fill: #174EA6;\n",
              "    }\n",
              "\n",
              "    [theme=dark] .colab-df-convert {\n",
              "      background-color: #3B4455;\n",
              "      fill: #D2E3FC;\n",
              "    }\n",
              "\n",
              "    [theme=dark] .colab-df-convert:hover {\n",
              "      background-color: #434B5C;\n",
              "      box-shadow: 0px 1px 3px 1px rgba(0, 0, 0, 0.15);\n",
              "      filter: drop-shadow(0px 1px 2px rgba(0, 0, 0, 0.3));\n",
              "      fill: #FFFFFF;\n",
              "    }\n",
              "  </style>\n",
              "\n",
              "      <script>\n",
              "        const buttonEl =\n",
              "          document.querySelector('#df-264225c4-7495-4d1d-81b9-912f60e22a15 button.colab-df-convert');\n",
              "        buttonEl.style.display =\n",
              "          google.colab.kernel.accessAllowed ? 'block' : 'none';\n",
              "\n",
              "        async function convertToInteractive(key) {\n",
              "          const element = document.querySelector('#df-264225c4-7495-4d1d-81b9-912f60e22a15');\n",
              "          const dataTable =\n",
              "            await google.colab.kernel.invokeFunction('convertToInteractive',\n",
              "                                                     [key], {});\n",
              "          if (!dataTable) return;\n",
              "\n",
              "          const docLinkHtml = 'Like what you see? Visit the ' +\n",
              "            '<a target=\"_blank\" href=https://colab.research.google.com/notebooks/data_table.ipynb>data table notebook</a>'\n",
              "            + ' to learn more about interactive tables.';\n",
              "          element.innerHTML = '';\n",
              "          dataTable['output_type'] = 'display_data';\n",
              "          await google.colab.output.renderOutput(dataTable, element);\n",
              "          const docLink = document.createElement('div');\n",
              "          docLink.innerHTML = docLinkHtml;\n",
              "          element.appendChild(docLink);\n",
              "        }\n",
              "      </script>\n",
              "    </div>\n",
              "  </div>\n",
              "  "
            ]
          },
          "metadata": {},
          "execution_count": 65
        }
      ]
    },
    {
      "cell_type": "markdown",
      "source": [
        "Removing duplicate columns"
      ],
      "metadata": {
        "id": "1_69xznRi3dR"
      }
    },
    {
      "cell_type": "code",
      "source": [
        "merged_data.drop([i for i in merged_data.columns if 'remove' in i],\n",
        "               axis=1, inplace=True) #Looping through columns and deleting the ones that have 'remove' in them"
      ],
      "metadata": {
        "id": "addLkowLgy-B"
      },
      "execution_count": 66,
      "outputs": []
    },
    {
      "cell_type": "markdown",
      "source": [
        "Viewing the first few rows of the data"
      ],
      "metadata": {
        "id": "ayB_q0YKjGES"
      }
    },
    {
      "cell_type": "code",
      "source": [
        "merged_data.head()"
      ],
      "metadata": {
        "colab": {
          "base_uri": "https://localhost:8080/",
          "height": 334
        },
        "id": "xKAviZtPg3P_",
        "outputId": "566b0378-8987-48cd-90b8-00c182bfbd53"
      },
      "execution_count": 67,
      "outputs": [
        {
          "output_type": "execute_result",
          "data": {
            "text/plain": [
              "  Ticker  ggroup_1010  ggroup_1510  ggroup_2010  ggroup_2020  ggroup_2030  \\\n",
              "0    AIR            0            0            1            0            0   \n",
              "1    AAL            0            0            0            0            1   \n",
              "2    PNW            0            0            0            0            0   \n",
              "3    ABT            0            0            0            0            0   \n",
              "4    AMD            0            0            0            0            0   \n",
              "\n",
              "   ggroup_2510  ggroup_2520  ggroup_2530  ggroup_2550  ...  Debt ratio  \\\n",
              "0            0            0            0            0  ...    0.367149   \n",
              "1            0            0            0            0  ...    0.924753   \n",
              "2            0            0            0            0  ...    0.726337   \n",
              "3            0            0            0            0  ...    0.520932   \n",
              "4            0            0            0            0  ...    0.396328   \n",
              "\n",
              "   Retention Ratio  Gross Profit Margin    Sale/P  Book/Price       E/P  \\\n",
              "0        14.693832             0.173671  1.288865    0.760488  0.027941   \n",
              "1         7.315605             0.115012  2.015658    0.042666 -0.090778   \n",
              "2         5.187901             0.382820  0.477178    0.740913  0.077616   \n",
              "3         3.274501             0.613999  0.173496    0.144202  0.028480   \n",
              "4        -0.459836             0.500487  0.094618    0.043164  0.018205   \n",
              "\n",
              "     EBIT/P     mktrf       smb       hml  \n",
              "0  0.051121  1.471411  0.796516  1.025327  \n",
              "1 -0.060020  1.315550  0.612825  1.248123  \n",
              "2  0.101023  0.261449 -0.536793  0.395666  \n",
              "3  0.036113  0.764430 -0.304822 -0.266568  \n",
              "4  0.021176  2.052229 -0.443229 -1.372128  \n",
              "\n",
              "[5 rows x 40 columns]"
            ],
            "text/html": [
              "\n",
              "  <div id=\"df-9263a92e-b93a-4b92-8a4a-792d139613b5\">\n",
              "    <div class=\"colab-df-container\">\n",
              "      <div>\n",
              "<style scoped>\n",
              "    .dataframe tbody tr th:only-of-type {\n",
              "        vertical-align: middle;\n",
              "    }\n",
              "\n",
              "    .dataframe tbody tr th {\n",
              "        vertical-align: top;\n",
              "    }\n",
              "\n",
              "    .dataframe thead th {\n",
              "        text-align: right;\n",
              "    }\n",
              "</style>\n",
              "<table border=\"1\" class=\"dataframe\">\n",
              "  <thead>\n",
              "    <tr style=\"text-align: right;\">\n",
              "      <th></th>\n",
              "      <th>Ticker</th>\n",
              "      <th>ggroup_1010</th>\n",
              "      <th>ggroup_1510</th>\n",
              "      <th>ggroup_2010</th>\n",
              "      <th>ggroup_2020</th>\n",
              "      <th>ggroup_2030</th>\n",
              "      <th>ggroup_2510</th>\n",
              "      <th>ggroup_2520</th>\n",
              "      <th>ggroup_2530</th>\n",
              "      <th>ggroup_2550</th>\n",
              "      <th>...</th>\n",
              "      <th>Debt ratio</th>\n",
              "      <th>Retention Ratio</th>\n",
              "      <th>Gross Profit Margin</th>\n",
              "      <th>Sale/P</th>\n",
              "      <th>Book/Price</th>\n",
              "      <th>E/P</th>\n",
              "      <th>EBIT/P</th>\n",
              "      <th>mktrf</th>\n",
              "      <th>smb</th>\n",
              "      <th>hml</th>\n",
              "    </tr>\n",
              "  </thead>\n",
              "  <tbody>\n",
              "    <tr>\n",
              "      <th>0</th>\n",
              "      <td>AIR</td>\n",
              "      <td>0</td>\n",
              "      <td>0</td>\n",
              "      <td>1</td>\n",
              "      <td>0</td>\n",
              "      <td>0</td>\n",
              "      <td>0</td>\n",
              "      <td>0</td>\n",
              "      <td>0</td>\n",
              "      <td>0</td>\n",
              "      <td>...</td>\n",
              "      <td>0.367149</td>\n",
              "      <td>14.693832</td>\n",
              "      <td>0.173671</td>\n",
              "      <td>1.288865</td>\n",
              "      <td>0.760488</td>\n",
              "      <td>0.027941</td>\n",
              "      <td>0.051121</td>\n",
              "      <td>1.471411</td>\n",
              "      <td>0.796516</td>\n",
              "      <td>1.025327</td>\n",
              "    </tr>\n",
              "    <tr>\n",
              "      <th>1</th>\n",
              "      <td>AAL</td>\n",
              "      <td>0</td>\n",
              "      <td>0</td>\n",
              "      <td>0</td>\n",
              "      <td>0</td>\n",
              "      <td>1</td>\n",
              "      <td>0</td>\n",
              "      <td>0</td>\n",
              "      <td>0</td>\n",
              "      <td>0</td>\n",
              "      <td>...</td>\n",
              "      <td>0.924753</td>\n",
              "      <td>7.315605</td>\n",
              "      <td>0.115012</td>\n",
              "      <td>2.015658</td>\n",
              "      <td>0.042666</td>\n",
              "      <td>-0.090778</td>\n",
              "      <td>-0.060020</td>\n",
              "      <td>1.315550</td>\n",
              "      <td>0.612825</td>\n",
              "      <td>1.248123</td>\n",
              "    </tr>\n",
              "    <tr>\n",
              "      <th>2</th>\n",
              "      <td>PNW</td>\n",
              "      <td>0</td>\n",
              "      <td>0</td>\n",
              "      <td>0</td>\n",
              "      <td>0</td>\n",
              "      <td>0</td>\n",
              "      <td>0</td>\n",
              "      <td>0</td>\n",
              "      <td>0</td>\n",
              "      <td>0</td>\n",
              "      <td>...</td>\n",
              "      <td>0.726337</td>\n",
              "      <td>5.187901</td>\n",
              "      <td>0.382820</td>\n",
              "      <td>0.477178</td>\n",
              "      <td>0.740913</td>\n",
              "      <td>0.077616</td>\n",
              "      <td>0.101023</td>\n",
              "      <td>0.261449</td>\n",
              "      <td>-0.536793</td>\n",
              "      <td>0.395666</td>\n",
              "    </tr>\n",
              "    <tr>\n",
              "      <th>3</th>\n",
              "      <td>ABT</td>\n",
              "      <td>0</td>\n",
              "      <td>0</td>\n",
              "      <td>0</td>\n",
              "      <td>0</td>\n",
              "      <td>0</td>\n",
              "      <td>0</td>\n",
              "      <td>0</td>\n",
              "      <td>0</td>\n",
              "      <td>0</td>\n",
              "      <td>...</td>\n",
              "      <td>0.520932</td>\n",
              "      <td>3.274501</td>\n",
              "      <td>0.613999</td>\n",
              "      <td>0.173496</td>\n",
              "      <td>0.144202</td>\n",
              "      <td>0.028480</td>\n",
              "      <td>0.036113</td>\n",
              "      <td>0.764430</td>\n",
              "      <td>-0.304822</td>\n",
              "      <td>-0.266568</td>\n",
              "    </tr>\n",
              "    <tr>\n",
              "      <th>4</th>\n",
              "      <td>AMD</td>\n",
              "      <td>0</td>\n",
              "      <td>0</td>\n",
              "      <td>0</td>\n",
              "      <td>0</td>\n",
              "      <td>0</td>\n",
              "      <td>0</td>\n",
              "      <td>0</td>\n",
              "      <td>0</td>\n",
              "      <td>0</td>\n",
              "      <td>...</td>\n",
              "      <td>0.396328</td>\n",
              "      <td>-0.459836</td>\n",
              "      <td>0.500487</td>\n",
              "      <td>0.094618</td>\n",
              "      <td>0.043164</td>\n",
              "      <td>0.018205</td>\n",
              "      <td>0.021176</td>\n",
              "      <td>2.052229</td>\n",
              "      <td>-0.443229</td>\n",
              "      <td>-1.372128</td>\n",
              "    </tr>\n",
              "  </tbody>\n",
              "</table>\n",
              "<p>5 rows × 40 columns</p>\n",
              "</div>\n",
              "      <button class=\"colab-df-convert\" onclick=\"convertToInteractive('df-9263a92e-b93a-4b92-8a4a-792d139613b5')\"\n",
              "              title=\"Convert this dataframe to an interactive table.\"\n",
              "              style=\"display:none;\">\n",
              "        \n",
              "  <svg xmlns=\"http://www.w3.org/2000/svg\" height=\"24px\"viewBox=\"0 0 24 24\"\n",
              "       width=\"24px\">\n",
              "    <path d=\"M0 0h24v24H0V0z\" fill=\"none\"/>\n",
              "    <path d=\"M18.56 5.44l.94 2.06.94-2.06 2.06-.94-2.06-.94-.94-2.06-.94 2.06-2.06.94zm-11 1L8.5 8.5l.94-2.06 2.06-.94-2.06-.94L8.5 2.5l-.94 2.06-2.06.94zm10 10l.94 2.06.94-2.06 2.06-.94-2.06-.94-.94-2.06-.94 2.06-2.06.94z\"/><path d=\"M17.41 7.96l-1.37-1.37c-.4-.4-.92-.59-1.43-.59-.52 0-1.04.2-1.43.59L10.3 9.45l-7.72 7.72c-.78.78-.78 2.05 0 2.83L4 21.41c.39.39.9.59 1.41.59.51 0 1.02-.2 1.41-.59l7.78-7.78 2.81-2.81c.8-.78.8-2.07 0-2.86zM5.41 20L4 18.59l7.72-7.72 1.47 1.35L5.41 20z\"/>\n",
              "  </svg>\n",
              "      </button>\n",
              "      \n",
              "  <style>\n",
              "    .colab-df-container {\n",
              "      display:flex;\n",
              "      flex-wrap:wrap;\n",
              "      gap: 12px;\n",
              "    }\n",
              "\n",
              "    .colab-df-convert {\n",
              "      background-color: #E8F0FE;\n",
              "      border: none;\n",
              "      border-radius: 50%;\n",
              "      cursor: pointer;\n",
              "      display: none;\n",
              "      fill: #1967D2;\n",
              "      height: 32px;\n",
              "      padding: 0 0 0 0;\n",
              "      width: 32px;\n",
              "    }\n",
              "\n",
              "    .colab-df-convert:hover {\n",
              "      background-color: #E2EBFA;\n",
              "      box-shadow: 0px 1px 2px rgba(60, 64, 67, 0.3), 0px 1px 3px 1px rgba(60, 64, 67, 0.15);\n",
              "      fill: #174EA6;\n",
              "    }\n",
              "\n",
              "    [theme=dark] .colab-df-convert {\n",
              "      background-color: #3B4455;\n",
              "      fill: #D2E3FC;\n",
              "    }\n",
              "\n",
              "    [theme=dark] .colab-df-convert:hover {\n",
              "      background-color: #434B5C;\n",
              "      box-shadow: 0px 1px 3px 1px rgba(0, 0, 0, 0.15);\n",
              "      filter: drop-shadow(0px 1px 2px rgba(0, 0, 0, 0.3));\n",
              "      fill: #FFFFFF;\n",
              "    }\n",
              "  </style>\n",
              "\n",
              "      <script>\n",
              "        const buttonEl =\n",
              "          document.querySelector('#df-9263a92e-b93a-4b92-8a4a-792d139613b5 button.colab-df-convert');\n",
              "        buttonEl.style.display =\n",
              "          google.colab.kernel.accessAllowed ? 'block' : 'none';\n",
              "\n",
              "        async function convertToInteractive(key) {\n",
              "          const element = document.querySelector('#df-9263a92e-b93a-4b92-8a4a-792d139613b5');\n",
              "          const dataTable =\n",
              "            await google.colab.kernel.invokeFunction('convertToInteractive',\n",
              "                                                     [key], {});\n",
              "          if (!dataTable) return;\n",
              "\n",
              "          const docLinkHtml = 'Like what you see? Visit the ' +\n",
              "            '<a target=\"_blank\" href=https://colab.research.google.com/notebooks/data_table.ipynb>data table notebook</a>'\n",
              "            + ' to learn more about interactive tables.';\n",
              "          element.innerHTML = '';\n",
              "          dataTable['output_type'] = 'display_data';\n",
              "          await google.colab.output.renderOutput(dataTable, element);\n",
              "          const docLink = document.createElement('div');\n",
              "          docLink.innerHTML = docLinkHtml;\n",
              "          element.appendChild(docLink);\n",
              "        }\n",
              "      </script>\n",
              "    </div>\n",
              "  </div>\n",
              "  "
            ]
          },
          "metadata": {},
          "execution_count": 67
        }
      ]
    },
    {
      "cell_type": "markdown",
      "source": [
        "Performing the combined regressions"
      ],
      "metadata": {
        "id": "-7BVMTNmj3nS"
      }
    },
    {
      "cell_type": "code",
      "source": [
        "y3 =merged_data[\"RetYTD\"] #Defining the X and y variables\n",
        "X3 = merged_data.drop(columns=['Ticker','Name ','RetYTD'])\n",
        "X3 = sm.add_constant(X3) # adding a constant\n",
        "model3 = sm.OLS(y3, X3).fit()#Running the regression\n",
        "model3.summary()"
      ],
      "metadata": {
        "colab": {
          "base_uri": "https://localhost:8080/",
          "height": 1000
        },
        "id": "HXmcX77bhGOy",
        "outputId": "2439dae8-72ec-403c-88bf-1067f30f6a91"
      },
      "execution_count": 68,
      "outputs": [
        {
          "output_type": "stream",
          "name": "stderr",
          "text": [
            "/usr/local/lib/python3.7/dist-packages/statsmodels/tsa/tsatools.py:117: FutureWarning: In a future version of pandas all arguments of concat except for the argument 'objs' will be keyword-only\n",
            "  x = pd.concat(x[::order], 1)\n"
          ]
        },
        {
          "output_type": "execute_result",
          "data": {
            "text/plain": [
              "<class 'statsmodels.iolib.summary.Summary'>\n",
              "\"\"\"\n",
              "                            OLS Regression Results                            \n",
              "==============================================================================\n",
              "Dep. Variable:                 RetYTD   R-squared:                       0.387\n",
              "Model:                            OLS   Adj. R-squared:                  0.375\n",
              "Method:                 Least Squares   F-statistic:                     32.37\n",
              "Date:                Thu, 28 Apr 2022   Prob (F-statistic):          5.21e-168\n",
              "Time:                        02:32:08   Log-Likelihood:                 447.14\n",
              "No. Observations:                1886   AIC:                            -820.3\n",
              "Df Residuals:                    1849   BIC:                            -615.2\n",
              "Df Model:                          36                                         \n",
              "Covariance Type:            nonrobust                                         \n",
              "========================================================================================\n",
              "                           coef    std err          t      P>|t|      [0.025      0.975]\n",
              "----------------------------------------------------------------------------------------\n",
              "const                   -0.1691      0.032     -5.256      0.000      -0.232      -0.106\n",
              "ggroup_1010              0.5318      0.025     21.551      0.000       0.483       0.580\n",
              "ggroup_1510              0.0970      0.020      4.819      0.000       0.058       0.137\n",
              "ggroup_2010             -0.0268      0.015     -1.730      0.084      -0.057       0.004\n",
              "ggroup_2020              0.0179      0.024      0.735      0.462      -0.030       0.065\n",
              "ggroup_2030             -0.0386      0.031     -1.255      0.210      -0.099       0.022\n",
              "ggroup_2510             -0.1623      0.038     -4.238      0.000      -0.237      -0.087\n",
              "ggroup_2520             -0.1558      0.025     -6.225      0.000      -0.205      -0.107\n",
              "ggroup_2530              0.0074      0.025      0.297      0.766      -0.041       0.056\n",
              "ggroup_2550             -0.0955      0.023     -4.096      0.000      -0.141      -0.050\n",
              "ggroup_3010              0.1168      0.047      2.462      0.014       0.024       0.210\n",
              "ggroup_3020              0.0893      0.029      3.073      0.002       0.032       0.146\n",
              "ggroup_3030             -0.0949      0.046     -2.056      0.040      -0.185      -0.004\n",
              "ggroup_3510              0.0374      0.019      2.004      0.045       0.001       0.074\n",
              "ggroup_3520             -0.0170      0.019     -0.908      0.364      -0.054       0.020\n",
              "ggroup_4010             -0.1762      0.027     -6.462      0.000      -0.230      -0.123\n",
              "ggroup_4020             -0.1208      0.023     -5.261      0.000      -0.166      -0.076\n",
              "ggroup_4030             -0.0204      0.027     -0.741      0.459      -0.074       0.034\n",
              "ggroup_4510              0.0016      0.020      0.083      0.934      -0.037       0.040\n",
              "ggroup_4520             -0.0924      0.022     -4.260      0.000      -0.135      -0.050\n",
              "ggroup_4530             -0.1421      0.027     -5.346      0.000      -0.194      -0.090\n",
              "ggroup_5010              0.0159      0.052      0.305      0.760      -0.086       0.118\n",
              "ggroup_5020             -0.0061      0.029     -0.208      0.835      -0.064       0.051\n",
              "ggroup_5510              0.0567      0.027      2.089      0.037       0.003       0.110\n",
              "ggroup_6010              0.0078      0.020      0.385      0.700      -0.032       0.048\n",
              "Total Asset Turnover    -0.0297      0.022     -1.338      0.181      -0.073       0.014\n",
              "ROA                      0.1169      0.167      0.698      0.485      -0.211       0.445\n",
              "NET PROFIT MARGIN        0.0202      0.068      0.298      0.766      -0.113       0.153\n",
              "Debt ratio               0.0685      0.031      2.195      0.028       0.007       0.130\n",
              "Retention Ratio          0.0008      0.001      0.960      0.337      -0.001       0.003\n",
              "Gross Profit Margin      0.0724      0.028      2.604      0.009       0.018       0.127\n",
              "Sale/P                   0.0341      0.017      2.017      0.044       0.001       0.067\n",
              "Book/Price               0.1065      0.027      3.976      0.000       0.054       0.159\n",
              "E/P                     -0.1260      0.179     -0.704      0.482      -0.477       0.225\n",
              "EBIT/P                   0.0926      0.135      0.688      0.492      -0.171       0.357\n",
              "mktrf                   -0.0192      0.008     -2.322      0.020      -0.035      -0.003\n",
              "smb                     -0.0193      0.004     -4.507      0.000      -0.028      -0.011\n",
              "hml                      0.0626      0.009      7.072      0.000       0.045       0.080\n",
              "==============================================================================\n",
              "Omnibus:                      447.264   Durbin-Watson:                   1.979\n",
              "Prob(Omnibus):                  0.000   Jarque-Bera (JB):             2698.279\n",
              "Skew:                           0.972   Prob(JB):                         0.00\n",
              "Kurtosis:                       8.528   Cond. No.                     2.10e+16\n",
              "==============================================================================\n",
              "\n",
              "Warnings:\n",
              "[1] Standard Errors assume that the covariance matrix of the errors is correctly specified.\n",
              "[2] The smallest eigenvalue is 1.96e-28. This might indicate that there are\n",
              "strong multicollinearity problems or that the design matrix is singular.\n",
              "\"\"\""
            ],
            "text/html": [
              "<table class=\"simpletable\">\n",
              "<caption>OLS Regression Results</caption>\n",
              "<tr>\n",
              "  <th>Dep. Variable:</th>         <td>RetYTD</td>      <th>  R-squared:         </th> <td>   0.387</td> \n",
              "</tr>\n",
              "<tr>\n",
              "  <th>Model:</th>                   <td>OLS</td>       <th>  Adj. R-squared:    </th> <td>   0.375</td> \n",
              "</tr>\n",
              "<tr>\n",
              "  <th>Method:</th>             <td>Least Squares</td>  <th>  F-statistic:       </th> <td>   32.37</td> \n",
              "</tr>\n",
              "<tr>\n",
              "  <th>Date:</th>             <td>Thu, 28 Apr 2022</td> <th>  Prob (F-statistic):</th> <td>5.21e-168</td>\n",
              "</tr>\n",
              "<tr>\n",
              "  <th>Time:</th>                 <td>02:32:08</td>     <th>  Log-Likelihood:    </th> <td>  447.14</td> \n",
              "</tr>\n",
              "<tr>\n",
              "  <th>No. Observations:</th>      <td>  1886</td>      <th>  AIC:               </th> <td>  -820.3</td> \n",
              "</tr>\n",
              "<tr>\n",
              "  <th>Df Residuals:</th>          <td>  1849</td>      <th>  BIC:               </th> <td>  -615.2</td> \n",
              "</tr>\n",
              "<tr>\n",
              "  <th>Df Model:</th>              <td>    36</td>      <th>                     </th>     <td> </td>    \n",
              "</tr>\n",
              "<tr>\n",
              "  <th>Covariance Type:</th>      <td>nonrobust</td>    <th>                     </th>     <td> </td>    \n",
              "</tr>\n",
              "</table>\n",
              "<table class=\"simpletable\">\n",
              "<tr>\n",
              "            <td></td>              <th>coef</th>     <th>std err</th>      <th>t</th>      <th>P>|t|</th>  <th>[0.025</th>    <th>0.975]</th>  \n",
              "</tr>\n",
              "<tr>\n",
              "  <th>const</th>                <td>   -0.1691</td> <td>    0.032</td> <td>   -5.256</td> <td> 0.000</td> <td>   -0.232</td> <td>   -0.106</td>\n",
              "</tr>\n",
              "<tr>\n",
              "  <th>ggroup_1010</th>          <td>    0.5318</td> <td>    0.025</td> <td>   21.551</td> <td> 0.000</td> <td>    0.483</td> <td>    0.580</td>\n",
              "</tr>\n",
              "<tr>\n",
              "  <th>ggroup_1510</th>          <td>    0.0970</td> <td>    0.020</td> <td>    4.819</td> <td> 0.000</td> <td>    0.058</td> <td>    0.137</td>\n",
              "</tr>\n",
              "<tr>\n",
              "  <th>ggroup_2010</th>          <td>   -0.0268</td> <td>    0.015</td> <td>   -1.730</td> <td> 0.084</td> <td>   -0.057</td> <td>    0.004</td>\n",
              "</tr>\n",
              "<tr>\n",
              "  <th>ggroup_2020</th>          <td>    0.0179</td> <td>    0.024</td> <td>    0.735</td> <td> 0.462</td> <td>   -0.030</td> <td>    0.065</td>\n",
              "</tr>\n",
              "<tr>\n",
              "  <th>ggroup_2030</th>          <td>   -0.0386</td> <td>    0.031</td> <td>   -1.255</td> <td> 0.210</td> <td>   -0.099</td> <td>    0.022</td>\n",
              "</tr>\n",
              "<tr>\n",
              "  <th>ggroup_2510</th>          <td>   -0.1623</td> <td>    0.038</td> <td>   -4.238</td> <td> 0.000</td> <td>   -0.237</td> <td>   -0.087</td>\n",
              "</tr>\n",
              "<tr>\n",
              "  <th>ggroup_2520</th>          <td>   -0.1558</td> <td>    0.025</td> <td>   -6.225</td> <td> 0.000</td> <td>   -0.205</td> <td>   -0.107</td>\n",
              "</tr>\n",
              "<tr>\n",
              "  <th>ggroup_2530</th>          <td>    0.0074</td> <td>    0.025</td> <td>    0.297</td> <td> 0.766</td> <td>   -0.041</td> <td>    0.056</td>\n",
              "</tr>\n",
              "<tr>\n",
              "  <th>ggroup_2550</th>          <td>   -0.0955</td> <td>    0.023</td> <td>   -4.096</td> <td> 0.000</td> <td>   -0.141</td> <td>   -0.050</td>\n",
              "</tr>\n",
              "<tr>\n",
              "  <th>ggroup_3010</th>          <td>    0.1168</td> <td>    0.047</td> <td>    2.462</td> <td> 0.014</td> <td>    0.024</td> <td>    0.210</td>\n",
              "</tr>\n",
              "<tr>\n",
              "  <th>ggroup_3020</th>          <td>    0.0893</td> <td>    0.029</td> <td>    3.073</td> <td> 0.002</td> <td>    0.032</td> <td>    0.146</td>\n",
              "</tr>\n",
              "<tr>\n",
              "  <th>ggroup_3030</th>          <td>   -0.0949</td> <td>    0.046</td> <td>   -2.056</td> <td> 0.040</td> <td>   -0.185</td> <td>   -0.004</td>\n",
              "</tr>\n",
              "<tr>\n",
              "  <th>ggroup_3510</th>          <td>    0.0374</td> <td>    0.019</td> <td>    2.004</td> <td> 0.045</td> <td>    0.001</td> <td>    0.074</td>\n",
              "</tr>\n",
              "<tr>\n",
              "  <th>ggroup_3520</th>          <td>   -0.0170</td> <td>    0.019</td> <td>   -0.908</td> <td> 0.364</td> <td>   -0.054</td> <td>    0.020</td>\n",
              "</tr>\n",
              "<tr>\n",
              "  <th>ggroup_4010</th>          <td>   -0.1762</td> <td>    0.027</td> <td>   -6.462</td> <td> 0.000</td> <td>   -0.230</td> <td>   -0.123</td>\n",
              "</tr>\n",
              "<tr>\n",
              "  <th>ggroup_4020</th>          <td>   -0.1208</td> <td>    0.023</td> <td>   -5.261</td> <td> 0.000</td> <td>   -0.166</td> <td>   -0.076</td>\n",
              "</tr>\n",
              "<tr>\n",
              "  <th>ggroup_4030</th>          <td>   -0.0204</td> <td>    0.027</td> <td>   -0.741</td> <td> 0.459</td> <td>   -0.074</td> <td>    0.034</td>\n",
              "</tr>\n",
              "<tr>\n",
              "  <th>ggroup_4510</th>          <td>    0.0016</td> <td>    0.020</td> <td>    0.083</td> <td> 0.934</td> <td>   -0.037</td> <td>    0.040</td>\n",
              "</tr>\n",
              "<tr>\n",
              "  <th>ggroup_4520</th>          <td>   -0.0924</td> <td>    0.022</td> <td>   -4.260</td> <td> 0.000</td> <td>   -0.135</td> <td>   -0.050</td>\n",
              "</tr>\n",
              "<tr>\n",
              "  <th>ggroup_4530</th>          <td>   -0.1421</td> <td>    0.027</td> <td>   -5.346</td> <td> 0.000</td> <td>   -0.194</td> <td>   -0.090</td>\n",
              "</tr>\n",
              "<tr>\n",
              "  <th>ggroup_5010</th>          <td>    0.0159</td> <td>    0.052</td> <td>    0.305</td> <td> 0.760</td> <td>   -0.086</td> <td>    0.118</td>\n",
              "</tr>\n",
              "<tr>\n",
              "  <th>ggroup_5020</th>          <td>   -0.0061</td> <td>    0.029</td> <td>   -0.208</td> <td> 0.835</td> <td>   -0.064</td> <td>    0.051</td>\n",
              "</tr>\n",
              "<tr>\n",
              "  <th>ggroup_5510</th>          <td>    0.0567</td> <td>    0.027</td> <td>    2.089</td> <td> 0.037</td> <td>    0.003</td> <td>    0.110</td>\n",
              "</tr>\n",
              "<tr>\n",
              "  <th>ggroup_6010</th>          <td>    0.0078</td> <td>    0.020</td> <td>    0.385</td> <td> 0.700</td> <td>   -0.032</td> <td>    0.048</td>\n",
              "</tr>\n",
              "<tr>\n",
              "  <th>Total Asset Turnover</th> <td>   -0.0297</td> <td>    0.022</td> <td>   -1.338</td> <td> 0.181</td> <td>   -0.073</td> <td>    0.014</td>\n",
              "</tr>\n",
              "<tr>\n",
              "  <th>ROA</th>                  <td>    0.1169</td> <td>    0.167</td> <td>    0.698</td> <td> 0.485</td> <td>   -0.211</td> <td>    0.445</td>\n",
              "</tr>\n",
              "<tr>\n",
              "  <th>NET PROFIT MARGIN</th>    <td>    0.0202</td> <td>    0.068</td> <td>    0.298</td> <td> 0.766</td> <td>   -0.113</td> <td>    0.153</td>\n",
              "</tr>\n",
              "<tr>\n",
              "  <th>Debt ratio</th>           <td>    0.0685</td> <td>    0.031</td> <td>    2.195</td> <td> 0.028</td> <td>    0.007</td> <td>    0.130</td>\n",
              "</tr>\n",
              "<tr>\n",
              "  <th>Retention Ratio</th>      <td>    0.0008</td> <td>    0.001</td> <td>    0.960</td> <td> 0.337</td> <td>   -0.001</td> <td>    0.003</td>\n",
              "</tr>\n",
              "<tr>\n",
              "  <th>Gross Profit Margin</th>  <td>    0.0724</td> <td>    0.028</td> <td>    2.604</td> <td> 0.009</td> <td>    0.018</td> <td>    0.127</td>\n",
              "</tr>\n",
              "<tr>\n",
              "  <th>Sale/P</th>               <td>    0.0341</td> <td>    0.017</td> <td>    2.017</td> <td> 0.044</td> <td>    0.001</td> <td>    0.067</td>\n",
              "</tr>\n",
              "<tr>\n",
              "  <th>Book/Price</th>           <td>    0.1065</td> <td>    0.027</td> <td>    3.976</td> <td> 0.000</td> <td>    0.054</td> <td>    0.159</td>\n",
              "</tr>\n",
              "<tr>\n",
              "  <th>E/P</th>                  <td>   -0.1260</td> <td>    0.179</td> <td>   -0.704</td> <td> 0.482</td> <td>   -0.477</td> <td>    0.225</td>\n",
              "</tr>\n",
              "<tr>\n",
              "  <th>EBIT/P</th>               <td>    0.0926</td> <td>    0.135</td> <td>    0.688</td> <td> 0.492</td> <td>   -0.171</td> <td>    0.357</td>\n",
              "</tr>\n",
              "<tr>\n",
              "  <th>mktrf</th>                <td>   -0.0192</td> <td>    0.008</td> <td>   -2.322</td> <td> 0.020</td> <td>   -0.035</td> <td>   -0.003</td>\n",
              "</tr>\n",
              "<tr>\n",
              "  <th>smb</th>                  <td>   -0.0193</td> <td>    0.004</td> <td>   -4.507</td> <td> 0.000</td> <td>   -0.028</td> <td>   -0.011</td>\n",
              "</tr>\n",
              "<tr>\n",
              "  <th>hml</th>                  <td>    0.0626</td> <td>    0.009</td> <td>    7.072</td> <td> 0.000</td> <td>    0.045</td> <td>    0.080</td>\n",
              "</tr>\n",
              "</table>\n",
              "<table class=\"simpletable\">\n",
              "<tr>\n",
              "  <th>Omnibus:</th>       <td>447.264</td> <th>  Durbin-Watson:     </th> <td>   1.979</td>\n",
              "</tr>\n",
              "<tr>\n",
              "  <th>Prob(Omnibus):</th> <td> 0.000</td>  <th>  Jarque-Bera (JB):  </th> <td>2698.279</td>\n",
              "</tr>\n",
              "<tr>\n",
              "  <th>Skew:</th>          <td> 0.972</td>  <th>  Prob(JB):          </th> <td>    0.00</td>\n",
              "</tr>\n",
              "<tr>\n",
              "  <th>Kurtosis:</th>      <td> 8.528</td>  <th>  Cond. No.          </th> <td>2.10e+16</td>\n",
              "</tr>\n",
              "</table><br/><br/>Warnings:<br/>[1] Standard Errors assume that the covariance matrix of the errors is correctly specified.<br/>[2] The smallest eigenvalue is 1.96e-28. This might indicate that there are<br/>strong multicollinearity problems or that the design matrix is singular."
            ]
          },
          "metadata": {},
          "execution_count": 68
        }
      ]
    },
    {
      "cell_type": "markdown",
      "source": [
        "The combined regression has an R-squared and an Adjusted R-squared of 0.387 and 0.375 respectively. This means the regressions combined are doing a better job  explaining the stock returns in early 2022 than any of the regressions by its own. The coefficients were slightly affected by combining the regressions, for most their values changed slightly but they remained to have the same sign and same signifigance level. For others there were major changes, like the ROA coefficient which used to be statistically significant around  around 0.83 is now not significant since its p-value is larger than 0.05. On the other hand, the beta coefficient(mktrf) used to be not statistically significant and is now significant since its p-value is less than 0.05. It also has a negative coefficient instead of a positive one which makes more sense than before,since we are expecting firms that are more volatile to the market to have lower returns, therefore the higher the beta the lower the return. The negative coefficient captures that relationship."
      ],
      "metadata": {
        "id": "WT8otPj1T-_i"
      }
    },
    {
      "cell_type": "markdown",
      "source": [
        "Regression Dropping each variable one by one"
      ],
      "metadata": {
        "id": "7YLBEP3S0TGL"
      }
    },
    {
      "cell_type": "code",
      "source": [
        "coefficients=[ 'ggroup_1010', 'ggroup_1510',\n",
        "       'ggroup_2010', 'ggroup_2020', 'ggroup_2030', 'ggroup_2510',\n",
        "       'ggroup_2520', 'ggroup_2530', 'ggroup_2550', 'ggroup_3010',\n",
        "       'ggroup_3020', 'ggroup_3030', 'ggroup_3510', 'ggroup_3520',\n",
        "       'ggroup_4010', 'ggroup_4020', 'ggroup_4030', 'ggroup_4510',\n",
        "       'ggroup_4520', 'ggroup_4530', 'ggroup_5010', 'ggroup_5020',\n",
        "       'ggroup_5510', 'ggroup_6010', 'Total Asset Turnover', 'ROA',\n",
        "       'NET PROFIT MARGIN', 'Debt ratio', 'Retention Ratio',\n",
        "       'Gross Profit Margin', 'Sale/P', 'Book/Price', 'E/P', 'EBIT/P', 'mktrf',\n",
        "       'smb', 'hml']"
      ],
      "metadata": {
        "id": "dnL-rDbRwP2E"
      },
      "execution_count": 69,
      "outputs": []
    },
    {
      "cell_type": "code",
      "source": [
        "coefficients_rsquared=pd.DataFrame()\n",
        "for i in coefficients:\n",
        "  # define x as a subset of original dataframe\n",
        "  x = merged_data.drop(columns=['Ticker','Name ','RetYTD',i])\n",
        "  # define y as a series\n",
        "  y = merged_data['RetYTD']\n",
        "\n",
        "  # pass x as a dataframe, while pass y as a series\n",
        "  results=sm.OLS(y, x).fit()\n",
        "  rsquared_adj=results.rsquared_adj\n",
        "  row={'Column_dropped':i,'adj_rsquared':rsquared_adj}\n",
        "  coefficients_rsquared=coefficients_rsquared.append(row,ignore_index=True)"
      ],
      "metadata": {
        "id": "8wOqBSCrwiNC"
      },
      "execution_count": 70,
      "outputs": []
    },
    {
      "cell_type": "markdown",
      "source": [
        "The table below orders the coefficients in the combined regression based on importance. When the value factor(hml) is droppedm the adjusted r-squared drops the most. The value factor seems to be the most important single variable in explaining the stock returns for early 2022. All of the industry variables are at the end of the table, so they seem to be the least important (on a single basis) in explaining the stock returns for early 2022."
      ],
      "metadata": {
        "id": "ULbTLQ2nPvyT"
      }
    },
    {
      "cell_type": "code",
      "source": [
        "coefficients_rsquared.sort_values(by='adj_rsquared')"
      ],
      "metadata": {
        "colab": {
          "base_uri": "https://localhost:8080/",
          "height": 1000
        },
        "id": "ExDSM9Yu42Y3",
        "outputId": "425ceaa3-2a04-42bc-f3bb-914ba5249fe8"
      },
      "execution_count": 71,
      "outputs": [
        {
          "output_type": "execute_result",
          "data": {
            "text/plain": [
              "          Column_dropped  adj_rsquared\n",
              "36                   hml      0.358073\n",
              "35                   smb      0.368112\n",
              "31            Book/Price      0.369633\n",
              "29   Gross Profit Margin      0.372685\n",
              "34                 mktrf      0.373155\n",
              "27            Debt ratio      0.373348\n",
              "30                Sale/P      0.373602\n",
              "24  Total Asset Turnover      0.374373\n",
              "28       Retention Ratio      0.374666\n",
              "32                   E/P      0.374810\n",
              "25                   ROA      0.374813\n",
              "33                EBIT/P      0.374818\n",
              "26     NET PROFIT MARGIN      0.374948\n",
              "0            ggroup_1010      0.391416\n",
              "19           ggroup_4530      0.395773\n",
              "6            ggroup_2520      0.396074\n",
              "14           ggroup_4010      0.398517\n",
              "15           ggroup_4020      0.398631\n",
              "18           ggroup_4520      0.400529\n",
              "5            ggroup_2510      0.401624\n",
              "8            ggroup_2550      0.403179\n",
              "2            ggroup_2010      0.405021\n",
              "13           ggroup_3520      0.405058\n",
              "23           ggroup_6010      0.407205\n",
              "4            ggroup_2030      0.407612\n",
              "16           ggroup_4030      0.407971\n",
              "11           ggroup_3030      0.408121\n",
              "17           ggroup_4510      0.408508\n",
              "21           ggroup_5020      0.409155\n",
              "7            ggroup_2530      0.409660\n",
              "3            ggroup_2020      0.410071\n",
              "12           ggroup_3510      0.410187\n",
              "22           ggroup_5510      0.411835\n",
              "20           ggroup_5010      0.412485\n",
              "1            ggroup_1510      0.413204\n",
              "10           ggroup_3020      0.413291\n",
              "9            ggroup_3010      0.414140"
            ],
            "text/html": [
              "\n",
              "  <div id=\"df-e190b484-e15c-48fe-ac98-32ddd4968779\">\n",
              "    <div class=\"colab-df-container\">\n",
              "      <div>\n",
              "<style scoped>\n",
              "    .dataframe tbody tr th:only-of-type {\n",
              "        vertical-align: middle;\n",
              "    }\n",
              "\n",
              "    .dataframe tbody tr th {\n",
              "        vertical-align: top;\n",
              "    }\n",
              "\n",
              "    .dataframe thead th {\n",
              "        text-align: right;\n",
              "    }\n",
              "</style>\n",
              "<table border=\"1\" class=\"dataframe\">\n",
              "  <thead>\n",
              "    <tr style=\"text-align: right;\">\n",
              "      <th></th>\n",
              "      <th>Column_dropped</th>\n",
              "      <th>adj_rsquared</th>\n",
              "    </tr>\n",
              "  </thead>\n",
              "  <tbody>\n",
              "    <tr>\n",
              "      <th>36</th>\n",
              "      <td>hml</td>\n",
              "      <td>0.358073</td>\n",
              "    </tr>\n",
              "    <tr>\n",
              "      <th>35</th>\n",
              "      <td>smb</td>\n",
              "      <td>0.368112</td>\n",
              "    </tr>\n",
              "    <tr>\n",
              "      <th>31</th>\n",
              "      <td>Book/Price</td>\n",
              "      <td>0.369633</td>\n",
              "    </tr>\n",
              "    <tr>\n",
              "      <th>29</th>\n",
              "      <td>Gross Profit Margin</td>\n",
              "      <td>0.372685</td>\n",
              "    </tr>\n",
              "    <tr>\n",
              "      <th>34</th>\n",
              "      <td>mktrf</td>\n",
              "      <td>0.373155</td>\n",
              "    </tr>\n",
              "    <tr>\n",
              "      <th>27</th>\n",
              "      <td>Debt ratio</td>\n",
              "      <td>0.373348</td>\n",
              "    </tr>\n",
              "    <tr>\n",
              "      <th>30</th>\n",
              "      <td>Sale/P</td>\n",
              "      <td>0.373602</td>\n",
              "    </tr>\n",
              "    <tr>\n",
              "      <th>24</th>\n",
              "      <td>Total Asset Turnover</td>\n",
              "      <td>0.374373</td>\n",
              "    </tr>\n",
              "    <tr>\n",
              "      <th>28</th>\n",
              "      <td>Retention Ratio</td>\n",
              "      <td>0.374666</td>\n",
              "    </tr>\n",
              "    <tr>\n",
              "      <th>32</th>\n",
              "      <td>E/P</td>\n",
              "      <td>0.374810</td>\n",
              "    </tr>\n",
              "    <tr>\n",
              "      <th>25</th>\n",
              "      <td>ROA</td>\n",
              "      <td>0.374813</td>\n",
              "    </tr>\n",
              "    <tr>\n",
              "      <th>33</th>\n",
              "      <td>EBIT/P</td>\n",
              "      <td>0.374818</td>\n",
              "    </tr>\n",
              "    <tr>\n",
              "      <th>26</th>\n",
              "      <td>NET PROFIT MARGIN</td>\n",
              "      <td>0.374948</td>\n",
              "    </tr>\n",
              "    <tr>\n",
              "      <th>0</th>\n",
              "      <td>ggroup_1010</td>\n",
              "      <td>0.391416</td>\n",
              "    </tr>\n",
              "    <tr>\n",
              "      <th>19</th>\n",
              "      <td>ggroup_4530</td>\n",
              "      <td>0.395773</td>\n",
              "    </tr>\n",
              "    <tr>\n",
              "      <th>6</th>\n",
              "      <td>ggroup_2520</td>\n",
              "      <td>0.396074</td>\n",
              "    </tr>\n",
              "    <tr>\n",
              "      <th>14</th>\n",
              "      <td>ggroup_4010</td>\n",
              "      <td>0.398517</td>\n",
              "    </tr>\n",
              "    <tr>\n",
              "      <th>15</th>\n",
              "      <td>ggroup_4020</td>\n",
              "      <td>0.398631</td>\n",
              "    </tr>\n",
              "    <tr>\n",
              "      <th>18</th>\n",
              "      <td>ggroup_4520</td>\n",
              "      <td>0.400529</td>\n",
              "    </tr>\n",
              "    <tr>\n",
              "      <th>5</th>\n",
              "      <td>ggroup_2510</td>\n",
              "      <td>0.401624</td>\n",
              "    </tr>\n",
              "    <tr>\n",
              "      <th>8</th>\n",
              "      <td>ggroup_2550</td>\n",
              "      <td>0.403179</td>\n",
              "    </tr>\n",
              "    <tr>\n",
              "      <th>2</th>\n",
              "      <td>ggroup_2010</td>\n",
              "      <td>0.405021</td>\n",
              "    </tr>\n",
              "    <tr>\n",
              "      <th>13</th>\n",
              "      <td>ggroup_3520</td>\n",
              "      <td>0.405058</td>\n",
              "    </tr>\n",
              "    <tr>\n",
              "      <th>23</th>\n",
              "      <td>ggroup_6010</td>\n",
              "      <td>0.407205</td>\n",
              "    </tr>\n",
              "    <tr>\n",
              "      <th>4</th>\n",
              "      <td>ggroup_2030</td>\n",
              "      <td>0.407612</td>\n",
              "    </tr>\n",
              "    <tr>\n",
              "      <th>16</th>\n",
              "      <td>ggroup_4030</td>\n",
              "      <td>0.407971</td>\n",
              "    </tr>\n",
              "    <tr>\n",
              "      <th>11</th>\n",
              "      <td>ggroup_3030</td>\n",
              "      <td>0.408121</td>\n",
              "    </tr>\n",
              "    <tr>\n",
              "      <th>17</th>\n",
              "      <td>ggroup_4510</td>\n",
              "      <td>0.408508</td>\n",
              "    </tr>\n",
              "    <tr>\n",
              "      <th>21</th>\n",
              "      <td>ggroup_5020</td>\n",
              "      <td>0.409155</td>\n",
              "    </tr>\n",
              "    <tr>\n",
              "      <th>7</th>\n",
              "      <td>ggroup_2530</td>\n",
              "      <td>0.409660</td>\n",
              "    </tr>\n",
              "    <tr>\n",
              "      <th>3</th>\n",
              "      <td>ggroup_2020</td>\n",
              "      <td>0.410071</td>\n",
              "    </tr>\n",
              "    <tr>\n",
              "      <th>12</th>\n",
              "      <td>ggroup_3510</td>\n",
              "      <td>0.410187</td>\n",
              "    </tr>\n",
              "    <tr>\n",
              "      <th>22</th>\n",
              "      <td>ggroup_5510</td>\n",
              "      <td>0.411835</td>\n",
              "    </tr>\n",
              "    <tr>\n",
              "      <th>20</th>\n",
              "      <td>ggroup_5010</td>\n",
              "      <td>0.412485</td>\n",
              "    </tr>\n",
              "    <tr>\n",
              "      <th>1</th>\n",
              "      <td>ggroup_1510</td>\n",
              "      <td>0.413204</td>\n",
              "    </tr>\n",
              "    <tr>\n",
              "      <th>10</th>\n",
              "      <td>ggroup_3020</td>\n",
              "      <td>0.413291</td>\n",
              "    </tr>\n",
              "    <tr>\n",
              "      <th>9</th>\n",
              "      <td>ggroup_3010</td>\n",
              "      <td>0.414140</td>\n",
              "    </tr>\n",
              "  </tbody>\n",
              "</table>\n",
              "</div>\n",
              "      <button class=\"colab-df-convert\" onclick=\"convertToInteractive('df-e190b484-e15c-48fe-ac98-32ddd4968779')\"\n",
              "              title=\"Convert this dataframe to an interactive table.\"\n",
              "              style=\"display:none;\">\n",
              "        \n",
              "  <svg xmlns=\"http://www.w3.org/2000/svg\" height=\"24px\"viewBox=\"0 0 24 24\"\n",
              "       width=\"24px\">\n",
              "    <path d=\"M0 0h24v24H0V0z\" fill=\"none\"/>\n",
              "    <path d=\"M18.56 5.44l.94 2.06.94-2.06 2.06-.94-2.06-.94-.94-2.06-.94 2.06-2.06.94zm-11 1L8.5 8.5l.94-2.06 2.06-.94-2.06-.94L8.5 2.5l-.94 2.06-2.06.94zm10 10l.94 2.06.94-2.06 2.06-.94-2.06-.94-.94-2.06-.94 2.06-2.06.94z\"/><path d=\"M17.41 7.96l-1.37-1.37c-.4-.4-.92-.59-1.43-.59-.52 0-1.04.2-1.43.59L10.3 9.45l-7.72 7.72c-.78.78-.78 2.05 0 2.83L4 21.41c.39.39.9.59 1.41.59.51 0 1.02-.2 1.41-.59l7.78-7.78 2.81-2.81c.8-.78.8-2.07 0-2.86zM5.41 20L4 18.59l7.72-7.72 1.47 1.35L5.41 20z\"/>\n",
              "  </svg>\n",
              "      </button>\n",
              "      \n",
              "  <style>\n",
              "    .colab-df-container {\n",
              "      display:flex;\n",
              "      flex-wrap:wrap;\n",
              "      gap: 12px;\n",
              "    }\n",
              "\n",
              "    .colab-df-convert {\n",
              "      background-color: #E8F0FE;\n",
              "      border: none;\n",
              "      border-radius: 50%;\n",
              "      cursor: pointer;\n",
              "      display: none;\n",
              "      fill: #1967D2;\n",
              "      height: 32px;\n",
              "      padding: 0 0 0 0;\n",
              "      width: 32px;\n",
              "    }\n",
              "\n",
              "    .colab-df-convert:hover {\n",
              "      background-color: #E2EBFA;\n",
              "      box-shadow: 0px 1px 2px rgba(60, 64, 67, 0.3), 0px 1px 3px 1px rgba(60, 64, 67, 0.15);\n",
              "      fill: #174EA6;\n",
              "    }\n",
              "\n",
              "    [theme=dark] .colab-df-convert {\n",
              "      background-color: #3B4455;\n",
              "      fill: #D2E3FC;\n",
              "    }\n",
              "\n",
              "    [theme=dark] .colab-df-convert:hover {\n",
              "      background-color: #434B5C;\n",
              "      box-shadow: 0px 1px 3px 1px rgba(0, 0, 0, 0.15);\n",
              "      filter: drop-shadow(0px 1px 2px rgba(0, 0, 0, 0.3));\n",
              "      fill: #FFFFFF;\n",
              "    }\n",
              "  </style>\n",
              "\n",
              "      <script>\n",
              "        const buttonEl =\n",
              "          document.querySelector('#df-e190b484-e15c-48fe-ac98-32ddd4968779 button.colab-df-convert');\n",
              "        buttonEl.style.display =\n",
              "          google.colab.kernel.accessAllowed ? 'block' : 'none';\n",
              "\n",
              "        async function convertToInteractive(key) {\n",
              "          const element = document.querySelector('#df-e190b484-e15c-48fe-ac98-32ddd4968779');\n",
              "          const dataTable =\n",
              "            await google.colab.kernel.invokeFunction('convertToInteractive',\n",
              "                                                     [key], {});\n",
              "          if (!dataTable) return;\n",
              "\n",
              "          const docLinkHtml = 'Like what you see? Visit the ' +\n",
              "            '<a target=\"_blank\" href=https://colab.research.google.com/notebooks/data_table.ipynb>data table notebook</a>'\n",
              "            + ' to learn more about interactive tables.';\n",
              "          element.innerHTML = '';\n",
              "          dataTable['output_type'] = 'display_data';\n",
              "          await google.colab.output.renderOutput(dataTable, element);\n",
              "          const docLink = document.createElement('div');\n",
              "          docLink.innerHTML = docLinkHtml;\n",
              "          element.appendChild(docLink);\n",
              "        }\n",
              "      </script>\n",
              "    </div>\n",
              "  </div>\n",
              "  "
            ]
          },
          "metadata": {},
          "execution_count": 71
        }
      ]
    },
    {
      "cell_type": "markdown",
      "source": [
        "Plotting the results"
      ],
      "metadata": {
        "id": "yvrob-UUA7rX"
      }
    },
    {
      "cell_type": "code",
      "source": [
        "coefficients_rsquared=coefficients_rsquared.sort_values(by='adj_rsquared')[:5]\n",
        "sns.barplot(x=\"Column_dropped\", y=\"adj_rsquared\", data=coefficients_rsquared)"
      ],
      "metadata": {
        "colab": {
          "base_uri": "https://localhost:8080/",
          "height": 298
        },
        "id": "n3t57c1tw0Vq",
        "outputId": "1a3c2d5c-4666-4083-af04-bd49d9cd99bb"
      },
      "execution_count": 72,
      "outputs": [
        {
          "output_type": "execute_result",
          "data": {
            "text/plain": [
              "<matplotlib.axes._subplots.AxesSubplot at 0x7f3311897090>"
            ]
          },
          "metadata": {},
          "execution_count": 72
        },
        {
          "output_type": "display_data",
          "data": {
            "text/plain": [
              "<Figure size 432x288 with 1 Axes>"
            ],
            "image/png": "[encoded data removed]"
          },
          "metadata": {
            "needs_background": "light"
          }
        }
      ]
    },
    {
      "cell_type": "code",
      "source": [
        "coefficients_rsquared.sort_values(by='adj_rsquared')"
      ],
      "metadata": {
        "id": "urLEXvCU4NUp",
        "colab": {
          "base_uri": "https://localhost:8080/",
          "height": 206
        },
        "outputId": "5afdf1f1-673a-4ec8-a0bf-2be7f3c345de"
      },
      "execution_count": 73,
      "outputs": [
        {
          "output_type": "execute_result",
          "data": {
            "text/plain": [
              "         Column_dropped  adj_rsquared\n",
              "36                  hml      0.358073\n",
              "35                  smb      0.368112\n",
              "31           Book/Price      0.369633\n",
              "29  Gross Profit Margin      0.372685\n",
              "34                mktrf      0.373155"
            ],
            "text/html": [
              "\n",
              "  <div id=\"df-0e2d4be9-0d5d-41f8-b974-2eb8d986bfda\">\n",
              "    <div class=\"colab-df-container\">\n",
              "      <div>\n",
              "<style scoped>\n",
              "    .dataframe tbody tr th:only-of-type {\n",
              "        vertical-align: middle;\n",
              "    }\n",
              "\n",
              "    .dataframe tbody tr th {\n",
              "        vertical-align: top;\n",
              "    }\n",
              "\n",
              "    .dataframe thead th {\n",
              "        text-align: right;\n",
              "    }\n",
              "</style>\n",
              "<table border=\"1\" class=\"dataframe\">\n",
              "  <thead>\n",
              "    <tr style=\"text-align: right;\">\n",
              "      <th></th>\n",
              "      <th>Column_dropped</th>\n",
              "      <th>adj_rsquared</th>\n",
              "    </tr>\n",
              "  </thead>\n",
              "  <tbody>\n",
              "    <tr>\n",
              "      <th>36</th>\n",
              "      <td>hml</td>\n",
              "      <td>0.358073</td>\n",
              "    </tr>\n",
              "    <tr>\n",
              "      <th>35</th>\n",
              "      <td>smb</td>\n",
              "      <td>0.368112</td>\n",
              "    </tr>\n",
              "    <tr>\n",
              "      <th>31</th>\n",
              "      <td>Book/Price</td>\n",
              "      <td>0.369633</td>\n",
              "    </tr>\n",
              "    <tr>\n",
              "      <th>29</th>\n",
              "      <td>Gross Profit Margin</td>\n",
              "      <td>0.372685</td>\n",
              "    </tr>\n",
              "    <tr>\n",
              "      <th>34</th>\n",
              "      <td>mktrf</td>\n",
              "      <td>0.373155</td>\n",
              "    </tr>\n",
              "  </tbody>\n",
              "</table>\n",
              "</div>\n",
              "      <button class=\"colab-df-convert\" onclick=\"convertToInteractive('df-0e2d4be9-0d5d-41f8-b974-2eb8d986bfda')\"\n",
              "              title=\"Convert this dataframe to an interactive table.\"\n",
              "              style=\"display:none;\">\n",
              "        \n",
              "  <svg xmlns=\"http://www.w3.org/2000/svg\" height=\"24px\"viewBox=\"0 0 24 24\"\n",
              "       width=\"24px\">\n",
              "    <path d=\"M0 0h24v24H0V0z\" fill=\"none\"/>\n",
              "    <path d=\"M18.56 5.44l.94 2.06.94-2.06 2.06-.94-2.06-.94-.94-2.06-.94 2.06-2.06.94zm-11 1L8.5 8.5l.94-2.06 2.06-.94-2.06-.94L8.5 2.5l-.94 2.06-2.06.94zm10 10l.94 2.06.94-2.06 2.06-.94-2.06-.94-.94-2.06-.94 2.06-2.06.94z\"/><path d=\"M17.41 7.96l-1.37-1.37c-.4-.4-.92-.59-1.43-.59-.52 0-1.04.2-1.43.59L10.3 9.45l-7.72 7.72c-.78.78-.78 2.05 0 2.83L4 21.41c.39.39.9.59 1.41.59.51 0 1.02-.2 1.41-.59l7.78-7.78 2.81-2.81c.8-.78.8-2.07 0-2.86zM5.41 20L4 18.59l7.72-7.72 1.47 1.35L5.41 20z\"/>\n",
              "  </svg>\n",
              "      </button>\n",
              "      \n",
              "  <style>\n",
              "    .colab-df-container {\n",
              "      display:flex;\n",
              "      flex-wrap:wrap;\n",
              "      gap: 12px;\n",
              "    }\n",
              "\n",
              "    .colab-df-convert {\n",
              "      background-color: #E8F0FE;\n",
              "      border: none;\n",
              "      border-radius: 50%;\n",
              "      cursor: pointer;\n",
              "      display: none;\n",
              "      fill: #1967D2;\n",
              "      height: 32px;\n",
              "      padding: 0 0 0 0;\n",
              "      width: 32px;\n",
              "    }\n",
              "\n",
              "    .colab-df-convert:hover {\n",
              "      background-color: #E2EBFA;\n",
              "      box-shadow: 0px 1px 2px rgba(60, 64, 67, 0.3), 0px 1px 3px 1px rgba(60, 64, 67, 0.15);\n",
              "      fill: #174EA6;\n",
              "    }\n",
              "\n",
              "    [theme=dark] .colab-df-convert {\n",
              "      background-color: #3B4455;\n",
              "      fill: #D2E3FC;\n",
              "    }\n",
              "\n",
              "    [theme=dark] .colab-df-convert:hover {\n",
              "      background-color: #434B5C;\n",
              "      box-shadow: 0px 1px 3px 1px rgba(0, 0, 0, 0.15);\n",
              "      filter: drop-shadow(0px 1px 2px rgba(0, 0, 0, 0.3));\n",
              "      fill: #FFFFFF;\n",
              "    }\n",
              "  </style>\n",
              "\n",
              "      <script>\n",
              "        const buttonEl =\n",
              "          document.querySelector('#df-0e2d4be9-0d5d-41f8-b974-2eb8d986bfda button.colab-df-convert');\n",
              "        buttonEl.style.display =\n",
              "          google.colab.kernel.accessAllowed ? 'block' : 'none';\n",
              "\n",
              "        async function convertToInteractive(key) {\n",
              "          const element = document.querySelector('#df-0e2d4be9-0d5d-41f8-b974-2eb8d986bfda');\n",
              "          const dataTable =\n",
              "            await google.colab.kernel.invokeFunction('convertToInteractive',\n",
              "                                                     [key], {});\n",
              "          if (!dataTable) return;\n",
              "\n",
              "          const docLinkHtml = 'Like what you see? Visit the ' +\n",
              "            '<a target=\"_blank\" href=https://colab.research.google.com/notebooks/data_table.ipynb>data table notebook</a>'\n",
              "            + ' to learn more about interactive tables.';\n",
              "          element.innerHTML = '';\n",
              "          dataTable['output_type'] = 'display_data';\n",
              "          await google.colab.output.renderOutput(dataTable, element);\n",
              "          const docLink = document.createElement('div');\n",
              "          docLink.innerHTML = docLinkHtml;\n",
              "          element.appendChild(docLink);\n",
              "        }\n",
              "      </script>\n",
              "    </div>\n",
              "  </div>\n",
              "  "
            ]
          },
          "metadata": {},
          "execution_count": 73
        }
      ]
    },
    {
      "cell_type": "markdown",
      "source": [
        "Regression importance"
      ],
      "metadata": {
        "id": "rVIlF31C141M"
      }
    },
    {
      "cell_type": "code",
      "source": [
        "#Creating a dictionary with the regression names as keys and their column names as values\n",
        "regressions_dict={}\n",
        "regressions_dict[\"Risk regressions\"] = ['mktrf', 'smb', 'hml']\n",
        "regressions_dict[\"Financial ratios\"] = ratio_columns\n",
        "regressions_dict[\"Industry dummies\"]=ggroups  "
      ],
      "metadata": {
        "id": "MLjTzI898ZrF"
      },
      "execution_count": 74,
      "outputs": []
    },
    {
      "cell_type": "markdown",
      "source": [
        "Looping through the regressions and dropping them one by one"
      ],
      "metadata": {
        "id": "UtiWMNhpSibh"
      }
    },
    {
      "cell_type": "code",
      "source": [
        "regressions_rsquared=pd.DataFrame()\n",
        "for i in regressions_dict:\n",
        "  # define x as a subset of original dataframe\n",
        "  x = merged_data.drop(columns=['Ticker','Name ','RetYTD']+regressions_dict[i])\n",
        "  x = sm.add_constant(x)\n",
        "  # define y as a series\n",
        "  y = merged_data['RetYTD']\n",
        "\n",
        "  # pass x as a dataframe, while pass y as a series\n",
        "  results=sm.OLS(y, x).fit()\n",
        "  rsquared_adj=results.rsquared_adj\n",
        "  row={'Regression_dropped':i,'adj_rsquared':rsquared_adj}\n",
        "  regressions_rsquared=regressions_rsquared.append(row,ignore_index=True)"
      ],
      "metadata": {
        "id": "bKrAnT4AxFl4",
        "colab": {
          "base_uri": "https://localhost:8080/",
          "height": 0
        },
        "outputId": "a6c5b233-8997-4983-8b8c-bd10b31bf6bc"
      },
      "execution_count": 75,
      "outputs": [
        {
          "output_type": "stream",
          "name": "stderr",
          "text": [
            "/usr/local/lib/python3.7/dist-packages/statsmodels/tsa/tsatools.py:117: FutureWarning: In a future version of pandas all arguments of concat except for the argument 'objs' will be keyword-only\n",
            "  x = pd.concat(x[::order], 1)\n"
          ]
        }
      ]
    },
    {
      "cell_type": "markdown",
      "source": [
        "The table below shows what is the adjusted r-squared for the combined regression when we drop each of the following regressions. I am comparing these to the combined regression I have above with an adjusted r-squared of 0.375."
      ],
      "metadata": {
        "id": "KQCKHlZAY7z1"
      }
    },
    {
      "cell_type": "code",
      "source": [
        "regressions_rsquared"
      ],
      "metadata": {
        "colab": {
          "base_uri": "https://localhost:8080/",
          "height": 143
        },
        "id": "eeBlkSGY0k2Y",
        "outputId": "a4c74e0a-9d60-4c38-d3f6-b6d040b93be6"
      },
      "execution_count": 76,
      "outputs": [
        {
          "output_type": "execute_result",
          "data": {
            "text/plain": [
              "  Regression_dropped  adj_rsquared\n",
              "0   Risk regressions      0.354528\n",
              "1   Financial ratios      0.358114\n",
              "2   Industry dummies      0.123957"
            ],
            "text/html": [
              "\n",
              "  <div id=\"df-456a5009-3b1f-4ea3-9500-6f36c7be9731\">\n",
              "    <div class=\"colab-df-container\">\n",
              "      <div>\n",
              "<style scoped>\n",
              "    .dataframe tbody tr th:only-of-type {\n",
              "        vertical-align: middle;\n",
              "    }\n",
              "\n",
              "    .dataframe tbody tr th {\n",
              "        vertical-align: top;\n",
              "    }\n",
              "\n",
              "    .dataframe thead th {\n",
              "        text-align: right;\n",
              "    }\n",
              "</style>\n",
              "<table border=\"1\" class=\"dataframe\">\n",
              "  <thead>\n",
              "    <tr style=\"text-align: right;\">\n",
              "      <th></th>\n",
              "      <th>Regression_dropped</th>\n",
              "      <th>adj_rsquared</th>\n",
              "    </tr>\n",
              "  </thead>\n",
              "  <tbody>\n",
              "    <tr>\n",
              "      <th>0</th>\n",
              "      <td>Risk regressions</td>\n",
              "      <td>0.354528</td>\n",
              "    </tr>\n",
              "    <tr>\n",
              "      <th>1</th>\n",
              "      <td>Financial ratios</td>\n",
              "      <td>0.358114</td>\n",
              "    </tr>\n",
              "    <tr>\n",
              "      <th>2</th>\n",
              "      <td>Industry dummies</td>\n",
              "      <td>0.123957</td>\n",
              "    </tr>\n",
              "  </tbody>\n",
              "</table>\n",
              "</div>\n",
              "      <button class=\"colab-df-convert\" onclick=\"convertToInteractive('df-456a5009-3b1f-4ea3-9500-6f36c7be9731')\"\n",
              "              title=\"Convert this dataframe to an interactive table.\"\n",
              "              style=\"display:none;\">\n",
              "        \n",
              "  <svg xmlns=\"http://www.w3.org/2000/svg\" height=\"24px\"viewBox=\"0 0 24 24\"\n",
              "       width=\"24px\">\n",
              "    <path d=\"M0 0h24v24H0V0z\" fill=\"none\"/>\n",
              "    <path d=\"M18.56 5.44l.94 2.06.94-2.06 2.06-.94-2.06-.94-.94-2.06-.94 2.06-2.06.94zm-11 1L8.5 8.5l.94-2.06 2.06-.94-2.06-.94L8.5 2.5l-.94 2.06-2.06.94zm10 10l.94 2.06.94-2.06 2.06-.94-2.06-.94-.94-2.06-.94 2.06-2.06.94z\"/><path d=\"M17.41 7.96l-1.37-1.37c-.4-.4-.92-.59-1.43-.59-.52 0-1.04.2-1.43.59L10.3 9.45l-7.72 7.72c-.78.78-.78 2.05 0 2.83L4 21.41c.39.39.9.59 1.41.59.51 0 1.02-.2 1.41-.59l7.78-7.78 2.81-2.81c.8-.78.8-2.07 0-2.86zM5.41 20L4 18.59l7.72-7.72 1.47 1.35L5.41 20z\"/>\n",
              "  </svg>\n",
              "      </button>\n",
              "      \n",
              "  <style>\n",
              "    .colab-df-container {\n",
              "      display:flex;\n",
              "      flex-wrap:wrap;\n",
              "      gap: 12px;\n",
              "    }\n",
              "\n",
              "    .colab-df-convert {\n",
              "      background-color: #E8F0FE;\n",
              "      border: none;\n",
              "      border-radius: 50%;\n",
              "      cursor: pointer;\n",
              "      display: none;\n",
              "      fill: #1967D2;\n",
              "      height: 32px;\n",
              "      padding: 0 0 0 0;\n",
              "      width: 32px;\n",
              "    }\n",
              "\n",
              "    .colab-df-convert:hover {\n",
              "      background-color: #E2EBFA;\n",
              "      box-shadow: 0px 1px 2px rgba(60, 64, 67, 0.3), 0px 1px 3px 1px rgba(60, 64, 67, 0.15);\n",
              "      fill: #174EA6;\n",
              "    }\n",
              "\n",
              "    [theme=dark] .colab-df-convert {\n",
              "      background-color: #3B4455;\n",
              "      fill: #D2E3FC;\n",
              "    }\n",
              "\n",
              "    [theme=dark] .colab-df-convert:hover {\n",
              "      background-color: #434B5C;\n",
              "      box-shadow: 0px 1px 3px 1px rgba(0, 0, 0, 0.15);\n",
              "      filter: drop-shadow(0px 1px 2px rgba(0, 0, 0, 0.3));\n",
              "      fill: #FFFFFF;\n",
              "    }\n",
              "  </style>\n",
              "\n",
              "      <script>\n",
              "        const buttonEl =\n",
              "          document.querySelector('#df-456a5009-3b1f-4ea3-9500-6f36c7be9731 button.colab-df-convert');\n",
              "        buttonEl.style.display =\n",
              "          google.colab.kernel.accessAllowed ? 'block' : 'none';\n",
              "\n",
              "        async function convertToInteractive(key) {\n",
              "          const element = document.querySelector('#df-456a5009-3b1f-4ea3-9500-6f36c7be9731');\n",
              "          const dataTable =\n",
              "            await google.colab.kernel.invokeFunction('convertToInteractive',\n",
              "                                                     [key], {});\n",
              "          if (!dataTable) return;\n",
              "\n",
              "          const docLinkHtml = 'Like what you see? Visit the ' +\n",
              "            '<a target=\"_blank\" href=https://colab.research.google.com/notebooks/data_table.ipynb>data table notebook</a>'\n",
              "            + ' to learn more about interactive tables.';\n",
              "          element.innerHTML = '';\n",
              "          dataTable['output_type'] = 'display_data';\n",
              "          await google.colab.output.renderOutput(dataTable, element);\n",
              "          const docLink = document.createElement('div');\n",
              "          docLink.innerHTML = docLinkHtml;\n",
              "          element.appendChild(docLink);\n",
              "        }\n",
              "      </script>\n",
              "    </div>\n",
              "  </div>\n",
              "  "
            ]
          },
          "metadata": {},
          "execution_count": 76
        }
      ]
    },
    {
      "cell_type": "markdown",
      "source": [
        "Plotting the results"
      ],
      "metadata": {
        "id": "NRbuGANYA3wL"
      }
    },
    {
      "cell_type": "code",
      "source": [
        "sns.barplot(x=\"Regression_dropped\", y=\"adj_rsquared\", data=regressions_rsquared)"
      ],
      "metadata": {
        "colab": {
          "base_uri": "https://localhost:8080/",
          "height": 298
        },
        "id": "4TgkCpQ-55Hs",
        "outputId": "cd890a4e-7241-4d97-8959-e263afc6f206"
      },
      "execution_count": 77,
      "outputs": [
        {
          "output_type": "execute_result",
          "data": {
            "text/plain": [
              "<matplotlib.axes._subplots.AxesSubplot at 0x7f33117e04d0>"
            ]
          },
          "metadata": {},
          "execution_count": 77
        },
        {
          "output_type": "display_data",
          "data": {
            "text/plain": [
              "<Figure size 432x288 with 1 Axes>"
            ],
            "image/png": "[encoded data removed]"
          },
          "metadata": {
            "needs_background": "light"
          }
        }
      ]
    },
    {
      "cell_type": "markdown",
      "source": [
        "The industry variables seem to be the most important since the adj rsquared drops the most when they are removed.\n",
        "The two other groups seem to be explaining some of the variance in the returns but not so much since the adjusted r squared drops about only two percent when they are removed. What is worth noting that when we drop the industry variables one by one from the combined regression, instead of dropping them together the adjusted rsquared actually increases. This means that none of the individual industry variables has a strong explanatory power, they only have it when we combine them together.\n",
        "\n",
        "In conclusion,combining all the regresions seems to be the best option in explaining the stock's return in early 2022. However most of the variance is explained by the industry variables, the financial ratios and risk regressions seem to be adding a small portion of the explanatory power."
      ],
      "metadata": {
        "id": "Thn-2LJ94GSl"
      }
    },
    {
      "cell_type": "code",
      "source": [
        ""
      ],
      "metadata": {
        "id": "TTucW6UBCuoL"
      },
      "execution_count": null,
      "outputs": []
    }
  ]
}